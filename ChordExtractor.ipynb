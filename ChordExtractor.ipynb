{
  "cells": [
    {
      "cell_type": "markdown",
      "metadata": {
        "id": "view-in-github",
        "colab_type": "text"
      },
      "source": [
        "<a href=\"https://colab.research.google.com/github/jessica-aaao/ChordsExtractor/blob/main/ChordExtractor.ipynb\" target=\"_parent\"><img src=\"https://colab.research.google.com/assets/colab-badge.svg\" alt=\"Open In Colab\"/></a>"
      ]
    },
    {
      "cell_type": "markdown",
      "metadata": {
        "id": "qbGwo2vNqudH"
      },
      "source": [
        "# Imports"
      ]
    },
    {
      "cell_type": "code",
      "execution_count": 1,
      "metadata": {
        "colab": {
          "base_uri": "https://localhost:8080/"
        },
        "collapsed": true,
        "id": "QpxATemCRUhB",
        "outputId": "8206d982-bf04-445c-fbde-99dc3c660a1a"
      },
      "outputs": [
        {
          "output_type": "stream",
          "name": "stdout",
          "text": [
            "\u001b[2K     \u001b[90m━━━━━━━━━━━━━━━━━━━━━━━━━━━━━━━━━━━━━━━━\u001b[0m \u001b[32m171.9/171.9 kB\u001b[0m \u001b[31m3.0 MB/s\u001b[0m eta \u001b[36m0:00:00\u001b[0m\n",
            "\u001b[2K   \u001b[90m━━━━━━━━━━━━━━━━━━━━━━━━━━━━━━━━━━━━━━━━\u001b[0m \u001b[32m2.9/2.9 MB\u001b[0m \u001b[31m27.7 MB/s\u001b[0m eta \u001b[36m0:00:00\u001b[0m\n",
            "\u001b[2K   \u001b[90m━━━━━━━━━━━━━━━━━━━━━━━━━━━━━━━━━━━━━━━━\u001b[0m \u001b[32m194.4/194.4 kB\u001b[0m \u001b[31m8.3 MB/s\u001b[0m eta \u001b[36m0:00:00\u001b[0m\n",
            "\u001b[2K   \u001b[90m━━━━━━━━━━━━━━━━━━━━━━━━━━━━━━━━━━━━━━━━\u001b[0m \u001b[32m2.3/2.3 MB\u001b[0m \u001b[31m29.1 MB/s\u001b[0m eta \u001b[36m0:00:00\u001b[0m\n",
            "\u001b[2K   \u001b[90m━━━━━━━━━━━━━━━━━━━━━━━━━━━━━━━━━━━━━━━━\u001b[0m \u001b[32m3.2/3.2 MB\u001b[0m \u001b[31m17.0 MB/s\u001b[0m eta \u001b[36m0:00:00\u001b[0m\n",
            "\u001b[2K     \u001b[90m━━━━━━━━━━━━━━━━━━━━━━━━━━━━━━━━━━━━━━━━\u001b[0m \u001b[32m800.5/800.5 kB\u001b[0m \u001b[31m10.6 MB/s\u001b[0m eta \u001b[36m0:00:00\u001b[0m\n",
            "\u001b[?25h  Installing build dependencies ... \u001b[?25l\u001b[?25hdone\n",
            "  Getting requirements to build wheel ... \u001b[?25l\u001b[?25hdone\n",
            "  Preparing metadata (pyproject.toml) ... \u001b[?25l\u001b[?25hdone\n",
            "\u001b[2K   \u001b[90m━━━━━━━━━━━━━━━━━━━━━━━━━━━━━━━━━━━━━━━━\u001b[0m \u001b[32m1.2/1.2 MB\u001b[0m \u001b[31m34.7 MB/s\u001b[0m eta \u001b[36m0:00:00\u001b[0m\n",
            "\u001b[2K   \u001b[90m━━━━━━━━━━━━━━━━━━━━━━━━━━━━━━━━━━━━━━━━\u001b[0m \u001b[32m363.4/363.4 MB\u001b[0m \u001b[31m2.8 MB/s\u001b[0m eta \u001b[36m0:00:00\u001b[0m\n",
            "\u001b[2K   \u001b[90m━━━━━━━━━━━━━━━━━━━━━━━━━━━━━━━━━━━━━━━━\u001b[0m \u001b[32m13.8/13.8 MB\u001b[0m \u001b[31m82.1 MB/s\u001b[0m eta \u001b[36m0:00:00\u001b[0m\n",
            "\u001b[2K   \u001b[90m━━━━━━━━━━━━━━━━━━━━━━━━━━━━━━━━━━━━━━━━\u001b[0m \u001b[32m24.6/24.6 MB\u001b[0m \u001b[31m71.4 MB/s\u001b[0m eta \u001b[36m0:00:00\u001b[0m\n",
            "\u001b[2K   \u001b[90m━━━━━━━━━━━━━━━━━━━━━━━━━━━━━━━━━━━━━━━━\u001b[0m \u001b[32m883.7/883.7 kB\u001b[0m \u001b[31m45.9 MB/s\u001b[0m eta \u001b[36m0:00:00\u001b[0m\n",
            "\u001b[2K   \u001b[90m━━━━━━━━━━━━━━━━━━━━━━━━━━━━━━━━━━━━━━━━\u001b[0m \u001b[32m664.8/664.8 MB\u001b[0m \u001b[31m2.7 MB/s\u001b[0m eta \u001b[36m0:00:00\u001b[0m\n",
            "\u001b[2K   \u001b[90m━━━━━━━━━━━━━━━━━━━━━━━━━━━━━━━━━━━━━━━━\u001b[0m \u001b[32m211.5/211.5 MB\u001b[0m \u001b[31m4.1 MB/s\u001b[0m eta \u001b[36m0:00:00\u001b[0m\n",
            "\u001b[2K   \u001b[90m━━━━━━━━━━━━━━━━━━━━━━━━━━━━━━━━━━━━━━━━\u001b[0m \u001b[32m56.3/56.3 MB\u001b[0m \u001b[31m11.1 MB/s\u001b[0m eta \u001b[36m0:00:00\u001b[0m\n",
            "\u001b[2K   \u001b[90m━━━━━━━━━━━━━━━━━━━━━━━━━━━━━━━━━━━━━━━━\u001b[0m \u001b[32m127.9/127.9 MB\u001b[0m \u001b[31m7.7 MB/s\u001b[0m eta \u001b[36m0:00:00\u001b[0m\n",
            "\u001b[2K   \u001b[90m━━━━━━━━━━━━━━━━━━━━━━━━━━━━━━━━━━━━━━━━\u001b[0m \u001b[32m207.5/207.5 MB\u001b[0m \u001b[31m6.1 MB/s\u001b[0m eta \u001b[36m0:00:00\u001b[0m\n",
            "\u001b[2K   \u001b[90m━━━━━━━━━━━━━━━━━━━━━━━━━━━━━━━━━━━━━━━━\u001b[0m \u001b[32m21.1/21.1 MB\u001b[0m \u001b[31m47.1 MB/s\u001b[0m eta \u001b[36m0:00:00\u001b[0m\n",
            "\u001b[?25h  Building wheel for openai-whisper (pyproject.toml) ... \u001b[?25l\u001b[?25hdone\n",
            "\u001b[2K     \u001b[90m━━━━━━━━━━━━━━━━━━━━━━━━━━━━━━━━━━━━━━━━\u001b[0m \u001b[32m1.2/1.2 MB\u001b[0m \u001b[31m14.3 MB/s\u001b[0m eta \u001b[36m0:00:00\u001b[0m\n",
            "\u001b[?25h  Preparing metadata (setup.py) ... \u001b[?25l\u001b[?25hdone\n",
            "\u001b[2K     \u001b[90m━━━━━━━━━━━━━━━━━━━━━━━━━━━━━━━━━━━━━━━━\u001b[0m \u001b[32m87.1/87.1 kB\u001b[0m \u001b[31m6.4 MB/s\u001b[0m eta \u001b[36m0:00:00\u001b[0m\n",
            "\u001b[?25h  Installing build dependencies ... \u001b[?25l\u001b[?25hdone\n",
            "  Getting requirements to build wheel ... \u001b[?25l\u001b[?25hdone\n",
            "  Preparing metadata (pyproject.toml) ... \u001b[?25l\u001b[?25hdone\n",
            "\u001b[2K     \u001b[90m━━━━━━━━━━━━━━━━━━━━━━━━━━━━━━━━━━━━━━━━\u001b[0m \u001b[32m59.6/59.6 kB\u001b[0m \u001b[31m4.1 MB/s\u001b[0m eta \u001b[36m0:00:00\u001b[0m\n",
            "\u001b[?25h  Preparing metadata (setup.py) ... \u001b[?25l\u001b[?25hdone\n",
            "  Preparing metadata (setup.py) ... \u001b[?25l\u001b[?25hdone\n",
            "\u001b[2K     \u001b[90m━━━━━━━━━━━━━━━━━━━━━━━━━━━━━━━━━━━━━━━━\u001b[0m \u001b[32m117.0/117.0 kB\u001b[0m \u001b[31m9.1 MB/s\u001b[0m eta \u001b[36m0:00:00\u001b[0m\n",
            "\u001b[?25h  Preparing metadata (setup.py) ... \u001b[?25l\u001b[?25hdone\n",
            "\u001b[2K   \u001b[90m━━━━━━━━━━━━━━━━━━━━━━━━━━━━━━━━━━━━━━━━\u001b[0m \u001b[32m249.7/249.7 kB\u001b[0m \u001b[31m16.2 MB/s\u001b[0m eta \u001b[36m0:00:00\u001b[0m\n",
            "\u001b[2K   \u001b[90m━━━━━━━━━━━━━━━━━━━━━━━━━━━━━━━━━━━━━━━━\u001b[0m \u001b[32m40.0/40.0 kB\u001b[0m \u001b[31m2.7 MB/s\u001b[0m eta \u001b[36m0:00:00\u001b[0m\n",
            "\u001b[2K   \u001b[90m━━━━━━━━━━━━━━━━━━━━━━━━━━━━━━━━━━━━━━━━\u001b[0m \u001b[32m79.5/79.5 kB\u001b[0m \u001b[31m5.9 MB/s\u001b[0m eta \u001b[36m0:00:00\u001b[0m\n",
            "\u001b[2K   \u001b[90m━━━━━━━━━━━━━━━━━━━━━━━━━━━━━━━━━━━━━━━━\u001b[0m \u001b[32m74.9/74.9 kB\u001b[0m \u001b[31m5.6 MB/s\u001b[0m eta \u001b[36m0:00:00\u001b[0m\n",
            "\u001b[?25h  Building wheel for demucs (setup.py) ... \u001b[?25l\u001b[?25hdone\n",
            "  Building wheel for julius (setup.py) ... \u001b[?25l\u001b[?25hdone\n",
            "  Building wheel for dora-search (pyproject.toml) ... \u001b[?25l\u001b[?25hdone\n",
            "  Building wheel for antlr4-python3-runtime (setup.py) ... \u001b[?25l\u001b[?25hdone\n",
            "  Building wheel for treetable (setup.py) ... \u001b[?25l\u001b[?25hdone\n"
          ]
        }
      ],
      "source": [
        "!python3 -m pip install -q -U \"yt-dlp[default]\"\n",
        "!pip install -q -U openai-whisper\n",
        "!pip install -q -U demucs"
      ]
    },
    {
      "cell_type": "code",
      "execution_count": 2,
      "metadata": {
        "id": "iQ6U79pbRWYS"
      },
      "outputs": [],
      "source": [
        "import requests\n",
        "import json\n",
        "import pandas as pd\n",
        "import os\n",
        "import re\n",
        "import unicodedata"
      ]
    },
    {
      "cell_type": "code",
      "execution_count": 3,
      "metadata": {
        "id": "rgEgMc74qzX3"
      },
      "outputs": [],
      "source": [
        "from google.colab import drive\n",
        "from IPython.display import display\n",
        "from bs4 import BeautifulSoup"
      ]
    },
    {
      "cell_type": "code",
      "execution_count": 4,
      "metadata": {
        "colab": {
          "base_uri": "https://localhost:8080/"
        },
        "id": "mx_jyzDgdJKZ",
        "outputId": "24d68d7c-a5fa-4108-c2dd-712175dbe947"
      },
      "outputs": [
        {
          "output_type": "stream",
          "name": "stdout",
          "text": [
            "Cloning into 'lyrics-sync'...\n",
            "remote: Enumerating objects: 26, done.\u001b[K\n",
            "remote: Counting objects: 100% (16/16), done.\u001b[K\n",
            "remote: Compressing objects: 100% (16/16), done.\u001b[K\n",
            "remote: Total 26 (delta 1), reused 2 (delta 0), pack-reused 10 (from 1)\u001b[K\n",
            "Receiving objects: 100% (26/26), 18.88 MiB | 12.96 MiB/s, done.\n",
            "Resolving deltas: 100% (1/1), done.\n",
            "Cloning into 'ISMIR2019-Large-Vocabulary-Chord-Recognition'...\n",
            "remote: Enumerating objects: 152, done.\u001b[K\n",
            "remote: Counting objects: 100% (152/152), done.\u001b[K\n",
            "remote: Compressing objects: 100% (110/110), done.\u001b[K\n",
            "remote: Total 152 (delta 51), reused 135 (delta 40), pack-reused 0 (from 0)\u001b[K\n",
            "Receiving objects: 100% (152/152), 25.74 MiB | 17.47 MiB/s, done.\n",
            "Resolving deltas: 100% (51/51), done.\n"
          ]
        }
      ],
      "source": [
        "!git clone  https://github.com/mikezzb/lyrics-sync.git\n",
        "!git clone https://github.com/filipecalegario/ISMIR2019-Large-Vocabulary-Chord-Recognition.git"
      ]
    },
    {
      "cell_type": "code",
      "execution_count": 5,
      "metadata": {
        "id": "IvbC8R-yVINn",
        "colab": {
          "base_uri": "https://localhost:8080/"
        },
        "outputId": "1f937968-ce0d-4114-f7b4-0a8925c6da9d"
      },
      "outputs": [
        {
          "output_type": "stream",
          "name": "stdout",
          "text": [
            "Drive already mounted at /content/drive; to attempt to forcibly remount, call drive.mount(\"/content/drive\", force_remount=True).\n"
          ]
        }
      ],
      "source": [
        "drive.mount('/content/drive')"
      ]
    },
    {
      "cell_type": "markdown",
      "metadata": {
        "id": "FYsWox4DJ_Mj"
      },
      "source": [
        "# Common"
      ]
    },
    {
      "cell_type": "code",
      "execution_count": 6,
      "metadata": {
        "id": "CWfAcixMKyIY"
      },
      "outputs": [],
      "source": [
        "class SongUrls:\n",
        "    def __init__(self, name, audio, lyrics, chords):\n",
        "        self.name = name\n",
        "        self.audio = audio\n",
        "        self.lyrics = lyrics\n",
        "        self.chords = chords\n",
        "\n",
        "    def get_name(self):\n",
        "        return self.name\n",
        "\n",
        "    def get_audio_url(self):\n",
        "        return self.audio\n",
        "\n",
        "    def get_lyrics_url(self):\n",
        "        return self.lyrics\n",
        "\n",
        "    def get_chords_url(self):\n",
        "        return self.chords"
      ]
    },
    {
      "cell_type": "code",
      "execution_count": 7,
      "metadata": {
        "id": "sFeFJWwCME2b"
      },
      "outputs": [],
      "source": [
        "def get_urls():\n",
        "    \"\"\"\n",
        "    Carrega o arquivo CSV com as infformações das músicas.\n",
        "    \"\"\"\n",
        "    print(f'Fetching urls...\\n\\n')\n",
        "\n",
        "    file_path = '/content/drive/My Drive/TCC/CodeData/songs.csv'\n",
        "    songs = pd.read_csv(file_path)\n",
        "\n",
        "    print(f'Urls fetched!\\n\\n')\n",
        "\n",
        "    return songs"
      ]
    },
    {
      "cell_type": "code",
      "execution_count": 8,
      "metadata": {
        "id": "FT_VGQunKY8t"
      },
      "outputs": [],
      "source": [
        "def get_songs_from_csv():\n",
        "    \"\"\"\n",
        "    Obtém as músicas, letras e cifras, além do nome da música, a partir do arquivo CSV.\n",
        "    \"\"\"\n",
        "    songs = get_urls()\n",
        "\n",
        "    song_urls = []\n",
        "\n",
        "    print(f'Creating SongUrls...\\n\\n')\n",
        "\n",
        "    for index, row in songs.iterrows():\n",
        "        song_name = slugify(row['Song Name'])\n",
        "        audio_url = row['Audio URL']\n",
        "        lyrics_url = row['Lyrics URL']\n",
        "        chords_url = row['Chords URL']\n",
        "\n",
        "        song_urls.append(SongUrls(song_name, audio_url, lyrics_url, chords_url))\n",
        "\n",
        "    print(f'SongUrls created!\\n\\n')\n",
        "\n",
        "    return song_urls\n"
      ]
    },
    {
      "cell_type": "code",
      "execution_count": 9,
      "metadata": {
        "id": "ZXR8z3Hhd0ss"
      },
      "outputs": [],
      "source": [
        "def slugify(raw_song_name):\n",
        "    \"\"\"\n",
        "    Converte o nome da música para um formato que pode ser usado como nome de arquivo.\n",
        "    \"\"\"\n",
        "    song_name = raw_song_name.lower()\n",
        "\n",
        "    song_name = unicodedata.normalize('NFKD', song_name)\n",
        "    song_name = song_name.encode('ascii', 'ignore').decode('ascii')\n",
        "\n",
        "    song_name = re.sub(r'[^a-z0-9]+', '_', song_name)\n",
        "\n",
        "    song_name = song_name.strip('_')\n",
        "\n",
        "    return song_name"
      ]
    },
    {
      "cell_type": "markdown",
      "metadata": {
        "id": "kJQrqqnqj4wS"
      },
      "source": [
        "# Sound"
      ]
    },
    {
      "cell_type": "code",
      "execution_count": 11,
      "metadata": {
        "id": "aeKpjb6Ei6ie"
      },
      "outputs": [],
      "source": [
        "def extract_sound_recording(youtube_url, song_name):\n",
        "    \"\"\"\n",
        "    Extrai o áudio da música a partir do vídeo do YouTube.\n",
        "    \"\"\"\n",
        "    print(f'Extracting audio from {youtube_url}...\\n\\n')\n",
        "\n",
        "    cookies_path = '/content/cookies.txt'\n",
        "    output_path = f\"/content/audios/{song_name}.wav\"\n",
        "\n",
        "    !yt-dlp {youtube_url} --audio-format \"wav\" --cookies {cookies_path} -x -o {output_path}  -q\n",
        "\n",
        "    print(f'Audio saved as {output_path}!\\n\\n')\n",
        "\n",
        "    return output_path\n",
        ""
      ]
    },
    {
      "cell_type": "markdown",
      "metadata": {
        "id": "5Cdywwcfo27T"
      },
      "source": [
        "# Chords"
      ]
    },
    {
      "cell_type": "code",
      "execution_count": 12,
      "metadata": {
        "id": "B8iKgZsddGEF"
      },
      "outputs": [],
      "source": [
        "def extract_chords_from(song_path, song_name):\n",
        "    \"\"\"\n",
        "    Extrai a cifra, com o timestamp, a partir da música\n",
        "    \"\"\"\n",
        "    print(f\"Extracting chords from {song_path}...\\n\\n\")\n",
        "\n",
        "    output_folder = \"/content/chords\"\n",
        "    if not os.path.exists(output_folder):\n",
        "        os.makedirs(output_folder)\n",
        "\n",
        "    output_path = f\"{output_folder}/{song_name}.lab\"\n",
        "\n",
        "    %cd ISMIR2019-Large-Vocabulary-Chord-Recognition\n",
        "    !pip install -q -r requirements.txt\n",
        "    !python chord_recognition.py {song_path} {output_path}\n",
        "    %cd ..\n",
        "\n",
        "    print(f\"Chords extracted to {output_path}!\\n\\n\")\n",
        "\n",
        "    return output_path"
      ]
    },
    {
      "cell_type": "markdown",
      "metadata": {
        "id": "W0z5vOJAozFP"
      },
      "source": [
        "# Lyrics"
      ]
    },
    {
      "cell_type": "markdown",
      "metadata": {
        "id": "ZF78qPq1jThN"
      },
      "source": [
        "## Lyrics Extraction from Webpage"
      ]
    },
    {
      "cell_type": "code",
      "execution_count": 22,
      "metadata": {
        "id": "wL0E4LfVKC2q"
      },
      "outputs": [],
      "source": [
        "def save_to_file(data, song_name):\n",
        "    \"\"\"\n",
        "    Salva a letra em um arquivo de texto.\n",
        "    \"\"\"\n",
        "    folder_path = \"/content/lyrics\"\n",
        "    path = f\"{folder_path}/{song_name}.txt\"\n",
        "\n",
        "    if not os.path.exists(folder_path):\n",
        "        os.makedirs(folder_path)\n",
        "\n",
        "    with open(path, 'w') as file:\n",
        "        file.write(data)\n",
        "\n",
        "    print(f'Saved as {path}')\n",
        "\n",
        "    return path"
      ]
    },
    {
      "cell_type": "code",
      "execution_count": 23,
      "metadata": {
        "id": "_YWO1RLT1tLW"
      },
      "outputs": [],
      "source": [
        "def extract_lyrics_from_html(html):\n",
        "    \"\"\"\n",
        "    Extrai a letra da página HTML fornecida\n",
        "    \"\"\"\n",
        "\n",
        "    print(f'Fetching lyrics...!\\n\\n')\n",
        "\n",
        "    lyricsTag = html.find('div', class_='lyric-original')\n",
        "    lyrics = \"\"\n",
        "\n",
        "    for p in lyricsTag.find_all('p'):\n",
        "        for br in p.find_all('br'):\n",
        "            br.replace_with('\\n')\n",
        "        lyrics += p.get_text() + \"\\n\"\n",
        "\n",
        "    print(f'Lyrics fetched!\\n\\n')\n",
        "\n",
        "    return lyrics\n"
      ]
    },
    {
      "cell_type": "code",
      "execution_count": 24,
      "metadata": {
        "id": "YVcvT6xqo-Mq"
      },
      "outputs": [],
      "source": [
        "def get_lyrics_from_webpage(lyric_url, song_name):\n",
        "    \"\"\"\n",
        "    Obtém a página web e extrai a letra\n",
        "    \"\"\"\n",
        "\n",
        "    print(f'Fetching webpage {lyric_url}...\\n\\n')\n",
        "    response = requests.get(lyric_url)\n",
        "\n",
        "    if response.status_code == 200:\n",
        "        print(f'Webpage fetched!\\n\\n')\n",
        "        htmlContent = BeautifulSoup(response.content, 'html.parser')\n",
        "\n",
        "        lyrics = extract_lyrics_from_html(htmlContent)\n",
        "        lyrics_path = save_to_file(lyrics, song_name)\n",
        "\n",
        "        return lyrics_path\n",
        "    else:\n",
        "        print(f\"Failed to fetch the webpage. Status code: {response.status_code}\\n\\n\")"
      ]
    },
    {
      "cell_type": "markdown",
      "metadata": {
        "id": "CIx3RQ3XjS2s"
      },
      "source": [
        "## Lyrics Sync to Audio"
      ]
    },
    {
      "cell_type": "code",
      "execution_count": 56,
      "metadata": {
        "id": "i3KScyP6anew"
      },
      "outputs": [],
      "source": [
        "def create_output_folder():\n",
        "    \"\"\"\n",
        "    Cria as pastas de resultados para o lyrics-sync\n",
        "    \"\"\"\n",
        "    output_folder = \"/content/lyrics-sync/output\"\n",
        "    vocals_folder = output_folder + \"/vocals\"\n",
        "    words_folder = output_folder + \"/words\"\n",
        "    lrc_folder = output_folder + \"/lrc\"\n",
        "\n",
        "    if not os.path.exists(output_folder):\n",
        "        os.makedirs(output_folder)\n",
        "\n",
        "    if not os.path.exists(vocals_folder):\n",
        "        os.makedirs(vocals_folder)\n",
        "\n",
        "    if not os.path.exists(words_folder):\n",
        "        os.makedirs(words_folder)\n",
        "\n",
        "    if not os.path.exists(lrc_folder):\n",
        "        os.makedirs(lrc_folder)"
      ]
    },
    {
      "cell_type": "code",
      "execution_count": 57,
      "metadata": {
        "id": "US1WTYy9Z6PE"
      },
      "outputs": [],
      "source": [
        "def get_timestamps(audio_path, lyrics_path, song_name):\n",
        "    \"\"\"\n",
        "    Obtém os timestamps das palavras da letra\n",
        "    \"\"\"\n",
        "    print(\"Installing conda...\")\n",
        "    !wget -c https://repo.continuum.io/archive/Anaconda3-2024.10-1-Linux-x86_64.sh\n",
        "    !chmod +x Anaconda3-2024.10-1-Linux-x86_64.sh\n",
        "    !bash ./Anaconda3-2024.10-1-Linux-x86_64.sh -b -f -p /usr/local\n",
        "    print(\"Conda installed!\")\n",
        "\n",
        "    print(\"Installing lsync...\")\n",
        "    %cd /content/lyrics-sync/\n",
        "    !conda env update -f environment.yml\n",
        "    !source activate lsync\n",
        "\n",
        "    print(\"Lsync installed!\")\n",
        "    from lsync import LyricsSync\n",
        "\n",
        "    print(\"Extracting timestamps...\")\n",
        "    lsync = LyricsSync()\n",
        "    words, lrc = lsync.sync(audio_path, lyrics_path)\n",
        "    print(\"Timestamps extracted!\")\n",
        "\n",
        "    return f\"/content/lyrics-sync/output/words/{song_name}.csv\"\n",
        "    %cd .."
      ]
    },
    {
      "cell_type": "code",
      "execution_count": 58,
      "metadata": {
        "id": "8cH5X4rija73"
      },
      "outputs": [],
      "source": [
        "def get_synced_lyrics(lyric_url, audio_path, song_name):\n",
        "    \"\"\"\n",
        "    Obtém a letra sincronizada com o áudio.\n",
        "    \"\"\"\n",
        "\n",
        "    print(f\"Getting synced lyrics...\\n\\n\")\n",
        "\n",
        "    lyrics_path = get_lyrics_from_webpage(lyric_url, song_name)\n",
        "    timestamps_path = get_timestamps(audio_path, lyrics_path, song_name)\n",
        "\n",
        "    print(f\"Synced lyrics ready!\\n\\n\")\n",
        "\n",
        "    return (lyrics_path, timestamps_path)"
      ]
    },
    {
      "cell_type": "markdown",
      "source": [
        "# Chord Sheets"
      ],
      "metadata": {
        "id": "WrS6Ji828vpd"
      }
    },
    {
      "cell_type": "markdown",
      "metadata": {
        "id": "ZDq-tvxzo_Oj"
      },
      "source": [
        "## Chords Sync to Lyrics"
      ]
    },
    {
      "cell_type": "markdown",
      "source": [
        "### Chords Parsing"
      ],
      "metadata": {
        "id": "LkqakhseSzPQ"
      }
    },
    {
      "cell_type": "code",
      "source": [
        "def simplify_chord(chord):\n",
        "    \"\"\"\n",
        "    Simplifica os acordes resconhecidos pelo modelo, para acordes mais comuns\n",
        "    nas cifras.\n",
        "    \"\"\"\n",
        "    chord = chord.replace(\":\", \"\")\n",
        "    chord = chord.replace(\"min\", \"m\")\n",
        "    chord = chord.replace(\"maj\", \"\")\n",
        "    chord = chord.replace(\"hdim7\", \"m7(b5)\")\n",
        "    chord = chord.replace(\"hdim\", \"m7(b5)\")\n",
        "    chord = chord.replace(\"sus4(b7)\", \"7sus4\")\n",
        "\n",
        "    return chord"
      ],
      "metadata": {
        "id": "HpNAI9zNrLWc"
      },
      "execution_count": 13,
      "outputs": []
    },
    {
      "cell_type": "code",
      "source": [
        "def clean_chords(chords):\n",
        "    \"\"\"\n",
        "    Dada uma lista de acordes (ordenados por tempo),\n",
        "    remove repetições imediatas do mesmo acorde.\n",
        "    \"\"\"\n",
        "    if not chords:\n",
        "        return []\n",
        "    result = [chords[0]]\n",
        "\n",
        "    for i in range(1, len(chords)):\n",
        "        current = chords[i]\n",
        "        previous = result[-1]\n",
        "        if current[\"chord\"] != previous[\"chord\"]:\n",
        "            result.append(current)\n",
        "        else:\n",
        "            previous[\"end\"] = current[\"end\"]\n",
        "\n",
        "    return result"
      ],
      "metadata": {
        "id": "4Nioeg8sTF9W"
      },
      "execution_count": 14,
      "outputs": []
    },
    {
      "cell_type": "code",
      "source": [
        "def parse_chords(chords_path):\n",
        "    \"\"\"\n",
        "    Percorre o arquivo .lab, simplifica e extrai os acordes em um dicionário.\n",
        "    \"\"\"\n",
        "    print(f\"Parsing chords from {chords_path}...\")\n",
        "\n",
        "    chords = []\n",
        "    with open(chords_path, 'r', encoding='utf-8') as file:\n",
        "        for line in file:\n",
        "            start, end, chord = line.strip().split('\\t')\n",
        "            if chord == 'N':\n",
        "                continue\n",
        "            chord = simplify_chord(chord)\n",
        "            chords.append({\n",
        "                \"start\": float(start),\n",
        "                \"end\": float(end),\n",
        "                \"chord\": chord\n",
        "            })\n",
        "\n",
        "        print(f\"Chords parsed!\\n\\n\")\n",
        "        print(chords)\n",
        "        return clean_chords(chords)"
      ],
      "metadata": {
        "id": "G3kOVI1iSAax"
      },
      "execution_count": 21,
      "outputs": []
    },
    {
      "cell_type": "markdown",
      "source": [
        "### Lyrics Parsing"
      ],
      "metadata": {
        "id": "b3l19J0kS3al"
      }
    },
    {
      "cell_type": "code",
      "source": [
        "def parse_lyrics(timestamped_lyrics_path, lyrics_path):\n",
        "    \"\"\"\n",
        "    Separa as letras, com timestamps, em linhas, de acordo com o arquivo da\n",
        "    letra extraída pelo web scraping.\n",
        "    \"\"\"\n",
        "    print(f\"Parsing lyrics from {lyrics_path}...\")\n",
        "\n",
        "    timestamped_lyrics = pd.read_csv(timestamped_lyrics_path)\n",
        "    timestamped_per_line = []\n",
        "\n",
        "    with open(lyrics_path, 'r', encoding='utf-8') as file:\n",
        "        for index, line in enumerate(file):\n",
        "            line = line.strip().split()\n",
        "            words_in_line = len(line)\n",
        "\n",
        "            timestamped_words = timestamped_lyrics.iloc[:words_in_line]\n",
        "            timestamped_lyrics = timestamped_lyrics.iloc[words_in_line:]\n",
        "            timestamped_per_line.append([timestamped_words])\n",
        "\n",
        "    print(f'Lyrics Parsed!\\n\\n')\n",
        "\n",
        "    return timestamped_per_line"
      ],
      "metadata": {
        "id": "dIHoieK4S80Z"
      },
      "execution_count": 20,
      "outputs": []
    },
    {
      "cell_type": "markdown",
      "source": [
        "### General"
      ],
      "metadata": {
        "id": "l3BDvl6qSwZV"
      }
    },
    {
      "cell_type": "code",
      "execution_count": 15,
      "metadata": {
        "id": "H6Zb0-udZt-t"
      },
      "outputs": [],
      "source": [
        "def overlay_chords_on_transcribed(lyrics_per_line, chords):\n",
        "    \"\"\"\n",
        "    Associa acordes às palavras da letra com base nos tempos de ACORDES.\n",
        "    \"\"\"\n",
        "    print(f\"Overlaying chords on lyrics...\")\n",
        "\n",
        "    result = []\n",
        "    previous_end = 0\n",
        "    for line_number, line in enumerate(lyrics_per_line):\n",
        "        for df in line:\n",
        "            for index, row in df.iterrows():\n",
        "                start = row[\"start\"]\n",
        "                end = row[\"end\"]\n",
        "                word = row[\"label\"]\n",
        "                chord_start = None\n",
        "                chord_name = None\n",
        "                chord_end = None\n",
        "\n",
        "                if previous_end is not None and start is not None and end is not None:\n",
        "                    for chord_infos in chords:\n",
        "                        chord_info_start = chord_infos[\"start\"]\n",
        "                        chord_info_end = chord_infos[\"end\"]\n",
        "                        chord_info_name = chord_infos[\"chord\"]\n",
        "\n",
        "                        if  start <= chord_info_start <= end:\n",
        "                            chord_name = chord_info_name\n",
        "                            chord_start = chord_info_start\n",
        "                            chord_end = chord_info_end\n",
        "                        elif previous_end <= chord_info_start < start:\n",
        "                            word = f' {word}'\n",
        "                            chord_name = chord_info_name\n",
        "                            chord_start = chord_info_start\n",
        "                            chord_end = chord_info_end\n",
        "\n",
        "                result.append({\n",
        "                    \"word\": word,\n",
        "                    \"start\": start,\n",
        "                    \"end\": end,\n",
        "                    \"chord\": chord_name,\n",
        "                    \"chord_start\": chord_start,\n",
        "                    \"chord_end\": chord_end,\n",
        "                    \"line\": line_number\n",
        "                })\n",
        "                previous_end = end\n",
        "\n",
        "    print(f\"Chords overlayed!\\n\\n\")\n",
        "\n",
        "    return result"
      ]
    },
    {
      "cell_type": "code",
      "source": [
        "def align_chord_over_word(word_info):\n",
        "    \"\"\"\n",
        "    Posiciona o acorde sobre a palavra.\n",
        "    \"\"\"\n",
        "    word = word_info[\"word\"]\n",
        "    word_start = word_info[\"start\"]\n",
        "    word_end = word_info[\"end\"]\n",
        "    chord = word_info[\"chord\"]\n",
        "    chord_start = word_info[\"chord_start\"]\n",
        "    chord_end = word_info[\"chord_end\"]\n",
        "\n",
        "    word_duration = word_end - word_start\n",
        "    ratio = (chord_start - word_start) / word_duration\n",
        "\n",
        "    word_len = len(word)\n",
        "    word_index = int(round(ratio * (word_len - 1)))\n",
        "    word_index = max(0, min(word_index, word_len - 1))\n",
        "\n",
        "    left_padding = \" \" * word_index\n",
        "    chord_with_padding = left_padding + chord\n",
        "\n",
        "    if len(chord_with_padding) < word_len:\n",
        "        chord_with_padding += \" \" * (word_len - len(chord_with_padding))\n",
        "\n",
        "    return chord_with_padding"
      ],
      "metadata": {
        "id": "gCfNfF_RZkkz"
      },
      "execution_count": 16,
      "outputs": []
    },
    {
      "cell_type": "code",
      "execution_count": 17,
      "metadata": {
        "id": "buIiLBaNZxMo"
      },
      "outputs": [],
      "source": [
        "def format_transcribed_with_chords(lyrics_with_chords):\n",
        "    \"\"\"\n",
        "    Gera o formato de saída com acordes acima das palavras.\n",
        "    \"\"\"\n",
        "    formatted_output = []\n",
        "    chord_line = []\n",
        "    lyrics_line = []\n",
        "\n",
        "    current_line = lyrics_with_chords[0][\"line\"]\n",
        "    for word_info in lyrics_with_chords:\n",
        "        if word_info[\"line\"] != current_line:\n",
        "            current_line = word_info[\"line\"]\n",
        "            formatted_output.append(\" \".join(chord_line))\n",
        "            formatted_output.append(\" \".join(lyrics_line))\n",
        "            formatted_output.append(\"\")\n",
        "            chord_line = []\n",
        "            lyrics_line = []\n",
        "\n",
        "        word = word_info[\"word\"]\n",
        "        chord = word_info[\"chord\"]\n",
        "\n",
        "        if chord:\n",
        "            if word == \" \":\n",
        "                chord_line.append(chord)\n",
        "            else:\n",
        "                chord_line.append(align_chord_over_word(word_info))\n",
        "        else:\n",
        "            chord_line.append(\" \" * len(word))\n",
        "\n",
        "        lyrics_line.append(word)\n",
        "\n",
        "    # Adiciona o restante, se existir\n",
        "    if chord_line or lyrics_line:\n",
        "        formatted_output.append(\" \".join(chord_line))\n",
        "        formatted_output.append(\" \".join(lyrics_line))\n",
        "\n",
        "    return \"\\n\".join(formatted_output)"
      ]
    },
    {
      "cell_type": "code",
      "source": [
        "def save_chords_sheet(data, song_name):\n",
        "    \"\"\"\n",
        "    Salva a cifra com acordes em um arquivo de texto.\n",
        "    \"\"\"\n",
        "    print(f\"Saving chord sheet to {song_name}.txt...\")\n",
        "\n",
        "    folder_path = \"/content/chord_sheets\"\n",
        "    path = f\"{folder_path}/{song_name}.txt\"\n",
        "\n",
        "    if not os.path.exists(folder_path):\n",
        "        os.makedirs(folder_path)\n",
        "\n",
        "    with open(path, 'w') as file:\n",
        "        file.write(data)\n",
        "\n",
        "    print(f'Saved as {path}!')\n",
        "\n",
        "    return path"
      ],
      "metadata": {
        "id": "gyRDtdcKT16y"
      },
      "execution_count": 18,
      "outputs": []
    },
    {
      "cell_type": "code",
      "execution_count": 19,
      "metadata": {
        "id": "wLnhceUSZpJk"
      },
      "outputs": [],
      "source": [
        "def format_song_with_chords(timestamped_lyrics_path, lyrics_path, chords_path, song_name):\n",
        "    \"\"\"\n",
        "    Formata a letra com acordes no formato tradicional de cifras.\n",
        "    \"\"\"\n",
        "    lyrics = parse_lyrics(timestamped_lyrics_path, lyrics_path)\n",
        "    chords = parse_chords(chords_path)\n",
        "\n",
        "    lyrics_with_chords = overlay_chords_on_transcribed(lyrics, chords)\n",
        "\n",
        "    # Formatar saída com acordes e palavras\n",
        "    formatted_output = format_transcribed_with_chords(lyrics_with_chords)\n",
        "\n",
        "    save_chords_sheet(formatted_output, song_name)\n",
        "\n",
        "    return formatted_output"
      ]
    },
    {
      "cell_type": "markdown",
      "metadata": {
        "id": "V7o6TxxbfP14"
      },
      "source": [
        "\n",
        "\n",
        "---\n",
        "\n"
      ]
    },
    {
      "cell_type": "markdown",
      "metadata": {
        "id": "biZpsy9MfSIw"
      },
      "source": [
        "# MAIN"
      ]
    },
    {
      "cell_type": "code",
      "execution_count": null,
      "metadata": {
        "colab": {
          "base_uri": "https://localhost:8080/"
        },
        "id": "x7p10hwlSAlw",
        "outputId": "e4891243-2f0a-439c-f163-177c0e488704"
      },
      "outputs": [
        {
          "output_type": "stream",
          "name": "stdout",
          "text": [
            "Fetching urls...\n",
            "\n",
            "\n",
            "Urls fetched!\n",
            "\n",
            "\n",
            "Creating SongUrls...\n",
            "\n",
            "\n",
            "SongUrls created!\n",
            "\n",
            "\n",
            "Generating 'petrolina_juazeiro' chord sheet...\n"
          ]
        }
      ],
      "source": [
        "songs = get_songs_from_csv()\n",
        "chord_sheets = []\n",
        "\n",
        "for song in songs:\n",
        "    song_name = song.get_name().replace(\" \", \"_\")\n",
        "    print(f\"Generating \\'{song_name}\\' chord sheet...\")\n",
        "\n",
        "    song_path = extract_sound_recording(song.get_audio_url(), song_name)\n",
        "    chords_path = extract_chords_from(song_path, song_name)\n",
        "\n",
        "    create_output_folder()\n",
        "    lyrics_path, lyrics_timestamped_path = get_synced_lyrics(song.get_lyrics_url(), song_path, song_name)\n",
        "\n",
        "    formatted_chords = format_song_with_chords(lyrics_timestamped_path, lyrics_path, chords_path, song_name)\n",
        "    chord_sheets.append(formatted_chords)"
      ]
    }
  ],
  "metadata": {
    "colab": {
      "collapsed_sections": [
        "qbGwo2vNqudH",
        "FYsWox4DJ_Mj"
      ],
      "provenance": [],
      "mount_file_id": "1msdkJM5knwy1ej2JoyDhaSCQse9yRLwk",
      "authorship_tag": "ABX9TyNYS6gWYKXbSCsUBoGojkrx",
      "include_colab_link": true
    },
    "kernelspec": {
      "display_name": "Python 3",
      "name": "python3"
    },
    "language_info": {
      "name": "python"
    }
  },
  "nbformat": 4,
  "nbformat_minor": 0
}