{
  "cells": [
    {
      "cell_type": "markdown",
      "metadata": {
        "id": "view-in-github",
        "colab_type": "text"
      },
      "source": [
        "<a href=\"https://colab.research.google.com/github/jessica-aaao/ChordsExtractor/blob/main/ChordExtractor.ipynb\" target=\"_parent\"><img src=\"https://colab.research.google.com/assets/colab-badge.svg\" alt=\"Open In Colab\"/></a>"
      ]
    },
    {
      "cell_type": "markdown",
      "metadata": {
        "id": "qbGwo2vNqudH"
      },
      "source": [
        "# Imports"
      ]
    },
    {
      "cell_type": "code",
      "execution_count": null,
      "metadata": {
        "collapsed": true,
        "id": "QpxATemCRUhB"
      },
      "outputs": [],
      "source": [
        "!python3 -m pip install -q -U \"yt-dlp[default]\"\n",
        "!pip install -q -U openai-whisper\n",
        "!pip install -q -U demucs\n",
        "!pip install -q -U pychord"
      ]
    },
    {
      "cell_type": "code",
      "execution_count": 7,
      "metadata": {
        "id": "iQ6U79pbRWYS"
      },
      "outputs": [],
      "source": [
        "import requests\n",
        "import json\n",
        "import pandas as pd\n",
        "import os\n",
        "import re\n",
        "import unicodedata\n",
        "from difflib import SequenceMatcher\n",
        "from pychord import Chord\n",
        "from collections import Counter"
      ]
    },
    {
      "cell_type": "code",
      "execution_count": 8,
      "metadata": {
        "id": "rgEgMc74qzX3"
      },
      "outputs": [],
      "source": [
        "from google.colab import drive\n",
        "from IPython.display import display\n",
        "from bs4 import BeautifulSoup"
      ]
    },
    {
      "cell_type": "code",
      "execution_count": 9,
      "metadata": {
        "id": "mx_jyzDgdJKZ",
        "colab": {
          "base_uri": "https://localhost:8080/"
        },
        "outputId": "7d765c37-1909-4f00-f501-b14a9bc1206d"
      },
      "outputs": [
        {
          "output_type": "stream",
          "name": "stdout",
          "text": [
            "Cloning into 'lyrics-sync'...\n",
            "remote: Enumerating objects: 26, done.\u001b[K\n",
            "remote: Counting objects: 100% (16/16), done.\u001b[K\n",
            "remote: Compressing objects: 100% (16/16), done.\u001b[K\n",
            "remote: Total 26 (delta 1), reused 2 (delta 0), pack-reused 10 (from 1)\u001b[K\n",
            "Receiving objects: 100% (26/26), 18.88 MiB | 15.46 MiB/s, done.\n",
            "Resolving deltas: 100% (1/1), done.\n",
            "Cloning into 'ISMIR2019-Large-Vocabulary-Chord-Recognition'...\n",
            "remote: Enumerating objects: 152, done.\u001b[K\n",
            "remote: Counting objects: 100% (152/152), done.\u001b[K\n",
            "remote: Compressing objects: 100% (110/110), done.\u001b[K\n",
            "remote: Total 152 (delta 51), reused 135 (delta 40), pack-reused 0 (from 0)\u001b[K\n",
            "Receiving objects: 100% (152/152), 25.74 MiB | 9.49 MiB/s, done.\n",
            "Resolving deltas: 100% (51/51), done.\n"
          ]
        }
      ],
      "source": [
        "!git clone  https://github.com/mikezzb/lyrics-sync.git\n",
        "!git clone https://github.com/filipecalegario/ISMIR2019-Large-Vocabulary-Chord-Recognition.git"
      ]
    },
    {
      "cell_type": "code",
      "execution_count": 10,
      "metadata": {
        "id": "IvbC8R-yVINn",
        "colab": {
          "base_uri": "https://localhost:8080/"
        },
        "outputId": "a3fc3d92-28a2-4be3-b495-af41c1d56b23"
      },
      "outputs": [
        {
          "output_type": "stream",
          "name": "stdout",
          "text": [
            "Drive already mounted at /content/drive; to attempt to forcibly remount, call drive.mount(\"/content/drive\", force_remount=True).\n"
          ]
        }
      ],
      "source": [
        "drive.mount('/content/drive')"
      ]
    },
    {
      "cell_type": "markdown",
      "metadata": {
        "id": "FYsWox4DJ_Mj"
      },
      "source": [
        "# Common"
      ]
    },
    {
      "cell_type": "code",
      "execution_count": 11,
      "metadata": {
        "id": "CWfAcixMKyIY"
      },
      "outputs": [],
      "source": [
        "class SongUrls:\n",
        "    def __init__(self, name, audio, lyrics, chords):\n",
        "        self.name = name\n",
        "        self.audio = audio\n",
        "        self.lyrics = lyrics\n",
        "        self.chords = chords\n",
        "\n",
        "    def get_name(self):\n",
        "        return self.name\n",
        "\n",
        "    def get_audio_url(self):\n",
        "        return self.audio\n",
        "\n",
        "    def get_lyrics_url(self):\n",
        "        return self.lyrics\n",
        "\n",
        "    def get_chords_url(self):\n",
        "        return self.chords"
      ]
    },
    {
      "cell_type": "code",
      "execution_count": 12,
      "metadata": {
        "id": "sFeFJWwCME2b"
      },
      "outputs": [],
      "source": [
        "def get_urls():\n",
        "    \"\"\"\n",
        "    Carrega o arquivo CSV com as infformações das músicas.\n",
        "    \"\"\"\n",
        "    print(f'Fetching urls...\\n\\n')\n",
        "\n",
        "    file_path = '/content/drive/My Drive/TCC/CodeData/songs.csv'\n",
        "    songs = pd.read_csv(file_path)\n",
        "\n",
        "    print(f'Urls fetched!\\n\\n')\n",
        "\n",
        "    return songs"
      ]
    },
    {
      "cell_type": "code",
      "execution_count": 13,
      "metadata": {
        "id": "FT_VGQunKY8t"
      },
      "outputs": [],
      "source": [
        "def get_songs_from_csv():\n",
        "    \"\"\"\n",
        "    Obtém as músicas, letras e cifras, além do nome da música, a partir do arquivo CSV.\n",
        "    \"\"\"\n",
        "    songs = get_urls()\n",
        "\n",
        "    song_urls = []\n",
        "\n",
        "    print(f'Creating SongUrls...\\n\\n')\n",
        "\n",
        "    for index, row in songs.iterrows():\n",
        "        song_name = slugify(row['Song Name'])\n",
        "        audio_url = row['Audio URL']\n",
        "        lyrics_url = row['Lyrics URL']\n",
        "        chords_url = row['Chords URL']\n",
        "\n",
        "        song_urls.append(SongUrls(song_name, audio_url, lyrics_url, chords_url))\n",
        "\n",
        "    print(f'SongUrls created!\\n\\n')\n",
        "\n",
        "    return song_urls\n"
      ]
    },
    {
      "cell_type": "code",
      "execution_count": 14,
      "metadata": {
        "id": "ZXR8z3Hhd0ss"
      },
      "outputs": [],
      "source": [
        "def slugify(raw_song_name):\n",
        "    \"\"\"\n",
        "    Converte o nome da música para um formato que pode ser usado como nome de arquivo.\n",
        "    \"\"\"\n",
        "    song_name = raw_song_name.lower()\n",
        "\n",
        "    song_name = unicodedata.normalize('NFKD', song_name)\n",
        "    song_name = song_name.encode('ascii', 'ignore').decode('ascii')\n",
        "\n",
        "    song_name = re.sub(r'[^a-z0-9]+', '_', song_name)\n",
        "\n",
        "    song_name = song_name.strip('_')\n",
        "\n",
        "    return song_name"
      ]
    },
    {
      "cell_type": "code",
      "execution_count": 15,
      "metadata": {
        "id": "wL0E4LfVKC2q"
      },
      "outputs": [],
      "source": [
        "def save_to_file(data, folder_path, song_name):\n",
        "    \"\"\"\n",
        "    Salva os dados em um arquivo de texto.\n",
        "    \"\"\"\n",
        "    path = f\"{folder_path}/{song_name}.txt\"\n",
        "\n",
        "    if not os.path.exists(folder_path):\n",
        "        os.makedirs(folder_path)\n",
        "\n",
        "    with open(path, 'w') as file:\n",
        "        file.write(data)\n",
        "\n",
        "    print(f'Saved as {path}')\n",
        "\n",
        "    return path"
      ]
    },
    {
      "cell_type": "markdown",
      "metadata": {
        "id": "kJQrqqnqj4wS"
      },
      "source": [
        "# Sound"
      ]
    },
    {
      "cell_type": "code",
      "execution_count": 16,
      "metadata": {
        "id": "aeKpjb6Ei6ie"
      },
      "outputs": [],
      "source": [
        "def extract_sound_recording(youtube_url, song_name):\n",
        "    \"\"\"\n",
        "    Extrai o áudio da música a partir do vídeo do YouTube.\n",
        "    \"\"\"\n",
        "    print(f'Extracting audio from {youtube_url}...\\n\\n')\n",
        "\n",
        "    cookies_path = '/content/cookies.txt'\n",
        "    output_path = f\"/content/audios/{song_name}.wav\"\n",
        "\n",
        "    !yt-dlp {youtube_url} --audio-format \"wav\" --cookies {cookies_path} -x -o {output_path}  -q\n",
        "\n",
        "    print(f'Audio saved as {output_path}!\\n\\n')\n",
        "\n",
        "    return output_path\n"
      ]
    },
    {
      "cell_type": "markdown",
      "metadata": {
        "id": "5Cdywwcfo27T"
      },
      "source": [
        "# Chords"
      ]
    },
    {
      "cell_type": "code",
      "execution_count": 17,
      "metadata": {
        "id": "B8iKgZsddGEF"
      },
      "outputs": [],
      "source": [
        "def extract_chords_from(song_paths, song_names):\n",
        "    \"\"\"\n",
        "    Extrai a cifra, com o timestamp, a partir da música\n",
        "    \"\"\"\n",
        "\n",
        "    output_folder = \"/content/chords\"\n",
        "    if not os.path.exists(output_folder):\n",
        "        os.makedirs(output_folder)\n",
        "\n",
        "    output_paths = []\n",
        "\n",
        "    %cd ISMIR2019-Large-Vocabulary-Chord-Recognition\n",
        "    !pip install -q -r requirements.txt\n",
        "\n",
        "    for song_path, song_name in zip(song_paths, song_names):\n",
        "        print(f\"Extracting chords from {song_path}...\\n\\n\")\n",
        "        output_path = f\"{output_folder}/{song_name}.lab\"\n",
        "        !python chord_recognition.py {song_path} {output_path}\n",
        "        print(f\"Chords extracted to {output_path}!\\n\\n\")\n",
        "\n",
        "        output_paths.append(output_path)\n",
        "\n",
        "    %cd ..\n",
        "\n",
        "    return output_paths"
      ]
    },
    {
      "cell_type": "markdown",
      "metadata": {
        "id": "W0z5vOJAozFP"
      },
      "source": [
        "# Lyrics"
      ]
    },
    {
      "cell_type": "markdown",
      "metadata": {
        "id": "ZF78qPq1jThN"
      },
      "source": [
        "## Lyrics Extraction from Webpage"
      ]
    },
    {
      "cell_type": "code",
      "execution_count": 18,
      "metadata": {
        "id": "_YWO1RLT1tLW"
      },
      "outputs": [],
      "source": [
        "def extract_lyrics_from_html(html):\n",
        "    \"\"\"\n",
        "    Extrai a letra da página HTML fornecida\n",
        "    \"\"\"\n",
        "\n",
        "    print(f'Fetching lyrics...!\\n\\n')\n",
        "\n",
        "    lyricsTag = html.find('div', class_='lyric-original')\n",
        "    lyrics = \"\"\n",
        "\n",
        "    for p in lyricsTag.find_all('p'):\n",
        "        for br in p.find_all('br'):\n",
        "            br.replace_with('\\n')\n",
        "        lyrics += p.get_text() + \"\\n\"\n",
        "\n",
        "    print(f'Lyrics fetched!\\n\\n')\n",
        "\n",
        "    return lyrics\n"
      ]
    },
    {
      "cell_type": "code",
      "execution_count": 19,
      "metadata": {
        "id": "YVcvT6xqo-Mq"
      },
      "outputs": [],
      "source": [
        "def get_lyrics_from_webpage(lyric_urls, song_names):\n",
        "    \"\"\"\n",
        "    Obtém a página web e extrai a letra\n",
        "    \"\"\"\n",
        "\n",
        "    lyrics_paths = []\n",
        "    folder_path = \"/content/lyrics\"\n",
        "\n",
        "    for lyric_url, song_name in zip(lyric_urls, song_names):\n",
        "        print(f'Fetching webpage {lyric_url}...\\n\\n')\n",
        "        response = requests.get(lyric_url)\n",
        "\n",
        "        if response.status_code == 200:\n",
        "            print(f'Webpage fetched!\\n\\n')\n",
        "            htmlContent = BeautifulSoup(response.content, 'html.parser')\n",
        "\n",
        "            lyrics = extract_lyrics_from_html(htmlContent)\n",
        "            lyrics_path = save_to_file(lyrics, folder_path, song_name)\n",
        "\n",
        "            lyrics_paths.append(lyrics_path)\n",
        "        else:\n",
        "            print(f\"Failed to fetch {song_name} webpage. Status code: {response.status_code}\\n\\n\")\n",
        "\n",
        "    return lyrics_paths"
      ]
    },
    {
      "cell_type": "markdown",
      "metadata": {
        "id": "CIx3RQ3XjS2s"
      },
      "source": [
        "## Lyrics Sync to Audio"
      ]
    },
    {
      "cell_type": "code",
      "execution_count": 20,
      "metadata": {
        "id": "i3KScyP6anew"
      },
      "outputs": [],
      "source": [
        "def create_output_folder():\n",
        "    \"\"\"\n",
        "    Cria as pastas de resultados para o lyrics-sync\n",
        "    \"\"\"\n",
        "    output_folder = \"/content/lyrics-sync/output\"\n",
        "    vocals_folder = output_folder + \"/vocals\"\n",
        "    words_folder = output_folder + \"/words\"\n",
        "    lrc_folder = output_folder + \"/lrc\"\n",
        "\n",
        "    if not os.path.exists(output_folder):\n",
        "        os.makedirs(output_folder)\n",
        "\n",
        "    if not os.path.exists(vocals_folder):\n",
        "        os.makedirs(vocals_folder)\n",
        "\n",
        "    if not os.path.exists(words_folder):\n",
        "        os.makedirs(words_folder)\n",
        "\n",
        "    if not os.path.exists(lrc_folder):\n",
        "        os.makedirs(lrc_folder)"
      ]
    },
    {
      "cell_type": "code",
      "execution_count": 21,
      "metadata": {
        "id": "US1WTYy9Z6PE"
      },
      "outputs": [],
      "source": [
        "def get_timestamps(audio_paths, lyrics_paths, song_names):\n",
        "    \"\"\"\n",
        "    Obtém os timestamps das palavras da letra\n",
        "    \"\"\"\n",
        "    print(\"Installing conda...\")\n",
        "    !wget -c https://repo.continuum.io/archive/Anaconda3-2024.10-1-Linux-x86_64.sh\n",
        "    !chmod +x Anaconda3-2024.10-1-Linux-x86_64.sh\n",
        "    !bash ./Anaconda3-2024.10-1-Linux-x86_64.sh -b -f -p /usr/local\n",
        "    print(\"Conda installed!\")\n",
        "\n",
        "    print(\"Installing lsync...\")\n",
        "    %cd lyrics-sync/\n",
        "    !conda env update -f environment.yml\n",
        "    !source activate lsync\n",
        "\n",
        "    print(\"Lsync installed!\")\n",
        "    from lsync import LyricsSync\n",
        "\n",
        "    print(\"Extracting timestamps...\")\n",
        "\n",
        "    lsync = LyricsSync()\n",
        "\n",
        "    timestamps_paths = []\n",
        "\n",
        "    for lyrics_path, audio_path, song_name in zip(lyrics_paths, audio_paths, song_names):\n",
        "        words, lrc = lsync.sync(audio_path, lyrics_path)\n",
        "        words_path = f\"/content/lyrics-sync/output/words/{song_name}.csv\"\n",
        "\n",
        "        timestamps_paths.append(words_path)\n",
        "\n",
        "    print(\"Timestamps extracted!\")\n",
        "\n",
        "    return timestamps_paths\n",
        "    %cd .."
      ]
    },
    {
      "cell_type": "code",
      "execution_count": 22,
      "metadata": {
        "id": "8cH5X4rija73"
      },
      "outputs": [],
      "source": [
        "def get_synced_lyrics(lyric_urls, audio_paths, song_names):\n",
        "    \"\"\"\n",
        "    Obtém a letra sincronizada com o áudio.\n",
        "    \"\"\"\n",
        "\n",
        "    print(f\"Getting synced lyrics...\\n\\n\")\n",
        "\n",
        "    lyrics_paths = get_lyrics_from_webpage(lyric_urls, song_names)\n",
        "    timestamps_paths = get_timestamps(audio_paths, lyrics_paths, song_names)\n",
        "\n",
        "    print(f\"Synced lyrics ready!\\n\\n\")\n",
        "\n",
        "    return (lyrics_paths, timestamps_paths)"
      ]
    },
    {
      "cell_type": "markdown",
      "metadata": {
        "id": "WrS6Ji828vpd"
      },
      "source": [
        "# Chord Sheets"
      ]
    },
    {
      "cell_type": "markdown",
      "metadata": {
        "id": "LkqakhseSzPQ"
      },
      "source": [
        "## Chords Parsing"
      ]
    },
    {
      "cell_type": "code",
      "execution_count": 23,
      "metadata": {
        "id": "HpNAI9zNrLWc"
      },
      "outputs": [],
      "source": [
        "def translate_chord(chord):\n",
        "    \"\"\"\n",
        "    Simplifica os acordes resconhecidos pelo modelo, para acordes mais comuns\n",
        "    nas cifras.\n",
        "    \"\"\"\n",
        "    chord = chord.replace(\":\", \"\")\n",
        "    chord = chord.replace(\"min\", \"m\")\n",
        "    chord = chord.replace(\"maj\", \"\")\n",
        "    chord = chord.replace(\"hdim7\", \"m7(b5)\")\n",
        "    chord = chord.replace(\"hdim\", \"m7(b5)\")\n",
        "    chord = chord.replace(\"sus4(b7)\", \"7sus4\")\n",
        "\n",
        "    return chord"
      ]
    },
    {
      "cell_type": "code",
      "execution_count": 24,
      "metadata": {
        "id": "G3kOVI1iSAax"
      },
      "outputs": [],
      "source": [
        "def parse_chords(chords_path):\n",
        "    \"\"\"\n",
        "    Percorre o arquivo .lab, simplifica e extrai os acordes em um dicionário.\n",
        "    \"\"\"\n",
        "    print(f\"Parsing chords from {chords_path}...\")\n",
        "\n",
        "    chords = []\n",
        "    with open(chords_path, 'r', encoding='utf-8') as file:\n",
        "        for line in file:\n",
        "            start, end, chord = line.strip().split('\\t')\n",
        "            if chord == 'N':\n",
        "                continue\n",
        "            chord = translate_chord(chord)\n",
        "            chords.append({\n",
        "                \"start\": float(start),\n",
        "                \"end\": float(end),\n",
        "                \"chord\": chord\n",
        "            })\n",
        "\n",
        "        print(f\"Chords parsed!\\n\\n\")\n",
        "\n",
        "        return chords"
      ]
    },
    {
      "cell_type": "markdown",
      "metadata": {
        "id": "b3l19J0kS3al"
      },
      "source": [
        "## Lyrics Parsing"
      ]
    },
    {
      "cell_type": "code",
      "execution_count": 25,
      "metadata": {
        "id": "dIHoieK4S80Z"
      },
      "outputs": [],
      "source": [
        "def parse_lyrics(timestamped_lyrics_path, lyrics_path):\n",
        "    \"\"\"\n",
        "    Separa as letras, com timestamps, em linhas, de acordo com o arquivo da\n",
        "    letra extraída pelo web scraping.\n",
        "    \"\"\"\n",
        "    print(f\"Parsing lyrics from {lyrics_path}...\")\n",
        "\n",
        "    timestamped_lyrics = pd.read_csv(timestamped_lyrics_path)\n",
        "    timestamped_per_line = []\n",
        "\n",
        "    with open(lyrics_path, 'r', encoding='utf-8') as file:\n",
        "        for index, line in enumerate(file):\n",
        "            line = line.strip().split()\n",
        "            words_in_line = len(line)\n",
        "\n",
        "            timestamped_words = timestamped_lyrics.iloc[:words_in_line]\n",
        "            timestamped_lyrics = timestamped_lyrics.iloc[words_in_line:]\n",
        "\n",
        "            for df_index, word_info in timestamped_words.iterrows():\n",
        "                start = word_info[\"start\"]\n",
        "                end = word_info[\"end\"]\n",
        "                word = word_info[\"label\"]\n",
        "\n",
        "                timestamped_per_line.append({\n",
        "                    \"word\": word,\n",
        "                    \"start\": start,\n",
        "                    \"end\": end,\n",
        "                    \"line\": index\n",
        "                })\n",
        "\n",
        "    print(f'Lyrics Parsed!\\n\\n')\n",
        "\n",
        "    return timestamped_per_line"
      ]
    },
    {
      "cell_type": "markdown",
      "metadata": {
        "id": "l3BDvl6qSwZV"
      },
      "source": [
        "## General"
      ]
    },
    {
      "cell_type": "code",
      "execution_count": 26,
      "metadata": {
        "id": "gCfNfF_RZkkz"
      },
      "outputs": [],
      "source": [
        "def align_chord_over_word(word_info, chord_info, line_start):\n",
        "    \"\"\"\n",
        "    Posiciona o acorde sobre a palavra.\n",
        "    \"\"\"\n",
        "    word = word_info[\"word\"]\n",
        "    word_start = word_info[\"start\"]\n",
        "    word_end = word_info[\"end\"]\n",
        "    chord = chord_info[\"chord\"]\n",
        "    chord_start = chord_info[\"chord_start\"]\n",
        "\n",
        "    word_duration = word_end - word_start\n",
        "    ratio = (chord_start - word_start) / word_duration\n",
        "\n",
        "    word_len = len(word)\n",
        "    word_index = int(round(ratio * (word_len - 1)))\n",
        "    word_index = max(0, min(word_index, word_len - 1))\n",
        "\n",
        "    chord_position = line_start + word_index\n",
        "\n",
        "    return (chord, chord_position)"
      ]
    },
    {
      "cell_type": "code",
      "execution_count": 27,
      "metadata": {
        "id": "H6Zb0-udZt-t"
      },
      "outputs": [],
      "source": [
        "def overlay_chords_on_transcribed(lyrics_per_line, chords):\n",
        "    \"\"\"\n",
        "    Associa acordes às palavras da letra com base nos tempos de ACORDES.\n",
        "    \"\"\"\n",
        "    print(f\"Overlaying chords on lyrics...\")\n",
        "\n",
        "    result = []\n",
        "    previous_end = None\n",
        "\n",
        "    for word_info in lyrics_per_line:\n",
        "        start = word_info[\"start\"]\n",
        "        end = word_info[\"end\"]\n",
        "        word = word_info[\"word\"]\n",
        "        line_number = word_info[\"line\"]\n",
        "\n",
        "        associated_chords = []\n",
        "\n",
        "        if start is not None and end is not None:\n",
        "            for i in range(len(chords)):\n",
        "                chord_infos = chords[0]\n",
        "                chord_info_start = chord_infos[\"start\"]\n",
        "                chord_info_end = chord_infos[\"end\"]\n",
        "                chord_info_name = chord_infos[\"chord\"]\n",
        "\n",
        "                if chord_info_start > end: # Próxima palavra\n",
        "                    break\n",
        "                elif start <= chord_info_start <= end: # Dentro da palavra\n",
        "                    chord_name = chord_info_name\n",
        "                    chord_start = chord_info_start\n",
        "\n",
        "                    associated_chords.append({\n",
        "                        \"chord\": chord_name,\n",
        "                        \"chord_start\": chord_start\n",
        "                    })\n",
        "                elif previous_end is not None and previous_end < chord_info_start < start: # Entre palavras\n",
        "                    chord_name = chord_info_name\n",
        "                    chord_start = chord_info_start\n",
        "\n",
        "                    result.append({\n",
        "                        \"word\": \" \",\n",
        "                        \"start\": start,\n",
        "                        \"end\": end,\n",
        "                        \"chords\": [{\n",
        "                            \"chord\": chord_name,\n",
        "                            \"chord_start\": chord_start\n",
        "                        }],\n",
        "                        \"line\": line_number\n",
        "                    })\n",
        "                elif chord_info_end >= start: # Antes da palavra\n",
        "                    chord_name = chord_info_name\n",
        "                    chord_start = chord_info_start\n",
        "\n",
        "                    result.append({\n",
        "                        \"word\": \" \",\n",
        "                        \"start\": start,\n",
        "                        \"end\": end,\n",
        "                        \"chords\": [{\n",
        "                            \"chord\": chord_name,\n",
        "                            \"chord_start\": chord_start\n",
        "                        }],\n",
        "                        \"line\": line_number\n",
        "                    })\n",
        "\n",
        "                chords.pop(0)\n",
        "\n",
        "        result.append({\n",
        "            \"word\": word,\n",
        "            \"start\": start,\n",
        "            \"end\": end,\n",
        "            \"chords\": associated_chords,\n",
        "            \"line\": line_number\n",
        "        })\n",
        "\n",
        "        previous_end = end\n",
        "\n",
        "    print(f\"Chords overlayed!\\n\\n\")\n",
        "\n",
        "    return result"
      ]
    },
    {
      "cell_type": "code",
      "execution_count": 28,
      "metadata": {
        "id": "buIiLBaNZxMo"
      },
      "outputs": [],
      "source": [
        "def format_transcribed_with_chords(lyrics_with_chords):\n",
        "    \"\"\"\n",
        "    Gera o formato de saída com acordes acima das palavras.\n",
        "    \"\"\"\n",
        "    formatted_output = []\n",
        "    chord_line = []\n",
        "    lyrics_line = []\n",
        "\n",
        "    current_line = lyrics_with_chords[0][\"line\"]\n",
        "    line_start = 0\n",
        "\n",
        "    for word_info in lyrics_with_chords:\n",
        "        if word_info[\"line\"] != current_line:\n",
        "            current_line = word_info[\"line\"]\n",
        "            formatted_output.append(\"\".join(chord_line))\n",
        "            formatted_output.append(\" \".join(lyrics_line))\n",
        "            formatted_output.append(\"\")\n",
        "\n",
        "            chord_line = []\n",
        "            lyrics_line = []\n",
        "            line_start = 0\n",
        "\n",
        "        word = word_info[\"word\"]\n",
        "        chords = word_info[\"chords\"]\n",
        "        chord_position = None\n",
        "\n",
        "        if chords:\n",
        "            for chord_info in chords:\n",
        "                chord = chord_info[\"chord\"]\n",
        "\n",
        "                if word == \" \":\n",
        "                    chord_line.append(chord)\n",
        "                    line_start += 1\n",
        "                else:\n",
        "                    chord, chord_position = align_chord_over_word(word_info, chord_info, line_start)\n",
        "\n",
        "                    while len(chord_line) < chord_position:\n",
        "                        chord_line.append(\" \")\n",
        "\n",
        "                    if chord_line and chord_line[-1] != \" \":\n",
        "                        chord_line.append(\" \")\n",
        "\n",
        "                    chord_line.append(chord)\n",
        "\n",
        "            line_start += len(word)\n",
        "        else:\n",
        "            chord_line.extend([\" \"] * (len(word)+1))\n",
        "            line_start += len(word)\n",
        "\n",
        "        lyrics_line.append(word)\n",
        "\n",
        "    # Adiciona o restante, se existir\n",
        "    if chord_line or lyrics_line:\n",
        "        formatted_output.append(\"\".join(chord_line))\n",
        "        formatted_output.append(\" \".join(lyrics_line))\n",
        "\n",
        "    return \"\\n\".join(formatted_output)"
      ]
    },
    {
      "cell_type": "code",
      "execution_count": 29,
      "metadata": {
        "id": "gyRDtdcKT16y"
      },
      "outputs": [],
      "source": [
        "def save_chords_sheet(data, song_name):\n",
        "    \"\"\"\n",
        "    Salva a cifra com acordes em um arquivo de texto.\n",
        "    \"\"\"\n",
        "    print(f\"Saving chord sheet to {song_name}.txt...\")\n",
        "\n",
        "    folder_path = \"/content/chord_sheets\"\n",
        "    path = f\"{folder_path}/{song_name}.txt\"\n",
        "\n",
        "    if not os.path.exists(folder_path):\n",
        "        os.makedirs(folder_path)\n",
        "\n",
        "    with open(path, 'w') as file:\n",
        "        file.write(data)\n",
        "\n",
        "    print(f'Saved as {path}!')\n",
        "\n",
        "    return path"
      ]
    },
    {
      "cell_type": "code",
      "execution_count": 30,
      "metadata": {
        "id": "wLnhceUSZpJk"
      },
      "outputs": [],
      "source": [
        "def format_song_with_chords(timestamped_lyrics_paths, lyrics_paths, chords_paths, song_names):\n",
        "    \"\"\"\n",
        "    Formata a letra com acordes no formato tradicional de cifras.\n",
        "    \"\"\"\n",
        "    formatted_chords = []\n",
        "\n",
        "    for timestamped_lyrics_path, lyrics_path, chords_path, song_name in zip(timestamped_lyrics_paths, lyrics_paths, chords_paths, song_names):\n",
        "        lyrics = parse_lyrics(timestamped_lyrics_path, lyrics_path)\n",
        "        chords = parse_chords(chords_path)\n",
        "\n",
        "        lyrics_with_chords = overlay_chords_on_transcribed(lyrics, chords)\n",
        "\n",
        "        formatted_output = format_transcribed_with_chords(lyrics_with_chords)\n",
        "        chord_sheet_path = save_chords_sheet(formatted_output, song_name)\n",
        "\n",
        "        formatted_chords.append(chord_sheet_path)\n",
        "\n",
        "    return formatted_chords"
      ]
    },
    {
      "cell_type": "markdown",
      "metadata": {
        "id": "V7o6TxxbfP14"
      },
      "source": [
        "\n",
        "\n",
        "---\n",
        "\n"
      ]
    },
    {
      "cell_type": "markdown",
      "metadata": {
        "id": "8wG_M9O5-MW6"
      },
      "source": [
        "# Evaluation"
      ]
    },
    {
      "cell_type": "markdown",
      "metadata": {
        "id": "Chej_dtnVpLh"
      },
      "source": [
        "## Cifra Club Webscraping"
      ]
    },
    {
      "cell_type": "code",
      "execution_count": 31,
      "metadata": {
        "id": "7KZelDPnAiJ0"
      },
      "outputs": [],
      "source": [
        "def has_chords(text):\n",
        "    \"\"\"\n",
        "    Verifica se uma linha contém acordes musicais.\n",
        "\n",
        "    Args:\n",
        "        text (str): Linha de texto a ser analisada\n",
        "\n",
        "    Returns:\n",
        "        bool: True se a linha contém acordes, False caso contrário\n",
        "    \"\"\"\n",
        "    # Expressão regular para acordes musicais\n",
        "    chords_pattern = r'\\b([A-G][#b]?(m|maj|min|M|add|sus|dim|aug)?[0-9]*(\\([^)]+\\))?|B7|E7|A7)\\b'\n",
        "\n",
        "    # Verifica se há pelo menos um acorde na linha\n",
        "    if re.search(chords_pattern, text.strip()):\n",
        "        return True\n",
        "    else:\n",
        "        return False"
      ]
    },
    {
      "cell_type": "code",
      "execution_count": 32,
      "metadata": {
        "id": "L5kH26gxuvaT"
      },
      "outputs": [],
      "source": [
        "# Função para remover tablaturas e seções indesejadas, reduzindo múltiplas linhas em branco seguidas\n",
        "def clean_cifraclub_chords(chord_sheets):\n",
        "    # Remover seções como [Tab - Intro] e Parte X de Y\n",
        "    chord_sheets = re.sub(r'\\[.*?\\]\\n?', '', chord_sheets)  # Remove [Tab - Intro], [Intro], etc.\n",
        "    chord_sheets = re.sub(r'Parte \\d+ de \\d+\\n?', '', chord_sheets)  # Remove \"Parte 1 de 3\", etc.\n",
        "\n",
        "    # Dividir o texto em linhas\n",
        "    lines = chord_sheets.split('\\n')\n",
        "\n",
        "    # Reduzir múltiplas linhas em branco seguidas para apenas uma\n",
        "    keep_lines = []\n",
        "    previous_line_is_empty = False\n",
        "\n",
        "    for line in lines:\n",
        "        if re.match(r'^[EBGDAe]\\|', line):  # Verificar se a linha é uma tablatura (começa com E|, B|, G|, etc.)\n",
        "            if keep_lines and keep_lines[-1].split():\n",
        "                keep_lines.pop()\n",
        "                previous_line_is_empty = True\n",
        "        else:\n",
        "            if not line.strip():  # Se a linha estiver em branco\n",
        "                if keep_lines and has_chords(keep_lines[-1]):\n",
        "                    keep_lines.pop()\n",
        "                    previous_line_is_empty = True\n",
        "                if not previous_line_is_empty:  # Se a linha anterior não estiver em branco\n",
        "                    keep_lines.append(line)  # Adiciona a linha em branco\n",
        "                    previous_line_is_empty = True\n",
        "            else:\n",
        "                if keep_lines and has_chords(keep_lines[-1]) and has_chords(line): # Se a linha anterior tiver acordes\n",
        "                    keep_lines.pop()\n",
        "\n",
        "                keep_lines.append(line)\n",
        "                previous_line_is_empty = False\n",
        "\n",
        "    # Juntar as linhas novamente\n",
        "    if has_chords(keep_lines[-1]):\n",
        "        keep_lines.pop()\n",
        "\n",
        "    return '\\n'.join(keep_lines)"
      ]
    },
    {
      "cell_type": "code",
      "execution_count": 33,
      "metadata": {
        "id": "SIH-nHwR-Qj_"
      },
      "outputs": [],
      "source": [
        "def get_chord_sheet_from_webpage(chords_url, song_name):\n",
        "    \"\"\"\n",
        "    Obtém a página web e extrai a cifra\n",
        "    \"\"\"\n",
        "\n",
        "    print(f'Fetching webpage {chords_url}...\\n\\n')\n",
        "    response = requests.get(chords_url)\n",
        "\n",
        "    if response.status_code == 200:\n",
        "        print(f'Webpage fetched!\\n\\n')\n",
        "\n",
        "        htmlContent = BeautifulSoup(response.content, 'html.parser')\n",
        "\n",
        "        cifra_element = htmlContent.find('pre')\n",
        "\n",
        "        if not cifra_element:\n",
        "            print(\"Cifra não encontrada na página.\")\n",
        "            return None\n",
        "\n",
        "        chords = cifra_element.get_text()\n",
        "        chords = clean_cifraclub_chords(chords)\n",
        "        folder_path = \"/content/chords_evaluation\"\n",
        "        chords_path = save_to_file(chords, folder_path, song_name)\n",
        "\n",
        "        return chords_path\n",
        "    else:\n",
        "        print(f\"Failed to fetch the webpage. Status code: {response.status_code}\\n\\n\")"
      ]
    },
    {
      "cell_type": "markdown",
      "metadata": {
        "id": "fOCx9ieUeVBF"
      },
      "source": [
        "## Evaluation"
      ]
    },
    {
      "cell_type": "code",
      "execution_count": 34,
      "metadata": {
        "id": "sx_MMfdYDTRw"
      },
      "outputs": [],
      "source": [
        "# Acordes com inversões e variações - Notação Brasileira (sem \"maj\")\n",
        "chord_inversions = {\n",
        "    # Acordes com terças no baixo (inversões com /3)\n",
        "    'C/3': ['C/E', 'C6/E', 'Cadd9/E'],     # Terça no baixo (E é a terça de C)\n",
        "    'D/3': ['D/F#', 'D6/F#', 'D7/F#'],     # Terça no baixo (F# é a terça de D)\n",
        "    'E/3': ['E/G#', 'E6/G#', 'Eadd9/G#'],  # Terça no baixo (G# é a terça de E)\n",
        "    'F/3': ['F/A', 'F6/A', 'F7/A'],        # Terça no baixo (A é a terça de F)\n",
        "    'G/3': ['G/B', 'G6/B', 'G7/B', 'G4/B'],        # Terça no baixo (B é a terça de G)\n",
        "    'A/3': ['A/C#', 'A6/C#', 'A7/C#'],     # Terça no baixo (C# é a terça de A)\n",
        "    'B/3': ['B/D#', 'B6/D#', 'B7/D#'],     # Terça no baixo (D# é a terça de B)\n",
        "\n",
        "    # Para acordes menores com /3\n",
        "    'Cm/3': ['Cm/Eb', 'Cm6/Eb', 'Cm7/Eb'],  # Terça no baixo (Eb é a terça de Cm)\n",
        "    'Dm/3': ['Dm/F', 'Dm6/F', 'Dm7/F'],     # Terça no baixo (F é a terça de Dm)\n",
        "    'Em/3': ['Em/G', 'Em6/G', 'Em7/G'],     # Terça no baixo (G é a terça de Em)\n",
        "    'Fm/3': ['Fm/Ab', 'Fm6/Ab', 'Fm7/Ab'],  # Terça no baixo (Ab é a terça de Fm)\n",
        "    'Gm/3': ['Gm/Bb', 'Gm6/Bb', 'Gm7/Bb'],  # Terça no baixo (Bb é a terça de Gm)\n",
        "    'Am/3': ['Am/C', 'Am6/C', 'Am7/C'],     # Terça no baixo (C é a terça de Am)\n",
        "    'Bm/3': ['Bm/D', 'Bm6/D', 'Bm7/D'],     # Terça no baixo (D é a terça de Bm)\n",
        "\n",
        "    # Acordes com quintas no baixo (inversões com /5)\n",
        "    'C/5': ['C/G', 'C7/G', 'C6/G'],      # Quinta no baixo (G é a quinta de C)\n",
        "    'D/5': ['D/A', 'D7/A', 'D6/A'],      # Quinta no baixo (A é a quinta de D)\n",
        "    'E/5': ['E/B', 'E7/B', 'E6/B'],      # Quinta no baixo (B é a quinta de E)\n",
        "    'F/5': ['F/C', 'F7/C', 'F6/C'],      # Quinta no baixo (C é a quinta de F)\n",
        "    'G/5': ['G/D', 'G7/D', 'G6/D'],      # Quinta no baixo (D é a quinta de G)\n",
        "    'A/5': ['A/E', 'A7/E', 'A6/E'],      # Quinta no baixo (E é a quinta de A)\n",
        "    'B/5': ['B/F#', 'B7/F#', 'B6/F#'],   # Quinta no baixo (F# é a quinta de B)\n",
        "\n",
        "    # Para acordes menores com /5\n",
        "    'Cm/5': ['Cm/G', 'Cm7/G', 'Cm6/G'],    # Quinta no baixo (G é a quinta de Cm)\n",
        "    'Dm/5': ['Dm/A', 'Dm7/A', 'Dm6/A'],    # Quinta no baixo (A é a quinta de Dm)\n",
        "    'Em/5': ['Em/B', 'Em7/B', 'Em6/B'],    # Quinta no baixo (B é a quinta de Em)\n",
        "    'Fm/5': ['Fm/C', 'Fm7/C', 'Fm6/C'],    # Quinta no baixo (C é a quinta de Fm)\n",
        "    'Gm/5': ['Gm/D', 'Gm7/D', 'Gm6/D'],    # Quinta no baixo (D é a quinta de Gm)\n",
        "    'Am/5': ['Am/E', 'Am7/E', 'Am6/E'],    # Quinta no baixo (E é a quinta de Am)\n",
        "    'Bm/5': ['Bm/F#', 'Bm7/F#', 'Bm6/F#'], # Quinta no baixo (F# é a quinta de Bm)\n",
        "\n",
        "    # Acordes com sétima e /3 no baixo (inversões com sétima e terças)\n",
        "    'C7/3': ['C7/E', 'C9/E'],            # Dominante com sétima e terças no baixo\n",
        "    'D7/3': ['D7/F#', 'D9/F#'],          # Dominante com sétima e terças no baixo\n",
        "    'E7/3': ['E7/G#', 'E9/G#'],          # Dominante com sétima e terças no baixo\n",
        "    'F7/3': ['F7/A', 'F9/A'],            # Dominante com sétima e terças no baixo\n",
        "    'G7/3': ['G7/B', 'G9/B'],            # Dominante com sétima e terças no baixo\n",
        "    'A7/3': ['A7/C#', 'A9/C#'],          # Dominante com sétima e terças no baixo\n",
        "    'B7/3': ['B7/D#', 'B9/D#'],          # Dominante com sétima e terças no baixo\n",
        "\n",
        "    # Menores com sétima e /3 no baixo\n",
        "    'Cm7/3': ['Cm7/Eb', 'Cm9/Eb'],      # Menor com sétima e terças no baixo\n",
        "    'Dm7/3': ['Dm7/F', 'Dm9/F'],        # Menor com sétima e terças no baixo\n",
        "    'Em7/3': ['Em7/G', 'Em9/G'],        # Menor com sétima e terças no baixo\n",
        "    'Fm7/3': ['Fm7/Ab', 'Fm9/Ab'],      # Menor com sétima e terças no baixo\n",
        "    'Gm7/3': ['Gm7/Bb', 'Gm9/Bb'],      # Menor com sétima e terças no baixo\n",
        "    'Am7/3': ['Am7/C', 'Am9/C'],        # Menor com sétima e terças no baixo\n",
        "    'Bm7/3': ['Bm7/D', 'Bm9/D'],        # Menor com sétima e terças no baixo\n",
        "\n",
        "    # Acordes com sétima e /5 no baixo (inversões com sétima e quinta)\n",
        "    'C7/5': ['C7/G', 'C9/G'],            # Dominante com sétima e quinta no baixo\n",
        "    'D7/5': ['D7/A', 'D9/A'],            # Dominante com sétima e quinta no baixo\n",
        "    'E7/5': ['E7/B', 'E9/B'],            # Dominante com sétima e quinta no baixo\n",
        "    'F7/5': ['F7/C', 'F9/C'],            # Dominante com sétima e quinta no baixo\n",
        "    'G7/5': ['G7/D', 'G9/D'],            # Dominante com sétima e quinta no baixo\n",
        "    'A7/5': ['A7/E', 'A9/E'],            # Dominante com sétima e quinta no baixo\n",
        "    'B7/5': ['B7/F#', 'B9/F#'],          # Dominante com sétima e quinta no baixo\n",
        "\n",
        "    # Menores com sétima e quinta no baixo\n",
        "    'Cm7/5': ['Cm7/G', 'Cm9/G'],        # Menor com sétima e quinta no baixo\n",
        "    'Dm7/5': ['Dm7/A', 'Dm9/A'],        # Menor com sétima e quinta no baixo\n",
        "    'Em7/5': ['Em7/B', 'Em9/B'],        # Menor com sétima e quinta no baixo\n",
        "    'Fm7/5': ['Fm7/C', 'Fm9/C'],        # Menor com sétima e quinta no baixo\n",
        "    'Gm7/5': ['Gm7/D', 'Gm9/D'],        # Menor com sétima e quinta no baixo\n",
        "    'Am7/5': ['Am7/E', 'Am9/E'],        # Menor com sétima e quinta no baixo\n",
        "    'Bm7/5': ['Bm7/F#', 'Bm9/F#'],      # Menor com sétima e quinta no baixo\n",
        "}\n",
        "\n",
        "\n",
        "def get_chord_equivalents(chord):\n",
        "    \"\"\"Returns all equivalent voicings for a chord with third in bass\"\"\"\n",
        "    return chord_inversions.get(chord, chord)"
      ]
    },
    {
      "cell_type": "code",
      "source": [
        "def update_chords_with_inversions(generated_chord_sequence, validation_chord_sequence):\n",
        "    \"\"\"\n",
        "    Updates the chords in the generated sequence, replacing those ending with '/3'\n",
        "    by their equivalent chords (inversions with the third in the bass) found in the validation sequence.\n",
        "    \"\"\"\n",
        "    updated_sequence = []\n",
        "\n",
        "    # Iterate through each line of the generated sequence\n",
        "    for generated_line in generated_chord_sequence:\n",
        "        updated_line = []\n",
        "        for chord, position in generated_line:\n",
        "            if chord.endswith('/3'):  # Check if the chord ends with '/3'\n",
        "                # Find the equivalent chords for the '/3' chord\n",
        "                equivalents = get_chord_equivalents(chord)\n",
        "\n",
        "                # Look for the equivalent chords in the validation sequence\n",
        "                found_equivalent = False  # Flag to check if an equivalent is found\n",
        "                for equivalent in equivalents:\n",
        "                    # Check if any of the equivalents exist in the validation sequence\n",
        "                    for validation_line in validation_chord_sequence:\n",
        "                        for validation_chord, _ in validation_line:\n",
        "                            if equivalent == validation_chord:\n",
        "                                # If an equivalent is found, replace the chord\n",
        "                                updated_line.append((equivalent, position))\n",
        "                                found_equivalent = True\n",
        "                                break\n",
        "                    if found_equivalent:\n",
        "                        break\n",
        "\n",
        "                # If no equivalent is found in the validation sequence, keep the original chord\n",
        "                if not found_equivalent:\n",
        "                    updated_line.append((chord, position))\n",
        "            else:\n",
        "                # If it's not a '/3' chord, keep the original chord\n",
        "                updated_line.append((chord, position))\n",
        "\n",
        "        updated_sequence.append(updated_line)\n",
        "\n",
        "    return updated_sequence\n"
      ],
      "metadata": {
        "id": "q9T4TuuJqyMt"
      },
      "execution_count": 35,
      "outputs": []
    },
    {
      "cell_type": "code",
      "source": [
        "def extract_chords_with_positions(chord_sheet):\n",
        "    \"\"\"Extracts chords along with their positions relative to lyrics.\"\"\"\n",
        "    chord_pattern = re.compile(r'([A-G][#b]?(maj7?|min7?|dim|aug|sus\\d?|m|M)?\\d*(\\/\\w+)?(add\\d*)?)')\n",
        "\n",
        "    lines = chord_sheet.split('\\n')\n",
        "    extracted_chords = []\n",
        "\n",
        "    absolute_index = 0\n",
        "\n",
        "    for line in lines:\n",
        "        matches = list(chord_pattern.finditer(line))\n",
        "\n",
        "        if matches:\n",
        "            extracted_chords.append([(match.group(0), match.start() + absolute_index) for match in matches])\n",
        "\n",
        "        absolute_index += len(line) + 1\n",
        "\n",
        "    return extracted_chords"
      ],
      "metadata": {
        "id": "0YIHoInukA6t"
      },
      "execution_count": 36,
      "outputs": []
    },
    {
      "cell_type": "code",
      "source": [
        "def calculate_chords_percentage(comparison, result_unique_chords, validation_unique_chords):\n",
        "    \"\"\"\n",
        "    Calcula a porcentagem de acordes em comum entre duas listas de acordes.\n",
        "    \"\"\"\n",
        "    total_chords = len(result_unique_chords | validation_unique_chords)  # Total de acordes únicos na cifra result\n",
        "\n",
        "    if total_chords == 0:\n",
        "        return 0\n",
        "\n",
        "    common_chords_count = len(comparison)\n",
        "\n",
        "    # A porcentagem de acordes comuns em relação ao total de acordes na cifra result\n",
        "    common_percentage = round((common_chords_count / total_chords) * 100, 2)\n",
        "\n",
        "    return common_percentage"
      ],
      "metadata": {
        "id": "Reop5JJ89QsX"
      },
      "execution_count": 53,
      "outputs": []
    },
    {
      "cell_type": "code",
      "execution_count": 105,
      "metadata": {
        "id": "EUJSghEl5dUX"
      },
      "outputs": [],
      "source": [
        "# Função para normalizar acordes (remover extensões como 7, sus4, etc.)\n",
        "def simplify_chord(chord):\n",
        "    if not chord:\n",
        "        return None\n",
        "    try:\n",
        "        # Usa a biblioteca pychord para extrair a fundamental e o modo\n",
        "        c = Chord(chord)\n",
        "\n",
        "        return f\"{c.root}\"  # Exemplo: \"Gm\" para \"Gm7\" ou \"Gsus4\"\n",
        "    except:\n",
        "        return chord  # Se não for possível normalizar, retorna o acorde original\n"
      ]
    },
    {
      "cell_type": "code",
      "source": [
        "def compare_chord_positions(result_chords, validation_chords, margin=2):\n",
        "    \"\"\"\n",
        "    Compara os acordes de duas cifras considerando uma margem de erro nos índices e levando em conta\n",
        "    as inversões com '/3' nos acordes de result_chords. Retorna um dicionário com a quantidade de posições corretas\n",
        "    (iguais e semelhantes) e a quantidade de posições incorretas (diferentes, faltantes e em excesso).\n",
        "    \"\"\"\n",
        "    correct_positions = 0  # Quantidade de posições corretas (acordes iguais ou semelhantes)\n",
        "    incorrect_positions = 0  # Quantidade de posições incorretas (diferentes, faltantes ou em excesso)\n",
        "\n",
        "    matched_chords = set()   # Guarda acordes de result_chords que encontraram pares\n",
        "\n",
        "    # Comparação dos acordes entre result_chords e validation_chords\n",
        "    for result_list in result_chords:\n",
        "        for result_chord, result_index in result_list:\n",
        "            found_match = False  # Flag para indicar se houve correspondência\n",
        "\n",
        "            for i, validation_list in enumerate(validation_chords):\n",
        "                for validation_chord, validation_index in validation_list:\n",
        "                    if abs(result_index - validation_index) <= margin:  # Comparação dentro da margem\n",
        "                        # Se os acordes forem exatamente iguais\n",
        "                        if result_chord == validation_chord:\n",
        "                            correct_positions += 1\n",
        "                            found_match = True\n",
        "                            matched_chords.add(result_chord)\n",
        "                            break\n",
        "                        # Se os acordes forem equivalentes (mesma raiz) ou similaridade de acorde\n",
        "                        elif simplify_chord(result_chord) == simplify_chord(validation_chord):\n",
        "                            correct_positions += 1\n",
        "                            found_match = True\n",
        "                            matched_chords.add(result_chord)\n",
        "                            break\n",
        "\n",
        "            if not found_match:\n",
        "                incorrect_positions += 1  # Contabiliza como incorreto (não encontrou correspondência)\n",
        "\n",
        "    # Acordes faltantes e em excesso\n",
        "    # Faltantes: Estão em validation_chords, mas não foram pareados com result_chords\n",
        "    # Em excesso: Estão em result_chords, mas não foram pareados com validation_chords\n",
        "    missing_chords = [\n",
        "        (chord, idx) for validation_list in validation_chords for chord, idx in validation_list\n",
        "        if chord not in matched_chords\n",
        "    ]\n",
        "    extra_chords = [\n",
        "        (chord, idx) for result_list in result_chords for chord, idx in result_list\n",
        "        if chord not in matched_chords\n",
        "    ]\n",
        "\n",
        "    # Faltantes e em excesso também são considerados como incorretos\n",
        "    incorrect_positions += len(missing_chords) + len(extra_chords)\n",
        "\n",
        "    percentage = round((correct_positions / (correct_positions + incorrect_positions)) * 100, 2)\n",
        "\n",
        "    return {\n",
        "        \"posicoes_corretas\": correct_positions,\n",
        "        \"posicoes_incorretas\": incorrect_positions\n",
        "    }, percentage"
      ],
      "metadata": {
        "id": "16ZElCLWjIhu"
      },
      "execution_count": 63,
      "outputs": []
    },
    {
      "cell_type": "code",
      "source": [
        "def calculate_percentage_comparison_from_count(count_comparison):\n",
        "    \"\"\"\n",
        "    Calcula a porcentagem de acordes iguais e diferentes, dado o dicionário de contagens comparativas de acordes.\n",
        "    \"\"\"\n",
        "    common_chords_count = 0\n",
        "    different_chords_count = 0\n",
        "    total_chords = 0\n",
        "\n",
        "    # Calculando a quantidade de acordes iguais e diferentes\n",
        "    for chord, (result_count, validation_count) in count_comparison.items():\n",
        "        total_chords += 1\n",
        "\n",
        "        if result_count == validation_count:\n",
        "            common_chords_count += 1  # Acordes iguais\n",
        "        else:\n",
        "            different_chords_count += 1  # Acordes diferentes\n",
        "\n",
        "    if total_chords == 0:\n",
        "        return {\n",
        "            \"equal_percentage\": 0,\n",
        "            \"different_percentage\": 0\n",
        "        }\n",
        "\n",
        "    equal_percentage = round((common_chords_count / total_chords) * 100, 2)\n",
        "    different_percentage = round((different_chords_count / total_chords) * 100, 2)\n",
        "\n",
        "    return {\n",
        "        \"equal_percentage\": equal_percentage,\n",
        "        \"different_percentage\": different_percentage\n",
        "    }"
      ],
      "metadata": {
        "id": "swsv_LBe4AhZ"
      },
      "execution_count": 51,
      "outputs": []
    },
    {
      "cell_type": "code",
      "source": [
        "def sequence_diff(generated_chord_sequence, validation_chord_sequence):\n",
        "    \"\"\"Compares two sequences and highlights similarities and differences.\"\"\"\n",
        "    generated_simplified = [simplify_chord(chord) for chord in generated_chord_sequence]\n",
        "    validation_simplified = [simplify_chord(chord) for chord in validation_chord_sequence]\n",
        "\n",
        "    matcher = SequenceMatcher(None, generated_simplified, validation_simplified)\n",
        "\n",
        "    diff_result = {\n",
        "        \"sequências\": [],\n",
        "        \"substituições\": [],\n",
        "        \"exclusões\": [],\n",
        "        \"inserções\": [],\n",
        "        \"porcentagem_iguais\": 0,\n",
        "        \"porcentagem_diferentes\": 0\n",
        "    }\n",
        "\n",
        "    total_sequences = 0\n",
        "    equal_count = 0\n",
        "    different_count = 0\n",
        "\n",
        "    for tag, i1, i2, j1, j2 in matcher.get_opcodes():\n",
        "        total_sequences += 1  # Cada operação é uma sequência\n",
        "\n",
        "        if tag == 'equal':\n",
        "            seq = generated_chord_sequence[i1:i2]\n",
        "            diff_result[\"sequências\"].append(seq)\n",
        "            equal_count += 1\n",
        "        elif tag == 'replace':\n",
        "            seq = {\n",
        "                \"cifra gerada\": generated_chord_sequence[i1:i2],\n",
        "                \"cifra validacao\": validation_chord_sequence[j1:j2]\n",
        "            }\n",
        "            diff_result[\"substituições\"].append(seq)\n",
        "            different_count += 1\n",
        "        elif tag == 'delete':\n",
        "            seq = generated_chord_sequence[i1:i2]\n",
        "            diff_result[\"exclusões\"].append(seq)\n",
        "            different_count += 1\n",
        "        elif tag == 'insert':\n",
        "            seq = validation_chord_sequence[j1:j2]\n",
        "            diff_result[\"inserções\"].append(seq)\n",
        "            different_count += 1\n",
        "\n",
        "    if total_sequences > 0:\n",
        "        diff_result[\"porcentagem_iguais\"] = round((equal_count / total_sequences) * 100, 2)\n",
        "        diff_result[\"porcentagem_diferentes\"] = round((different_count / total_sequences) * 100, 2)\n",
        "\n",
        "\n",
        "    return diff_result\n"
      ],
      "metadata": {
        "id": "hI0Hscgn-LDc"
      },
      "execution_count": 50,
      "outputs": []
    },
    {
      "cell_type": "code",
      "source": [
        "def calculate_chords_count_errors(result_chords, validation_chords):\n",
        "    result_total_chords = len(result_chords)\n",
        "    validation_total_chords = len(validation_chords)\n",
        "\n",
        "    total = result_total_chords + validation_total_chords\n",
        "\n",
        "    media = round((abs(result_total_chords - validation_total_chords)/total) * 100 , 2)\n",
        "\n",
        "    return media\n",
        ""
      ],
      "metadata": {
        "id": "-k-V0MVxhIPB"
      },
      "execution_count": 64,
      "outputs": []
    },
    {
      "cell_type": "code",
      "source": [
        "def compare_chords(result_path, chords_evaluation_path):\n",
        "    with open(result_path, 'r', encoding='utf-8') as file:\n",
        "        result_sheet = file.read()\n",
        "    with open(chords_evaluation_path, 'r', encoding='utf-8') as file:\n",
        "        validation_sheet = file.read()\n",
        "\n",
        "    \"\"\"Compares two chord sheets based on extracted chords.\"\"\"\n",
        "    result_chords = extract_chords_with_positions(result_sheet)\n",
        "    validation_chords = extract_chords_with_positions(validation_sheet)\n",
        "\n",
        "    result_chords = update_chords_with_inversions(result_chords, validation_chords)\n",
        "\n",
        "    result_chords_flat = [chord for line in result_chords for chord, _ in line]\n",
        "    validation_chords_flat = [chord for line in validation_chords for chord, _ in line]\n",
        "\n",
        "    count_error_media = calculate_chords_count_errors(result_chords_flat, validation_chords_flat)\n",
        "\n",
        "    result_chords_count = Counter(result_chords_flat)\n",
        "    validation_chords_count = Counter(validation_chords_flat)\n",
        "\n",
        "    result_unique_chords = set(result_chords_flat)\n",
        "    validation_unique_chords = set(validation_chords_flat)\n",
        "\n",
        "    common_chords = result_unique_chords & validation_unique_chords\n",
        "    common_chords_percentage = calculate_chords_percentage(common_chords, result_unique_chords, validation_unique_chords)\n",
        "\n",
        "    only_on_result = result_unique_chords - validation_unique_chords\n",
        "    only_on_result_percentage = calculate_chords_percentage(only_on_result, result_unique_chords, validation_unique_chords)\n",
        "\n",
        "    only_on_validation = validation_unique_chords - result_unique_chords\n",
        "    only_on_validation_percentage = calculate_chords_percentage(only_on_validation, result_unique_chords, validation_unique_chords)\n",
        "\n",
        "    positions_comparison, positions_comparison_percentage = compare_chord_positions(result_chords, validation_chords)\n",
        "\n",
        "    count_comparison = {chord: (result_chords_count[chord], validation_chords_count.get(chord, 0)) for chord in result_unique_chords | validation_unique_chords}\n",
        "    count_comparison_percentage = calculate_percentage_comparison_from_count(count_comparison)\n",
        "\n",
        "    sequence_diff_result = sequence_diff(result_chords_flat, validation_chords_flat)\n",
        "\n",
        "    return {\n",
        "        \"Diferença de Quantidade Gerada (%)\": count_error_media,\n",
        "        \"Acordes em Comum\": common_chords,\n",
        "        \"Acordes em Comum (%)\": common_chords_percentage,\n",
        "        \"Só na Cifra Gerada\": only_on_result,\n",
        "        \"Só na Cifra Gerada (%)\": only_on_result_percentage,\n",
        "        \"Só na Cifra de Validação\": only_on_validation,\n",
        "        \"Só na Cifra de Validação (%)\": only_on_validation_percentage,\n",
        "        \"Acordes com Contagem\": count_comparison,\n",
        "        \"Acordes com Contagem Igual (%)\": count_comparison_percentage[\"equal_percentage\"],\n",
        "        \"Posições dos Acordes\": positions_comparison,\n",
        "        \"Posições Iguais dos Acordes (%)\": positions_comparison_percentage,\n",
        "        \"Sequências\": sequence_diff_result,\n",
        "        \"Sequências Iguais (%)\": sequence_diff_result[\"porcentagem_iguais\"]\n",
        "    }\n"
      ],
      "metadata": {
        "id": "RYZCHIfqARU_"
      },
      "execution_count": 92,
      "outputs": []
    },
    {
      "cell_type": "markdown",
      "source": [
        "## General Analysis"
      ],
      "metadata": {
        "id": "887LEPLtcfSB"
      }
    },
    {
      "cell_type": "code",
      "source": [
        "import numpy as np\n",
        "from tabulate import tabulate\n",
        "\n",
        "def calculate_general_averages(chords_data):\n",
        "    \"\"\"\n",
        "    Calculate general averages for the analyzed chord data.\n",
        "    \"\"\"\n",
        "\n",
        "    metrics = [\n",
        "        \"Diferença de Quantidade Gerada (%)\",\n",
        "        \"Acordes em Comum (%)\",\n",
        "        \"Só na Cifra Gerada (%)\",\n",
        "        \"Só na Cifra de Validação (%)\",\n",
        "        \"Acordes com Contagem Igual (%)\",\n",
        "        \"Posições Iguais dos Acordes (%)\",\n",
        "        \"Sequências Iguais (%)\"\n",
        "    ]\n",
        "\n",
        "    results = {metric: [] for metric in metrics}\n",
        "\n",
        "    for chord in chords_data:\n",
        "        for metric in metrics:\n",
        "            parts = metric.split(\".\")\n",
        "            value = chord\n",
        "            for part in parts:\n",
        "                value = value.get(part, 0) if isinstance(value, dict) else 0\n",
        "            results[metric].append(value)\n",
        "\n",
        "    statistics = []\n",
        "    for metric, values in results.items():\n",
        "        statistics.append([metric, round(np.mean(values), 2), round(np.std(values), 2)])\n",
        "\n",
        "    headers = [\"Metric\", \"Average (%)\", \"Standard Deviation (%)\"]\n",
        "    table = tabulate(statistics, headers=headers, tablefmt=\"pretty\")\n",
        "\n",
        "    print(table)\n"
      ],
      "metadata": {
        "id": "OvuaiUVVZz6i"
      },
      "execution_count": 85,
      "outputs": []
    },
    {
      "cell_type": "code",
      "source": [
        "from collections import Counter\n",
        "from tabulate import tabulate\n",
        "\n",
        "def analyze_exclusive_chords(chords_data):\n",
        "    \"\"\"\n",
        "    Analyze the distribution of chords that appear exclusively in either the generated or validation sequences.\n",
        "\n",
        "    This function calculates:\n",
        "    - The most frequent chords appearing only in the generated sequences.\n",
        "    - The most frequent chords appearing only in the validation sequences.\n",
        "    - Patterns in exclusive chord appearances.\n",
        "    \"\"\"\n",
        "\n",
        "    only_on_result_counter = Counter()\n",
        "    only_on_validation_counter = Counter()\n",
        "\n",
        "    for chord in chords_data:\n",
        "        only_on_result_counter.update(chord.get(\"Só na Cifra Gerada\", []))\n",
        "        only_on_validation_counter.update(chord.get(\"Só na Cifra de Validação\", []))\n",
        "\n",
        "    # Find the most frequent exclusive chords\n",
        "    top_result_chords = only_on_result_counter.most_common(10)  # Top 10 chords only in generated sequences\n",
        "    top_validation_chords = only_on_validation_counter.most_common(10)  # Top 10 chords only in validation sequences\n",
        "\n",
        "    # Identify chords that appear frequently in only one category\n",
        "    frequently_exclusive_chords = {\n",
        "        \"only_on_result\": [chord for chord, count in only_on_result_counter.items() if count > 5],  # Threshold > 5\n",
        "        \"only_on_validation\": [chord for chord, count in only_on_validation_counter.items() if count > 5]\n",
        "    }\n",
        "\n",
        "    # Format the results as tables\n",
        "    result_table = tabulate(top_result_chords, headers=[\"Chord (Generated Only)\", \"Frequency\"], tablefmt=\"pretty\")\n",
        "    validation_table = tabulate(top_validation_chords, headers=[\"Chord (Validation Only)\", \"Frequency\"], tablefmt=\"pretty\")\n",
        "\n",
        "    print(\"Acordes Mais Frequentes (Só Geradas):\\n\", result_table)\n",
        "    print(\"Acordes Mais Frequentes (Só Validação):\\n\", validation_table)"
      ],
      "metadata": {
        "id": "NUFdCq9Si95N"
      },
      "execution_count": 95,
      "outputs": []
    },
    {
      "cell_type": "code",
      "source": [
        "import numpy as np\n",
        "from tabulate import tabulate\n",
        "\n",
        "def analyze_sequence_differences(chords_data):\n",
        "    \"\"\"\n",
        "    Analyzes sequence differences across multiple analyzed chord data.\n",
        "\n",
        "    This function calculates:\n",
        "    - The average percentage of identical sequences.\n",
        "    - The average percentage of different sequences.\n",
        "    - The total count of substitutions, deletions, and insertions.\n",
        "    - Identifies whether insertions or deletions are the dominant errors.\n",
        "    \"\"\"\n",
        "\n",
        "    identical_percentages = []\n",
        "    different_percentages = []\n",
        "    total_substitutions = 0\n",
        "    total_deletions = 0\n",
        "    total_insertions = 0\n",
        "\n",
        "    for data in chords_data:\n",
        "        seq_diff = data.get(\"Sequências\", {})\n",
        "\n",
        "        identical_percentages.append(seq_diff.get(\"porcentagem_iguais\", 0))\n",
        "        different_percentages.append(seq_diff.get(\"porcentagem_diferentes\", 0))\n",
        "\n",
        "        total_substitutions += len(seq_diff.get(\"substituições\", []))\n",
        "        total_deletions += len(seq_diff.get(\"exclusões\", []))\n",
        "        total_insertions += len(seq_diff.get(\"inserções\", []))\n",
        "\n",
        "    # Calculate averages\n",
        "    avg_identical = round(np.mean(identical_percentages), 2) if identical_percentages else 0\n",
        "    avg_different = round(np.mean(different_percentages), 2) if different_percentages else 0\n",
        "\n",
        "    # Determine the dominant error type\n",
        "    dominant_error = \"Inserções\" if total_insertions > total_deletions else \"Exclusões\"\n",
        "\n",
        "    # Format the results in a table\n",
        "    table_data = [\n",
        "        [\"Média de Sequências Iguais (%)\", avg_identical],\n",
        "        [\"Média de Sequências Diferentes (%)\", avg_different],\n",
        "        [\"Total de Substituições\", total_substitutions],\n",
        "        [\"Total de Exclusões\", total_deletions],\n",
        "        [\"Total de Inserções\", total_insertions],\n",
        "        [\"Tipo de Erro Dominante\", dominant_error]\n",
        "    ]\n",
        "\n",
        "    print(tabulate(table_data, headers=[\"Metric\", \"Value\"], tablefmt=\"pretty\"))"
      ],
      "metadata": {
        "id": "24IimyJkoC88"
      },
      "execution_count": 86,
      "outputs": []
    },
    {
      "cell_type": "markdown",
      "metadata": {
        "id": "biZpsy9MfSIw"
      },
      "source": [
        "# MAIN"
      ]
    },
    {
      "cell_type": "code",
      "execution_count": null,
      "metadata": {
        "collapsed": true,
        "id": "x7p10hwlSAlw"
      },
      "outputs": [],
      "source": [
        "songs = get_songs_from_csv()\n",
        "\n",
        "song_names = []\n",
        "song_paths = []\n",
        "lyrics_urls = []\n",
        "chord_sheets = []\n",
        "evaluation_paths = []\n",
        "\n",
        "for song in songs:\n",
        "    song_name = song.get_name().replace(\" \", \"_\")\n",
        "    song_names.append(song_name)\n",
        "\n",
        "    song_path = extract_sound_recording(song.get_audio_url(), song_name)\n",
        "    song_paths.append(song_path)\n",
        "\n",
        "    lyrics_urls.append(song.get_lyrics_url())\n",
        "\n",
        "    evaluation_path = get_chord_sheet_from_webpage(song.get_chords_url(), song_name)\n",
        "    evaluation_paths.append(evaluation_path)\n",
        "\n",
        "chords_paths = extract_chords_from(song_paths, song_names)\n",
        "\n",
        "create_output_folder()\n",
        "lyrics_paths, lyrics_timestamped_paths = get_synced_lyrics(lyrics_urls, song_paths, song_names)\n",
        "\n",
        "chord_sheets = format_song_with_chords(lyrics_timestamped_paths, lyrics_paths, chords_paths, song_names)"
      ]
    },
    {
      "cell_type": "code",
      "source": [
        "# songs = get_songs_from_csv()\n",
        "\n",
        "# song_names = []\n",
        "# chord_sheets = []\n",
        "# evaluation_paths = []\n",
        "# lyrics_paths = []\n",
        "# lyrics_timestamped_paths = []\n",
        "# chords_paths = []\n",
        "\n",
        "# for song in songs:\n",
        "#     song_name = song.get_name().replace(\" \", \"_\")\n",
        "#     song_names.append(song_name)\n",
        "\n",
        "#     evaluation_path = get_chord_sheet_from_webpage(song.get_chords_url(), song_name)\n",
        "#     evaluation_paths.append(evaluation_path)\n",
        "\n",
        "#     chords_paths.append(f\"/content/content/chords/{song_name}.lab\")\n",
        "#     lyrics_paths.append(f\"/content/content/lyrics/{song_name}.txt\")\n",
        "#     lyrics_timestamped_paths.append(f\"/content/content/lyrics-sync/output/words/{song_name}.csv\")\n",
        "\n",
        "# chord_sheets = format_song_with_chords(lyrics_timestamped_paths, lyrics_paths, chords_paths, song_names)"
      ],
      "metadata": {
        "id": "Y53FvmSSQjRV"
      },
      "execution_count": null,
      "outputs": []
    },
    {
      "cell_type": "code",
      "execution_count": null,
      "metadata": {
        "id": "Qp1oKPXudIgu"
      },
      "outputs": [],
      "source": [
        "comparisons = []\n",
        "for chord_sheet, song_name, evaluation_path in zip(chord_sheets, song_names, evaluation_paths):\n",
        "    name = song_name.upper().replace(\"_\", \" \")\n",
        "    print(f\"------------EVALUATING \\'{name}\\' CHORD SHEET----------------\\n\")\n",
        "\n",
        "    comparison = compare_chords(chord_sheet, evaluation_path)\n",
        "    comparisons.append(comparison)\n",
        "\n",
        "    for key, value in comparison.items():\n",
        "        if isinstance(value, dict):  # Se o valor for um dicionário, iteramos sobre ele\n",
        "            print(f\"{key}:\")\n",
        "            for sub_key, sub_value in value.items():\n",
        "                print(f\"  {sub_key}: {sub_value}\")\n",
        "        else:\n",
        "            print(f\"{key}: {value}\")\n",
        "    print(f\"-------------------------------------------------------------\\n\\n\")"
      ]
    },
    {
      "cell_type": "code",
      "source": [
        "calculate_general_averages(comparisons)\n",
        "print(\"\\n\\n\")\n",
        "analyze_exclusive_chords(comparisons)\n",
        "print(\"\\n\\n\")\n",
        "analyze_sequence_differences(comparisons)"
      ],
      "metadata": {
        "colab": {
          "base_uri": "https://localhost:8080/"
        },
        "id": "b9NZHOtqlqwv",
        "outputId": "4ddf8f80-b219-4a48-e6ce-fdc1dbffd123"
      },
      "execution_count": 115,
      "outputs": [
        {
          "output_type": "stream",
          "name": "stdout",
          "text": [
            "+------------------------------------+-------------+------------------------+\n",
            "|               Metric               | Average (%) | Standard Deviation (%) |\n",
            "+------------------------------------+-------------+------------------------+\n",
            "| Diferença de Quantidade Gerada (%) |    14.02    |         11.49          |\n",
            "|        Acordes em Comum (%)        |    46.1     |         20.07          |\n",
            "|       Só na Cifra Gerada (%)       |    29.5     |         11.92          |\n",
            "|    Só na Cifra de Validação (%)    |    24.4     |         15.75          |\n",
            "|   Acordes com Contagem Igual (%)   |    12.23    |         12.42          |\n",
            "|  Posições Iguais dos Acordes (%)   |    2.25     |          1.84          |\n",
            "|       Sequências Iguais (%)        |    48.42    |          1.4           |\n",
            "+------------------------------------+-------------+------------------------+\n",
            "\n",
            "\n",
            "\n",
            "Acordes Mais Frequentes (Só Geradas):\n",
            " +------------------------+-----------+\n",
            "| Chord (Generated Only) | Frequency |\n",
            "+------------------------+-----------+\n",
            "|           F            |     4     |\n",
            "|           G            |     4     |\n",
            "|           Am           |     4     |\n",
            "|           E            |     3     |\n",
            "|           Cm           |     3     |\n",
            "|           Eb           |     3     |\n",
            "|           Bb           |     3     |\n",
            "|          E/3           |     3     |\n",
            "|          D/3           |     3     |\n",
            "|          F#7           |     3     |\n",
            "+------------------------+-----------+\n",
            "Acordes Mais Frequentes (Só Validação):\n",
            " +-------------------------+-----------+\n",
            "| Chord (Validation Only) | Frequency |\n",
            "+-------------------------+-----------+\n",
            "|           E/G           |     4     |\n",
            "|           A7            |     3     |\n",
            "|           A/C           |     3     |\n",
            "|           F#            |     3     |\n",
            "|          A7/C           |     3     |\n",
            "|           E4            |     2     |\n",
            "|           E6            |     2     |\n",
            "|           G#            |     2     |\n",
            "|          Em/D           |     2     |\n",
            "|           B7            |     2     |\n",
            "+-------------------------+-----------+\n",
            "\n",
            "\n",
            "\n",
            "+------------------------------------+-----------+\n",
            "|               Metric               |   Value   |\n",
            "+------------------------------------+-----------+\n",
            "|   Média de Sequências Iguais (%)   |   48.42   |\n",
            "| Média de Sequências Diferentes (%) |   51.58   |\n",
            "|       Total de Substituições       |    64     |\n",
            "|         Total de Exclusões         |    95     |\n",
            "|         Total de Inserções         |    83     |\n",
            "|       Tipo de Erro Dominante       | Exclusões |\n",
            "+------------------------------------+-----------+\n"
          ]
        }
      ]
    }
  ],
  "metadata": {
    "colab": {
      "collapsed_sections": [
        "FYsWox4DJ_Mj",
        "kJQrqqnqj4wS",
        "5Cdywwcfo27T",
        "W0z5vOJAozFP",
        "ZF78qPq1jThN",
        "WrS6Ji828vpd",
        "Chej_dtnVpLh"
      ],
      "provenance": [],
      "gpuType": "T4",
      "mount_file_id": "1msdkJM5knwy1ej2JoyDhaSCQse9yRLwk",
      "authorship_tag": "ABX9TyNSEsM5cYKa24ODbsvpLaLv",
      "include_colab_link": true
    },
    "kernelspec": {
      "display_name": "Python 3",
      "name": "python3"
    },
    "language_info": {
      "name": "python"
    },
    "accelerator": "GPU"
  },
  "nbformat": 4,
  "nbformat_minor": 0
}