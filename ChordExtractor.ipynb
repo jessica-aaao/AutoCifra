{
  "nbformat": 4,
  "nbformat_minor": 0,
  "metadata": {
    "colab": {
      "provenance": []
    },
    "kernelspec": {
      "name": "python3",
      "display_name": "Python 3"
    },
    "language_info": {
      "name": "python"
    }
  },
  "cells": [
    {
      "cell_type": "markdown",
      "source": [
        "# Imports"
      ],
      "metadata": {
        "id": "qbGwo2vNqudH"
      }
    },
    {
      "cell_type": "code",
      "source": [
        "!pip install -U \"yt-dlp[default]\"\n",
        "\n",
        "import requests\n",
        "\n",
        "from IPython.display import display\n",
        "from bs4 import BeautifulSoup"
      ],
      "metadata": {
        "colab": {
          "base_uri": "https://localhost:8080/"
        },
        "id": "rgEgMc74qzX3",
        "outputId": "3bf2d5e2-8299-44a9-8317-9589baf08b06"
      },
      "execution_count": 13,
      "outputs": [
        {
          "output_type": "stream",
          "name": "stdout",
          "text": [
            "Requirement already satisfied: yt-dlp[default] in /usr/local/lib/python3.11/dist-packages (2025.1.26)\n",
            "Requirement already satisfied: brotli in /usr/local/lib/python3.11/dist-packages (from yt-dlp[default]) (1.1.0)\n",
            "Requirement already satisfied: certifi in /usr/local/lib/python3.11/dist-packages (from yt-dlp[default]) (2025.1.31)\n",
            "Requirement already satisfied: mutagen in /usr/local/lib/python3.11/dist-packages (from yt-dlp[default]) (1.47.0)\n",
            "Requirement already satisfied: pycryptodomex in /usr/local/lib/python3.11/dist-packages (from yt-dlp[default]) (3.21.0)\n",
            "Requirement already satisfied: requests<3,>=2.32.2 in /usr/local/lib/python3.11/dist-packages (from yt-dlp[default]) (2.32.3)\n",
            "Requirement already satisfied: urllib3<3,>=1.26.17 in /usr/local/lib/python3.11/dist-packages (from yt-dlp[default]) (2.3.0)\n",
            "Requirement already satisfied: websockets>=13.0 in /usr/local/lib/python3.11/dist-packages (from yt-dlp[default]) (14.2)\n",
            "Requirement already satisfied: charset-normalizer<4,>=2 in /usr/local/lib/python3.11/dist-packages (from requests<3,>=2.32.2->yt-dlp[default]) (3.4.1)\n",
            "Requirement already satisfied: idna<4,>=2.5 in /usr/local/lib/python3.11/dist-packages (from requests<3,>=2.32.2->yt-dlp[default]) (3.10)\n"
          ]
        }
      ]
    },
    {
      "cell_type": "markdown",
      "source": [
        "# Fonograma"
      ],
      "metadata": {
        "id": "kJQrqqnqj4wS"
      }
    },
    {
      "cell_type": "code",
      "execution_count": 116,
      "metadata": {
        "id": "aeKpjb6Ei6ie"
      },
      "outputs": [],
      "source": [
        "def extract_sound_recording(youtube_url):\n",
        "    output_path = \"audio\"\n",
        "\n",
        "    !yt-dlp -q -x --audio-format 'mp3' -o {output_path} {youtube_url}\n",
        "\n",
        "    print(f'Audio saved as {output_path}.mp3!')"
      ]
    },
    {
      "cell_type": "markdown",
      "source": [
        "# Letra"
      ],
      "metadata": {
        "id": "W0z5vOJAozFP"
      }
    },
    {
      "cell_type": "markdown",
      "source": [
        "## Lyrics Extraction from Webpage"
      ],
      "metadata": {
        "id": "ZF78qPq1jThN"
      }
    },
    {
      "cell_type": "code",
      "source": [
        "def extract_lyrics_from_html(html):\n",
        "    lyricsTag = html.find('div', class_='lyric-original')\n",
        "    lyrics = \"\"\n",
        "\n",
        "    for p in lyricsTag.find_all('p'):\n",
        "        for br in p.find_all('br'):\n",
        "            br.replace_with('\\n')\n",
        "        lyrics += p.get_text() + \"\\n\"\n",
        "\n",
        "    print(f'Lyrics extracted:\\n{lyrics}')\n",
        "\n",
        "    return lyrics\n"
      ],
      "metadata": {
        "id": "_YWO1RLT1tLW"
      },
      "execution_count": 109,
      "outputs": []
    },
    {
      "cell_type": "code",
      "source": [
        "def save_lyrics_to_file(lyrics):\n",
        "    path = 'raw_lyrics.txt'\n",
        "\n",
        "    with open(path, 'w') as file:\n",
        "        file.write(lyrics)\n",
        "\n",
        "    print(f'Lyrics saved as {path}')"
      ],
      "metadata": {
        "id": "IaaRkJbH2iHI"
      },
      "execution_count": 110,
      "outputs": []
    },
    {
      "cell_type": "code",
      "source": [
        "def get_lyrics_from_webpage(lyric_url):\n",
        "    response = requests.get(lyric_url)\n",
        "\n",
        "    if response.status_code == 200:\n",
        "        htmlContent = BeautifulSoup(response.content, 'html.parser')\n",
        "\n",
        "        lyrics = extract_lyrics_from_html(htmlContent)\n",
        "        save_lyrics_to_file(lyrics)\n",
        "    else:\n",
        "        print(f\"Failed to fetch the webpage. Status code: {response.status_code}\")"
      ],
      "metadata": {
        "id": "YVcvT6xqo-Mq"
      },
      "execution_count": 111,
      "outputs": []
    },
    {
      "cell_type": "markdown",
      "source": [
        "## Lyrics Sync to Audio"
      ],
      "metadata": {
        "id": "CIx3RQ3XjS2s"
      }
    },
    {
      "cell_type": "code",
      "source": [
        "def get_synced_lyrics:\n",
        "    pass"
      ],
      "metadata": {
        "id": "8cH5X4rija73"
      },
      "execution_count": null,
      "outputs": []
    },
    {
      "cell_type": "markdown",
      "source": [
        "# Acordes"
      ],
      "metadata": {
        "id": "5Cdywwcfo27T"
      }
    },
    {
      "cell_type": "markdown",
      "source": [
        "## Chords Extraction from Audio"
      ],
      "metadata": {
        "id": "TmRxoN7QjjZ0"
      }
    },
    {
      "cell_type": "code",
      "source": [
        "def get_synced_chords:\n",
        "    pass"
      ],
      "metadata": {
        "id": "e3jgDeo5o-2k"
      },
      "execution_count": null,
      "outputs": []
    },
    {
      "cell_type": "markdown",
      "source": [
        "## Chords-Lyrics Sync"
      ],
      "metadata": {
        "id": "ZDq-tvxzo_Oj"
      }
    },
    {
      "cell_type": "markdown",
      "source": [
        "\n",
        "\n",
        "---\n",
        "\n"
      ],
      "metadata": {
        "id": "V7o6TxxbfP14"
      }
    },
    {
      "cell_type": "markdown",
      "source": [],
      "metadata": {
        "id": "T2LB3jmUjOAF"
      }
    },
    {
      "cell_type": "markdown",
      "source": [
        "# MAIN"
      ],
      "metadata": {
        "id": "biZpsy9MfSIw"
      }
    },
    {
      "cell_type": "markdown",
      "source": [
        "## Inputs"
      ],
      "metadata": {
        "id": "aY9dNpCci2K6"
      }
    },
    {
      "cell_type": "code",
      "source": [
        "youtube_url = input(\"Enter youtube url: \")\n",
        "lyric_url= input(\"Enter lyric url: \")"
      ],
      "metadata": {
        "colab": {
          "base_uri": "https://localhost:8080/"
        },
        "id": "kHJDjK6nfUgd",
        "outputId": "7186b659-4bc2-49ca-8f21-ddc8e9892fb6"
      },
      "execution_count": 113,
      "outputs": [
        {
          "name": "stdout",
          "output_type": "stream",
          "text": [
            "Enter youtube url: https://www.youtube.com/watch?v=KS_TrJOQB-g\n",
            "Enter lyric url: https://www.letras.mus.br/anavitoria/lisboa-part-lenine/\n"
          ]
        }
      ]
    },
    {
      "cell_type": "markdown",
      "source": [
        "## Modules call"
      ],
      "metadata": {
        "id": "rFM73VhRi_8h"
      }
    },
    {
      "cell_type": "code",
      "source": [
        "extract_sound_recording(youtube_url)"
      ],
      "metadata": {
        "colab": {
          "base_uri": "https://localhost:8080/"
        },
        "id": "9Beh-1Nni1Qv",
        "outputId": "7b3fd94d-66f9-40c0-b329-8a1a7593233d"
      },
      "execution_count": 117,
      "outputs": [
        {
          "output_type": "stream",
          "name": "stdout",
          "text": [
            "Audio saved as audio.mp3!\n"
          ]
        }
      ]
    },
    {
      "cell_type": "code",
      "source": [
        "get_lyrics_from_webpage(lyric_url)"
      ],
      "metadata": {
        "colab": {
          "base_uri": "https://localhost:8080/"
        },
        "id": "5yDb4KzP4R3W",
        "outputId": "c31a72a6-97b5-48ad-91c4-d0f5748b6eb3"
      },
      "execution_count": 115,
      "outputs": [
        {
          "output_type": "stream",
          "name": "stdout",
          "text": [
            "Lyrics extracted:\n",
            "Eu vejo tua cara e teu querer perverso\n",
            "A gente fica bem aqui no chão da sala\n",
            "Eu te queria a vida toda, te confesso\n",
            "Por mim, a gente nem precisa mais da estrada\n",
            "Eu vejo você longe, quero você perto\n",
            "Fica na minha sombra, eu posso ser teu rastro\n",
            "Não quero tu na linha, Vivo, morto ou Claro\n",
            "Eu quero tu na minha boca\n",
            "E a minha boca quer você\n",
            "Quer você\n",
            "Diga pra mim que é real\n",
            "Que eu te prometo meu melhor\n",
            "Fala pra mim o que eu quero ouvir\n",
            "Que tu sentiu o que eu senti\n",
            "Eu vejo tua cara, o teu querer perverso\n",
            "A gente fica bem aqui no chão da sala\n",
            "Eu te queria a vida toda, te confesso\n",
            "Por mim, a gente nem precisa mais da estrada\n",
            "Eu vejo você longe, quero você perto\n",
            "Fica na minha sombra, eu posso ser teu rastro\n",
            "Não quero tu na linha, Vivo, morto ou Claro\n",
            "Eu quero tu na minha boca\n",
            "E a minha boca quer você\n",
            "Quer você\n",
            "Diga pra mim que é real\n",
            "Que eu te prometo meu melhor\n",
            "Fala pra mim o que eu quero ouvir\n",
            "Que tu sentiu o que eu senti\n",
            "Me diga agora, por favor (me diga agora, por favor)\n",
            "Que eu vou correndo te abraçar (vou correndo te abraçar)\n",
            "Te quero tanto, é quase dor (te quero tanto, é quase dor)\n",
            "É com você que eu quero estar (é com você que eu quero estar)\n",
            "Se for por mim, vai ser assim\n",
            "É só você querer\n",
            "Pra gente, enfim, se amar\n",
            "Pra gente, enfim, se amar\n",
            "Pra gente, enfim, se amar\n",
            "Pra gente, enfim, se amar\n",
            "\n",
            "Lyrics saved as raw_lyrics.txt\n"
          ]
        }
      ]
    }
  ]
}