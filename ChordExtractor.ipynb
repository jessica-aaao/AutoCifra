{
  "cells": [
    {
      "cell_type": "markdown",
      "metadata": {
        "id": "view-in-github",
        "colab_type": "text"
      },
      "source": [
        "<a href=\"https://colab.research.google.com/github/jessica-aaao/ChordsExtractor/blob/main/ChordExtractor.ipynb\" target=\"_parent\"><img src=\"https://colab.research.google.com/assets/colab-badge.svg\" alt=\"Open In Colab\"/></a>"
      ]
    },
    {
      "cell_type": "markdown",
      "metadata": {
        "id": "qbGwo2vNqudH"
      },
      "source": [
        "# Imports"
      ]
    },
    {
      "cell_type": "code",
      "source": [
        "!pip install -q -U \"yt-dlp[default]\"\n",
        "!pip install -q -U openai-whisper\n",
        "!pip install -q -U demucs"
      ],
      "metadata": {
        "collapsed": true,
        "id": "QpxATemCRUhB"
      },
      "execution_count": 22,
      "outputs": []
    },
    {
      "cell_type": "code",
      "source": [
        "import requests\n",
        "import whisper\n",
        "import json\n",
        "import pandas as pd\n",
        "import os\n",
        "import re\n",
        "import unicodedata"
      ],
      "metadata": {
        "id": "iQ6U79pbRWYS"
      },
      "execution_count": 23,
      "outputs": []
    },
    {
      "cell_type": "code",
      "execution_count": 24,
      "metadata": {
        "id": "rgEgMc74qzX3"
      },
      "outputs": [],
      "source": [
        "from google.colab import drive\n",
        "from IPython.display import display\n",
        "from bs4 import BeautifulSoup"
      ]
    },
    {
      "cell_type": "code",
      "source": [
        "!git clone https://github.com/filipecalegario/ISMIR2019-Large-Vocabulary-Chord-Recognition.git\n",
        "\n",
        "%cd ISMIR2019-Large-Vocabulary-Chord-Recognition\n",
        "!pip install -q -r requirements.txt\n",
        "%cd .."
      ],
      "metadata": {
        "colab": {
          "base_uri": "https://localhost:8080/"
        },
        "id": "mx_jyzDgdJKZ",
        "outputId": "03063746-8177-4ed6-88ee-6e6cd52a64f9"
      },
      "execution_count": 25,
      "outputs": [
        {
          "output_type": "stream",
          "name": "stdout",
          "text": [
            "fatal: destination path 'ISMIR2019-Large-Vocabulary-Chord-Recognition' already exists and is not an empty directory.\n",
            "/content/ISMIR2019-Large-Vocabulary-Chord-Recognition\n",
            "  Preparing metadata (setup.py) ... \u001b[?25l\u001b[?25hdone\n",
            "  \u001b[1;31merror\u001b[0m: \u001b[1msubprocess-exited-with-error\u001b[0m\n",
            "  \n",
            "  \u001b[31m×\u001b[0m \u001b[32mpython setup.py egg_info\u001b[0m did not run successfully.\n",
            "  \u001b[31m│\u001b[0m exit code: \u001b[1;36m1\u001b[0m\n",
            "  \u001b[31m╰─>\u001b[0m See above for output.\n",
            "  \n",
            "  \u001b[1;35mnote\u001b[0m: This error originates from a subprocess, and is likely not a problem with pip.\n",
            "  Preparing metadata (setup.py) ... \u001b[?25l\u001b[?25herror\n",
            "\u001b[1;31merror\u001b[0m: \u001b[1mmetadata-generation-failed\u001b[0m\n",
            "\n",
            "\u001b[31m×\u001b[0m Encountered error while generating package metadata.\n",
            "\u001b[31m╰─>\u001b[0m See above for output.\n",
            "\n",
            "\u001b[1;35mnote\u001b[0m: This is an issue with the package mentioned above, not pip.\n",
            "\u001b[1;36mhint\u001b[0m: See above for details.\n",
            "/content\n"
          ]
        }
      ]
    },
    {
      "cell_type": "code",
      "source": [
        "!git clone  https://github.com/mikezzb/lyrics-sync.git\n",
        "\n",
        "!wget -c https://repo.continuum.io/archive/Anaconda3-2024.10-1-Linux-x86_64.sh\n",
        "!chmod +x Anaconda3-2024.10-1-Linux-x86_64.sh\n",
        "!bash ./Anaconda3-2024.10-1-Linux-x86_64.sh -b -f -p /usr/local"
      ],
      "metadata": {
        "colab": {
          "base_uri": "https://localhost:8080/"
        },
        "id": "VKk49tTPJUs8",
        "outputId": "02b55996-10d0-4a81-cf50-cffdad64ae41"
      },
      "execution_count": 26,
      "outputs": [
        {
          "output_type": "stream",
          "name": "stdout",
          "text": [
            "fatal: destination path 'lyrics-sync' already exists and is not an empty directory.\n",
            "--2025-03-08 01:58:57--  https://repo.continuum.io/archive/Anaconda3-2024.10-1-Linux-x86_64.sh\n",
            "Resolving repo.continuum.io (repo.continuum.io)... 104.18.176.84, 104.18.177.84, 2606:4700::6812:b154, ...\n",
            "Connecting to repo.continuum.io (repo.continuum.io)|104.18.176.84|:443... connected.\n",
            "HTTP request sent, awaiting response... 301 Moved Permanently\n",
            "Location: https://repo.anaconda.com/archive/Anaconda3-2024.10-1-Linux-x86_64.sh [following]\n",
            "--2025-03-08 01:58:57--  https://repo.anaconda.com/archive/Anaconda3-2024.10-1-Linux-x86_64.sh\n",
            "Resolving repo.anaconda.com (repo.anaconda.com)... 104.16.32.241, 104.16.191.158, 2606:4700::6810:bf9e, ...\n",
            "Connecting to repo.anaconda.com (repo.anaconda.com)|104.16.32.241|:443... connected.\n",
            "HTTP request sent, awaiting response... 416 Requested Range Not Satisfiable\n",
            "\n",
            "    The file is already fully retrieved; nothing to do.\n",
            "\n",
            "PREFIX=/usr/local\n",
            "Unpacking payload ...\n",
            "\n",
            "Installing base environment...\n",
            "\n",
            "Preparing transaction: ...working... done\n",
            "Executing transaction: ...working... done\n",
            "installation finished.\n",
            "WARNING:\n",
            "    You currently have a PYTHONPATH environment variable set. This may cause\n",
            "    unexpected behavior when running the Python interpreter in Anaconda3.\n",
            "    For best results, please verify that your PYTHONPATH only points to\n",
            "    directories of packages that are compatible with the Python interpreter\n",
            "    in Anaconda3: /usr/local\n"
          ]
        }
      ]
    },
    {
      "cell_type": "code",
      "source": [
        "drive.mount('/content/drive')"
      ],
      "metadata": {
        "colab": {
          "base_uri": "https://localhost:8080/"
        },
        "id": "IvbC8R-yVINn",
        "outputId": "90994673-6a6c-4db0-ef00-9f9a08b69e20"
      },
      "execution_count": 9,
      "outputs": [
        {
          "output_type": "stream",
          "name": "stdout",
          "text": [
            "Drive already mounted at /content/drive; to attempt to forcibly remount, call drive.mount(\"/content/drive\", force_remount=True).\n"
          ]
        }
      ]
    },
    {
      "cell_type": "code",
      "source": [
        "!apt-get install ffmpeg\n",
        "!apt-get install espeak\n",
        "\n",
        "!git clone https://github.com/readbeyond/aeneas.git\n",
        "%cd aeneas\n",
        "!pip install -r requirements.txt\n",
        "!python check_dependencies.py\n",
        "%cd .."
      ],
      "metadata": {
        "id": "Cfy9iQEGECFF"
      },
      "execution_count": null,
      "outputs": []
    },
    {
      "cell_type": "markdown",
      "source": [
        "# Common"
      ],
      "metadata": {
        "id": "FYsWox4DJ_Mj"
      }
    },
    {
      "cell_type": "code",
      "source": [
        "class SongUrls:\n",
        "    def __init__(self, name, audio, lyrics, chords):\n",
        "        self.name = name\n",
        "        self.audio = audio\n",
        "        self.lyrics = lyrics\n",
        "        self.chords = chords\n",
        "\n",
        "    def get_name(self):\n",
        "        return self.name\n",
        "\n",
        "    def get_audio_url(self):\n",
        "        return self.audio\n",
        "\n",
        "    def get_lyrics_url(self):\n",
        "        return self.lyrics\n",
        "\n",
        "    def get_chords_url(self):\n",
        "        return self.chords"
      ],
      "metadata": {
        "id": "CWfAcixMKyIY"
      },
      "execution_count": 10,
      "outputs": []
    },
    {
      "cell_type": "code",
      "source": [
        "def get_urls():\n",
        "    print(f'Fetching urls...\\n\\n')\n",
        "\n",
        "    file_path = '/content/drive/My Drive/TCC/CodeData/songs.csv'\n",
        "    songs = pd.read_csv(file_path)\n",
        "\n",
        "    print(f'Urls fetched!\\n\\n')\n",
        "\n",
        "    return songs"
      ],
      "metadata": {
        "id": "sFeFJWwCME2b"
      },
      "execution_count": 11,
      "outputs": []
    },
    {
      "cell_type": "code",
      "source": [
        "def get_songs_from_csv():\n",
        "    songs = get_urls()\n",
        "\n",
        "    song_urls = []\n",
        "\n",
        "    print(f'Creating SongUrls...\\n\\n')\n",
        "\n",
        "    for index, row in songs.iterrows():\n",
        "        special_case = row['Special Case']\n",
        "        if special_case:\n",
        "            continue\n",
        "\n",
        "        song_name = slugify(row['Song Name'])\n",
        "        audio_url = row['Audio URL']\n",
        "        lyrics_url = row['Lyrics URL']\n",
        "        chords_url = row['Chords URL']\n",
        "\n",
        "        song_urls.append(SongUrls(song_name, audio_url, lyrics_url, chords_url))\n",
        "\n",
        "    print(f'SongUrls created!\\n\\n')\n",
        "\n",
        "    return song_urls\n"
      ],
      "metadata": {
        "id": "FT_VGQunKY8t"
      },
      "execution_count": 28,
      "outputs": []
    },
    {
      "cell_type": "code",
      "source": [
        "def slugify(raw_song_name):\n",
        "    song_name = raw_song_name.lower()\n",
        "\n",
        "    song_name = unicodedata.normalize('NFKD', song_name)\n",
        "    song_name = song_name.encode('ascii', 'ignore').decode('ascii')\n",
        "\n",
        "    song_name = re.sub(r'[^a-z0-9]+', '_', song_name)\n",
        "\n",
        "    song_name = song_name.strip('_')\n",
        "\n",
        "    return song_name"
      ],
      "metadata": {
        "id": "ZXR8z3Hhd0ss"
      },
      "execution_count": 27,
      "outputs": []
    },
    {
      "cell_type": "markdown",
      "metadata": {
        "id": "kJQrqqnqj4wS"
      },
      "source": [
        "# Sound"
      ]
    },
    {
      "cell_type": "code",
      "source": [
        "def extract_voice_from_audio(audio_path, song_name):\n",
        "    print(f'Extracting vocals from {audio_path}...\\n\\n')\n",
        "\n",
        "    !demucs --two-stems=vocals {audio_path} -o vocals/\n",
        "\n",
        "    return f\"/content/vocals/htdemucs/{song_name}/vocals.wav\"\n"
      ],
      "metadata": {
        "id": "hUIrxJbQdr9J"
      },
      "execution_count": 13,
      "outputs": []
    },
    {
      "cell_type": "code",
      "source": [
        "def extract_audio_from_video(youtube_url, song_name):\n",
        "    cookies_path = '/content/cookies.txt'\n",
        "    output_path = f\"/content/audios/{song_name}\"\n",
        "\n",
        "    !yt-dlp {youtube_url} --audio-format \"wav\" --cookies {cookies_path} -x -o {output_path}  -q\n",
        "\n",
        "    print(f'Audio saved as {output_path}.wav!\\n\\n')\n",
        "\n",
        "    return f\"{output_path}.wav\""
      ],
      "metadata": {
        "id": "fdQXA8VHAgy2"
      },
      "execution_count": 31,
      "outputs": []
    },
    {
      "cell_type": "code",
      "execution_count": 15,
      "metadata": {
        "id": "aeKpjb6Ei6ie"
      },
      "outputs": [],
      "source": [
        "def extract_sound_recording(youtube_url, song_name):\n",
        "    output_path = extract_audio_from_video(youtube_url, song_name)\n",
        "    # vocals_path = extract_voice_from_audio(f\"{output_path}.wav\", song_name)\n",
        "\n",
        "    print(f'Audio saved as {output_path}!\\n\\n')\n",
        "\n",
        "    return output_path"
      ]
    },
    {
      "cell_type": "markdown",
      "metadata": {
        "id": "W0z5vOJAozFP"
      },
      "source": [
        "# Lyrics"
      ]
    },
    {
      "cell_type": "markdown",
      "metadata": {
        "id": "ZF78qPq1jThN"
      },
      "source": [
        "## Lyrics Extraction from Webpage"
      ]
    },
    {
      "cell_type": "code",
      "source": [
        "def save_to_file(data, song_name):\n",
        "    folder_path = \"/content/lyrics\"\n",
        "    path = f\"{folder_path}/{song_name}.txt\"\n",
        "\n",
        "    if not os.path.exists(folder_path):\n",
        "        os.makedirs(folder_path)\n",
        "\n",
        "    with open(path, 'w') as file:\n",
        "        file.write(data)\n",
        "\n",
        "    print(f'Saved as {path}')\n",
        "\n",
        "    return path"
      ],
      "metadata": {
        "id": "wL0E4LfVKC2q"
      },
      "execution_count": 16,
      "outputs": []
    },
    {
      "cell_type": "code",
      "execution_count": 17,
      "metadata": {
        "id": "_YWO1RLT1tLW"
      },
      "outputs": [],
      "source": [
        "def extract_lyrics_from_html(html):\n",
        "    \"\"\"Extrai a letra da página HTML fornecida\"\"\"\n",
        "\n",
        "    print(f'Fetching lyrics...!\\n\\n')\n",
        "\n",
        "    lyricsTag = html.find('div', class_='lyric-original')\n",
        "    lyrics = \"\"\n",
        "\n",
        "    for p in lyricsTag.find_all('p'):\n",
        "        for br in p.find_all('br'):\n",
        "            br.replace_with('\\n')\n",
        "        lyrics += p.get_text() + \"\\n\"\n",
        "\n",
        "    print(f'Lyrics fetched!\\n\\n')\n",
        "\n",
        "    return lyrics\n"
      ]
    },
    {
      "cell_type": "code",
      "execution_count": 18,
      "metadata": {
        "id": "YVcvT6xqo-Mq"
      },
      "outputs": [],
      "source": [
        "def get_lyrics_from_webpage(lyric_url, song_name):\n",
        "    \"\"\"Obtém a página web e extrai a letra\"\"\"\n",
        "\n",
        "    print(f'Fetching webpage {lyric_url}...\\n\\n')\n",
        "    response = requests.get(lyric_url)\n",
        "\n",
        "    if response.status_code == 200:\n",
        "        print(f'Webpage fetched!\\n\\n')\n",
        "        htmlContent = BeautifulSoup(response.content, 'html.parser')\n",
        "\n",
        "        lyrics = extract_lyrics_from_html(htmlContent)\n",
        "        lyrics_path = save_to_file(lyrics, song_name)\n",
        "\n",
        "        return lyrics_path\n",
        "    else:\n",
        "        print(f\"Failed to fetch the webpage. Status code: {response.status_code}\\n\\n\")"
      ]
    },
    {
      "cell_type": "markdown",
      "metadata": {
        "id": "CIx3RQ3XjS2s"
      },
      "source": [
        "## Lyrics Sync to Audio"
      ]
    },
    {
      "cell_type": "markdown",
      "source": [
        "### Transcription + Manual Attempt"
      ],
      "metadata": {
        "id": "VN-s5WeOZy3I"
      }
    },
    {
      "cell_type": "code",
      "source": [
        "def adjust_lyrics(transcribed_segments, comparison_lyrics):\n",
        "    \"\"\"Compara a letra transcrita e a letra extraída da Web, corrigindo a letra transcrita\"\"\"\n",
        "\n",
        "    print(f\"Adjusting lyrics...\\n\\n\")\n",
        "\n",
        "    for index, segment in enumerate(transcribed_segments):\n",
        "        try:\n",
        "            line = comparison_lyrics[index]\n",
        "\n",
        "            if segment['text'].lower() != line.lower():\n",
        "                segment['text'] = line\n",
        "\n",
        "            words = line.split()\n",
        "            # Testar com músicas não \"especiais\", mais enxutas\n",
        "            if len(words) != len(segment['words']):\n",
        "                print(f\"Word count mismatch: {len(words)} != {len(segment['words'])}\")\n",
        "                continue\n",
        "\n",
        "            for i, word in enumerate(words):\n",
        "                try:\n",
        "                    transcribed_word = segment['words'][i]['word']\n",
        "\n",
        "                    if transcribed_word.lower().strip() != word.lower():\n",
        "                        print(f\"Word mismatch: {transcribed_word} != {word}\")\n",
        "\n",
        "                        segment['words'][i]['word'] = word\n",
        "                except:\n",
        "                    print(f\"Word not found: {word}\")\n",
        "                    continue\n",
        "        except:\n",
        "            print(f\"Line not found: {segment['text']}\")\n",
        "            continue\n",
        "\n",
        "    print(f\"Lyrics adjusted:\\n{json.dumps(transcribed_lyrics, indent=2)}\\n\\n\")\n",
        "\n",
        "    return transcribed_lyrics"
      ],
      "metadata": {
        "id": "YgTvbwrLEfG5"
      },
      "execution_count": null,
      "outputs": []
    },
    {
      "cell_type": "code",
      "source": [
        "def transcribe_audio(audio_path):\n",
        "    \"\"\"Transcreve o áudio usando o modelo Whisper\"\"\"\n",
        "\n",
        "    print(f\"Transcribing audio...\\n\\n\")\n",
        "\n",
        "    model = whisper.load_model(\"turbo\", device='cuda')\n",
        "    result = model.transcribe(audio_path, word_timestamps=True)\n",
        "\n",
        "    print(f\"Audio Transcribed!\\n\\n\")\n",
        "\n",
        "    return result['segments']\n"
      ],
      "metadata": {
        "id": "oOTa6o8oIikX"
      },
      "execution_count": null,
      "outputs": []
    },
    {
      "cell_type": "markdown",
      "source": [
        "### Using Lyrics-Sync"
      ],
      "metadata": {
        "id": "OfIu0c3tZ62D"
      }
    },
    {
      "cell_type": "code",
      "source": [
        "def create_output_folder():\n",
        "    output_folder = \"/content/lyrics-sync/output\"\n",
        "    vocals_folder = output_folder + \"/vocals\"\n",
        "    words_folder = output_folder + \"/words\"\n",
        "    lrc_folder = output_folder + \"/lrc\"\n",
        "\n",
        "    if not os.path.exists(output_folder):\n",
        "        os.makedirs(output_folder)\n",
        "\n",
        "    if not os.path.exists(vocals_folder):\n",
        "        os.makedirs(vocals_folder)\n",
        "\n",
        "    if not os.path.exists(words_folder):\n",
        "        os.makedirs(words_folder)\n",
        "\n",
        "    if not os.path.exists(lrc_folder):\n",
        "        os.makedirs(lrc_folder)"
      ],
      "metadata": {
        "id": "i3KScyP6anew"
      },
      "execution_count": 35,
      "outputs": []
    },
    {
      "cell_type": "code",
      "source": [
        "def get_timestamps(audio_path, lyrics_path, song_name):\n",
        "    %cd /content/lyrics-sync/\n",
        "    !conda env update -f environment.yml\n",
        "    !source activate lsync\n",
        "\n",
        "    from lsync import LyricsSync\n",
        "\n",
        "    lsync = LyricsSync()\n",
        "    words, lrc = lsync.sync(audio_path, lyrics_path)\n",
        "    print(words)\n",
        "    print(lrc)\n",
        "\n",
        "    return f\"/content/lyrics-sync/output/{song_name}.lrc\"\n",
        "    %cd .."
      ],
      "metadata": {
        "id": "US1WTYy9Z6PE"
      },
      "execution_count": 33,
      "outputs": []
    },
    {
      "cell_type": "code",
      "execution_count": 34,
      "metadata": {
        "id": "8cH5X4rija73"
      },
      "outputs": [],
      "source": [
        "def get_synced_lyrics(lyric_url, audio_path, song_name):\n",
        "    \"\"\"Obtém a letra sincronizada com o áudio e corrigida\"\"\"\n",
        "\n",
        "    print(f\"Getting synced lyrics...\\n\\n\")\n",
        "\n",
        "    # transcribed_lyrics = transcribe_audio(audio_path)\n",
        "    lyrics_path = get_lyrics_from_webpage(lyric_url, song_name)\n",
        "    timestamps_path = get_timestamps(audio_path, lyrics_path, song_name)\n",
        "\n",
        "    print(f\"Synced lyrics ready!\\n\\n\")\n",
        "\n",
        "    # return (transcribed_lyrics, comparison_lyrics)\n",
        "    return timestamps_path"
      ]
    },
    {
      "cell_type": "markdown",
      "metadata": {
        "id": "5Cdywwcfo27T"
      },
      "source": [
        "# Chords"
      ]
    },
    {
      "cell_type": "markdown",
      "metadata": {
        "id": "TmRxoN7QjjZ0"
      },
      "source": [
        "## Chords Extraction from Audio"
      ]
    },
    {
      "cell_type": "code",
      "source": [
        "def extract_cipher_from(song_path, song_name):\n",
        "    \"\"\"Extrai a cifra, com o timestamp, a partir da música\"\"\"\n",
        "    output_path = f\"/content/chords/{song_name}.lab\"\n",
        "    !python chord_recognition.py {song_path} {output_path}\n",
        "\n",
        "    return output_path"
      ],
      "metadata": {
        "id": "B8iKgZsddGEF"
      },
      "execution_count": null,
      "outputs": []
    },
    {
      "cell_type": "markdown",
      "metadata": {
        "id": "ZDq-tvxzo_Oj"
      },
      "source": [
        "## Chords Sync to Lyrics"
      ]
    },
    {
      "cell_type": "code",
      "source": [
        "def format_song_with_chords(transcribed_lyrics_path, chords_path):\n",
        "    \"\"\"\n",
        "    Formata a LETRA_TRANSCRITA com acordes no formato tradicional de cifras.\n",
        "    \"\"\"\n",
        "    # Ler LETRA_TRANSCRITA do JSON\n",
        "    with open(transcribed_lyrics_path, 'r', encoding='utf-8') as file:\n",
        "        transcribed_lyrics = json.load(file)\n",
        "\n",
        "    # Ler ACORDES do arquivo LAB\n",
        "    chords = []\n",
        "    with open(chords_path, 'r', encoding='utf-8') as file:\n",
        "        for line in file:\n",
        "            start, end, chord = line.strip().split('\\t')\n",
        "            chords.append((float(start), float(end), chord))\n",
        "\n",
        "    # Inserir acordes nos timestamps\n",
        "    lyrics_with_chords = overlay_chords_on_transcribed(transcribed_lyrics, chords)\n",
        "    # print(lyrics_with_chords)\n",
        "\n",
        "    # Formatar saída com acordes e palavras\n",
        "    formatted_output = format_transcribed_with_chords(lyrics_with_chords)\n",
        "\n",
        "    return formatted_output"
      ],
      "metadata": {
        "id": "wLnhceUSZpJk"
      },
      "execution_count": null,
      "outputs": []
    },
    {
      "cell_type": "code",
      "source": [
        "def overlay_chords_on_transcribed(transcribed_lyrics, chords):\n",
        "    \"\"\"\n",
        "    Associa acordes às palavras da LETRA_TRANSCRITA com base nos tempos de ACORDES.\n",
        "    \"\"\"\n",
        "    result = []\n",
        "    for segment in transcribed_lyrics.get(\"segments\", []):\n",
        "        for word_info in segment.get(\"words\", []):\n",
        "            start = word_info.get(\"start\", None)\n",
        "            end = word_info.get(\"end\", None)\n",
        "            word = word_info.get(\"word\", \"\")\n",
        "            chord = None\n",
        "\n",
        "            if start is not None and end is not None:\n",
        "                # Encontrar acorde correspondente ao intervalo\n",
        "                for chord_start, chord_end, chord_name in chords:\n",
        "                    if chord_start <= start < chord_end:\n",
        "                        chord = chord_name\n",
        "                        break\n",
        "\n",
        "            result.append({\n",
        "                \"word\": word,\n",
        "                \"start\": start,\n",
        "                \"end\": end,\n",
        "                \"chord\": chord\n",
        "            })\n",
        "    return result"
      ],
      "metadata": {
        "id": "H6Zb0-udZt-t"
      },
      "execution_count": null,
      "outputs": []
    },
    {
      "cell_type": "code",
      "source": [
        "def format_transcribed_with_chords(lyrics_with_chords):\n",
        "    \"\"\"\n",
        "    Gera o formato de saída com acordes acima das palavras.\n",
        "    \"\"\"\n",
        "    formatted_output = []\n",
        "    chord_line = []\n",
        "    lyrics_line = []\n",
        "\n",
        "    for word_info in lyrics_with_chords:\n",
        "        word = word_info[\"word\"]\n",
        "        chord = word_info[\"chord\"]\n",
        "\n",
        "        if chord:\n",
        "            chord_line.append(f\"{chord}\")\n",
        "        else:\n",
        "            chord_line.append(\" \" * len(word))\n",
        "\n",
        "        lyrics_line.append(word)\n",
        "\n",
        "        # Adiciona quebra de linha para segmentos\n",
        "        if word.endswith((\".\", \",\", \"?\")):\n",
        "            formatted_output.append(\" \".join(chord_line).rstrip())\n",
        "            formatted_output.append(\" \".join(lyrics_line).rstrip())\n",
        "            formatted_output.append(\"\")\n",
        "            chord_line = []\n",
        "            lyrics_line = []\n",
        "\n",
        "    # Adiciona o restante, se existir\n",
        "    if chord_line or lyrics_line:\n",
        "        formatted_output.append(\" \".join(chord_line).rstrip())\n",
        "        formatted_output.append(\" \".join(lyrics_line).rstrip())\n",
        "\n",
        "    return \"\\n\".join(formatted_output)"
      ],
      "metadata": {
        "id": "buIiLBaNZxMo"
      },
      "execution_count": null,
      "outputs": []
    },
    {
      "cell_type": "code",
      "source": [
        "def simplify_chords_with_lyrics(chords_line, lyrics_line):\n",
        "    \"\"\"\n",
        "    Simplifica uma linha de acordes e palavras associadas.\n",
        "    Remove redundâncias e organiza a saída.\n",
        "    \"\"\"\n",
        "    chords = chords_line.split()\n",
        "    lyrics = lyrics_line.split()\n",
        "\n",
        "    simplified_chords = []\n",
        "    simplified_lyrics = []\n",
        "\n",
        "    # Último acorde usado\n",
        "    last_chord = None\n",
        "\n",
        "    for chord, word in zip(chords, lyrics):\n",
        "        if chord != last_chord:\n",
        "            simplified_chords.append(chord)\n",
        "            simplified_lyrics.append(word)\n",
        "            last_chord = chord\n",
        "        else:\n",
        "            simplified_chords.append(\"\")  # Espaço vazio na linha de acordes\n",
        "            simplified_lyrics.append(word)\n",
        "\n",
        "    # Retorna linhas formatadas\n",
        "    return \" \".join(simplified_chords).rstrip(), \" \".join(simplified_lyrics).rstrip()"
      ],
      "metadata": {
        "id": "Or2I3UMRZ0CI"
      },
      "execution_count": null,
      "outputs": []
    },
    {
      "cell_type": "code",
      "source": [
        "def format_clean_chords_and_lyrics(raw_chords_lyrics):\n",
        "    \"\"\"\n",
        "    Formata o texto contendo acordes redundantes e letras em um formato limpo e tradicional.\n",
        "    \"\"\"\n",
        "    formatted_output = []\n",
        "    lines = raw_chords_lyrics.strip().split(\"\\n\")\n",
        "\n",
        "    # Processa par de linhas (chord, lyrics)\n",
        "    for i in range(0, len(lines), 2):\n",
        "        if i + 1 < len(lines):  # Certifique-se de que há uma linha de letras\n",
        "            chords_line = lines[i]\n",
        "            lyrics_line = lines[i + 1]\n",
        "\n",
        "            # Simplificar a linha\n",
        "            simplified_chords, simplified_lyrics = simplify_chords_with_lyrics(chords_line, lyrics_line)\n",
        "\n",
        "            # Adicionar ao resultado\n",
        "            formatted_output.append(simplified_chords)\n",
        "            formatted_output.append(simplified_lyrics)\n",
        "            formatted_output.append(\"\")  # Linha em branco para separar blocos\n",
        "\n",
        "    return \"\\n\".join(formatted_output).strip()"
      ],
      "metadata": {
        "id": "jR9-bj7PZh92"
      },
      "execution_count": null,
      "outputs": []
    },
    {
      "cell_type": "markdown",
      "metadata": {
        "id": "V7o6TxxbfP14"
      },
      "source": [
        "\n",
        "\n",
        "---\n",
        "\n"
      ]
    },
    {
      "cell_type": "markdown",
      "metadata": {
        "id": "biZpsy9MfSIw"
      },
      "source": [
        "# MAIN"
      ]
    },
    {
      "cell_type": "markdown",
      "metadata": {
        "id": "aY9dNpCci2K6"
      },
      "source": [
        "## Inputs"
      ]
    },
    {
      "cell_type": "code",
      "execution_count": null,
      "metadata": {
        "id": "kHJDjK6nfUgd",
        "colab": {
          "base_uri": "https://localhost:8080/"
        },
        "outputId": "9dc05180-e229-43c8-8206-969306bffa12"
      },
      "outputs": [
        {
          "output_type": "error",
          "ename": "KeyboardInterrupt",
          "evalue": "Interrupted by user",
          "traceback": [
            "\u001b[0;31m---------------------------------------------------------------------------\u001b[0m",
            "\u001b[0;31mKeyboardInterrupt\u001b[0m                         Traceback (most recent call last)",
            "\u001b[0;32m<ipython-input-22-045569a51e0f>\u001b[0m in \u001b[0;36m<cell line: 0>\u001b[0;34m()\u001b[0m\n\u001b[0;32m----> 1\u001b[0;31m \u001b[0msong_url\u001b[0m \u001b[0;34m=\u001b[0m \u001b[0minput\u001b[0m\u001b[0;34m(\u001b[0m\u001b[0;34m\"Enter youtube url: \"\u001b[0m\u001b[0;34m)\u001b[0m\u001b[0;34m\u001b[0m\u001b[0;34m\u001b[0m\u001b[0m\n\u001b[0m\u001b[1;32m      2\u001b[0m \u001b[0;31m# lyric_url= input(\"Enter lyric url: \")\u001b[0m\u001b[0;34m\u001b[0m\u001b[0;34m\u001b[0m\u001b[0m\n\u001b[1;32m      3\u001b[0m \u001b[0;34m\u001b[0m\u001b[0m\n",
            "\u001b[0;32m/usr/local/lib/python3.11/dist-packages/ipykernel/kernelbase.py\u001b[0m in \u001b[0;36mraw_input\u001b[0;34m(self, prompt)\u001b[0m\n\u001b[1;32m   1175\u001b[0m                 \u001b[0;34m\"raw_input was called, but this frontend does not support input requests.\"\u001b[0m\u001b[0;34m\u001b[0m\u001b[0;34m\u001b[0m\u001b[0m\n\u001b[1;32m   1176\u001b[0m             )\n\u001b[0;32m-> 1177\u001b[0;31m         return self._input_request(\n\u001b[0m\u001b[1;32m   1178\u001b[0m             \u001b[0mstr\u001b[0m\u001b[0;34m(\u001b[0m\u001b[0mprompt\u001b[0m\u001b[0;34m)\u001b[0m\u001b[0;34m,\u001b[0m\u001b[0;34m\u001b[0m\u001b[0;34m\u001b[0m\u001b[0m\n\u001b[1;32m   1179\u001b[0m             \u001b[0mself\u001b[0m\u001b[0;34m.\u001b[0m\u001b[0m_parent_ident\u001b[0m\u001b[0;34m[\u001b[0m\u001b[0;34m\"shell\"\u001b[0m\u001b[0;34m]\u001b[0m\u001b[0;34m,\u001b[0m\u001b[0;34m\u001b[0m\u001b[0;34m\u001b[0m\u001b[0m\n",
            "\u001b[0;32m/usr/local/lib/python3.11/dist-packages/ipykernel/kernelbase.py\u001b[0m in \u001b[0;36m_input_request\u001b[0;34m(self, prompt, ident, parent, password)\u001b[0m\n\u001b[1;32m   1217\u001b[0m             \u001b[0;32mexcept\u001b[0m \u001b[0mKeyboardInterrupt\u001b[0m\u001b[0;34m:\u001b[0m\u001b[0;34m\u001b[0m\u001b[0;34m\u001b[0m\u001b[0m\n\u001b[1;32m   1218\u001b[0m                 \u001b[0;31m# re-raise KeyboardInterrupt, to truncate traceback\u001b[0m\u001b[0;34m\u001b[0m\u001b[0;34m\u001b[0m\u001b[0m\n\u001b[0;32m-> 1219\u001b[0;31m                 \u001b[0;32mraise\u001b[0m \u001b[0mKeyboardInterrupt\u001b[0m\u001b[0;34m(\u001b[0m\u001b[0;34m\"Interrupted by user\"\u001b[0m\u001b[0;34m)\u001b[0m \u001b[0;32mfrom\u001b[0m \u001b[0;32mNone\u001b[0m\u001b[0;34m\u001b[0m\u001b[0;34m\u001b[0m\u001b[0m\n\u001b[0m\u001b[1;32m   1220\u001b[0m             \u001b[0;32mexcept\u001b[0m \u001b[0mException\u001b[0m\u001b[0;34m:\u001b[0m\u001b[0;34m\u001b[0m\u001b[0;34m\u001b[0m\u001b[0m\n\u001b[1;32m   1221\u001b[0m                 \u001b[0mself\u001b[0m\u001b[0;34m.\u001b[0m\u001b[0mlog\u001b[0m\u001b[0;34m.\u001b[0m\u001b[0mwarning\u001b[0m\u001b[0;34m(\u001b[0m\u001b[0;34m\"Invalid Message:\"\u001b[0m\u001b[0;34m,\u001b[0m \u001b[0mexc_info\u001b[0m\u001b[0;34m=\u001b[0m\u001b[0;32mTrue\u001b[0m\u001b[0;34m)\u001b[0m\u001b[0;34m\u001b[0m\u001b[0;34m\u001b[0m\u001b[0m\n",
            "\u001b[0;31mKeyboardInterrupt\u001b[0m: Interrupted by user"
          ]
        }
      ],
      "source": [
        "song_url = input(\"Enter youtube url: \")\n",
        "# lyric_url= input(\"Enter lyric url: \")\n",
        "\n"
      ]
    },
    {
      "cell_type": "code",
      "source": [
        "extract_sound_recording(song_url, \"nome\")"
      ],
      "metadata": {
        "id": "nkQaofDYZvZA"
      },
      "execution_count": null,
      "outputs": []
    },
    {
      "cell_type": "markdown",
      "source": [
        "## From CSV"
      ],
      "metadata": {
        "id": "9kCsKI2NR8rQ"
      }
    },
    {
      "cell_type": "code",
      "source": [
        "# Extrai dados do csv e converte pra [SongUrls]\n",
        "songs = get_songs_from_csv()\n",
        "\n",
        "song = songs[0]\n",
        "song_name = song.get_name().replace(\" \", \"_\")\n",
        "print(f\"Generating \\'{song_name}\\' chord sheet...\")"
      ],
      "metadata": {
        "colab": {
          "base_uri": "https://localhost:8080/"
        },
        "id": "x7p10hwlSAlw",
        "outputId": "552d2e22-762b-4ce8-8519-34ef9f184ab8"
      },
      "execution_count": 36,
      "outputs": [
        {
          "output_type": "stream",
          "name": "stdout",
          "text": [
            "Fetching urls...\n",
            "\n",
            "\n",
            "Urls fetched!\n",
            "\n",
            "\n",
            "Creating SongUrls...\n",
            "\n",
            "\n",
            "SongUrls created!\n",
            "\n",
            "\n",
            "Generating 'que_pais_e_este' chord sheet...\n"
          ]
        }
      ]
    },
    {
      "cell_type": "code",
      "source": [
        "# Baixa músicas do youtube\n",
        "song_path = extract_sound_recording(song.get_audio_url(), song_name)"
      ],
      "metadata": {
        "colab": {
          "base_uri": "https://localhost:8080/"
        },
        "id": "RmGDBhEG_Nss",
        "outputId": "6edba2f3-9542-49db-9f5e-718b783fa859"
      },
      "execution_count": 37,
      "outputs": [
        {
          "output_type": "stream",
          "name": "stdout",
          "text": [
            "Audio saved as /content/audios/que_pais_e_este.wav.wav!\n",
            "\n",
            "\n",
            "Audio saved as /content/audios/que_pais_e_este.wav!\n",
            "\n",
            "\n"
          ]
        }
      ]
    },
    {
      "cell_type": "code",
      "source": [
        "# Extrai letras com timestamp\n",
        "create_output_folder()\n",
        "lyrics_timestamped_path = get_synced_lyrics(song.get_lyrics_url(), song_path, song_name)"
      ],
      "metadata": {
        "id": "mbyK718z_PL9",
        "colab": {
          "base_uri": "https://localhost:8080/"
        },
        "outputId": "cd3a66a5-bc58-4a96-a11e-b66ec76238a0"
      },
      "execution_count": 39,
      "outputs": [
        {
          "output_type": "stream",
          "name": "stdout",
          "text": [
            "Getting synced lyrics...\n",
            "\n",
            "\n",
            "Fetching webpage https://www.letras.mus.br/legiao-urbana/46973/...\n",
            "\n",
            "\n",
            "Webpage fetched!\n",
            "\n",
            "\n",
            "Fetching lyrics...!\n",
            "\n",
            "\n",
            "Lyrics fetched!\n",
            "\n",
            "\n",
            "Saved as /content/lyrics/que_pais_e_este.txt\n",
            "/content/lyrics-sync\n",
            "/usr/local/lib/python3.12/argparse.py:2006: FutureWarning: `remote_definition` is deprecated and will be removed in 25.9. Use `conda env create --file=URL` instead.\n",
            "  action(self, namespace, argument_values, option_string)\n",
            "Channels:\n",
            " - pytorch\n",
            " - nvidia\n",
            " - defaults\n",
            " - conda-forge\n",
            "Platform: linux-64\n",
            "Collecting package metadata (repodata.json): - \b\b\\ \b\b| \b\b/ \b\b- \b\b\\ \b\b| \b\b/ \b\b- \b\b\\ \b\b| \b\b/ \b\b- \b\b\\ \b\b| \b\b/ \b\b- \b\b\\ \b\b| \b\b/ \b\b- \b\b\\ \b\b| \b\b/ \b\b- \b\b\\ \b\b| \b\b/ \b\b- \b\b\\ \b\b| \b\b/ \b\b- \b\b\\ \b\b| \b\b/ \b\b- \b\b\\ \b\b| \b\b/ \b\b- \b\b\\ \b\b| \b\b/ \b\b- \b\b\\ \b\b| \b\b/ \b\b- \b\b\\ \b\b| \b\b/ \b\b- \b\b\\ \b\b| \b\b/ \b\b- \b\b\\ \b\b| \b\b/ \b\b- \b\b\\ \b\b| \b\b/ \b\b- \b\b\\ \b\b| \b\b/ \b\b- \b\b\\ \b\b| \b\b/ \b\b- \b\b\\ \b\b| \b\b/ \b\b- \b\b\\ \b\b| \b\b/ \b\b- \b\b\\ \b\b| \b\b/ \b\b- \b\b\\ \b\b| \b\b/ \b\b- \b\b\\ \b\b| \b\b/ \b\b- \b\b\\ \b\b| \b\b/ \b\b- \b\b\\ \b\b| \b\b/ \b\b- \b\b\\ \b\b| \b\b/ \b\b- \b\bdone\n",
            "Solving environment: | \b\b/ \b\b- \b\bdone\n",
            "Installing pip dependencies: | \b\b/ \b\b- \b\b\\ \b\b| \b\b/ \b\b- \b\b\\ \b\b| \b\b/ \b\b- \b\b\\ \b\b| \b\b/ \b\b- \b\b\\ \b\b| \b\b/ \b\b- \b\b\\ \b\b| \b\b/ \b\b- \b\b\\ \b\b| \b\b/ \b\b- \b\b\\ \b\b| \b\b/ \b\b- \b\b\\ \b\b| \b\b/ \b\b- \b\b\\ \b\b| \b\b/ \b\b- \b\b\\ \b\b| \b\b/ \b\b- \b\b\\ \b\b| \b\b/ \b\b- \b\b\\ \b\b| \b\b/ \b\b- \b\b\\ \b\b| \b\b/ \b\b- \b\b\\ \b\b| \b\b/ \b\b- \b\b\\ \b\b| \b\b/ \b\b- \b\b\\ \b\b| \b\b/ \b\b- \b\b\\ \b\b| \b\b/ \b\b- \b\b\\ \b\b| \b\b/ \b\b- \b\b\\ \b\b| \b\b/ \b\b- \b\b\\ \b\b| \b\b/ \b\b- \b\b\\ \b\b| \b\b/ \b\b- \b\b\\ \b\b| \b\b/ \b\b- \b\b\\ \b\b| \b\b/ \b\b- \b\b\\ \b\b| \b\b/ \b\b- \b\b\\ \b\b| \b\b/ \b\b- \b\b\\ \b\b| \b\b/ \b\b- \b\b\\ \b\b| \b\b/ \b\b- \b\b\\ \b\b| \b\b/ \b\b- \b\b\\ \b\b| \b\b/ \b\b- \b\b\\ \b\b| \b\b/ \b\b- \b\b\\ \b\b| \b\b/ \b\b- \b\b\\ \b\b| \b\b/ \b\b- \b\b\\ \b\b| \b\b/ \b\b- \b\b\\ \b\b| \b\b/ \b\b- \b\b\\ \b\b| \b\b/ \b\b- \b\b\\ \b\b| \b\b/ \b\b- \b\b\\ \b\b| \b\b/ \b\b- \b\b\\ \b\b| \b\b/ \b\b- \b\b\\ \b\b| \b\b/ \b\b- \b\b\\ \b\b| \b\b/ \b\b- \b\b\\ \b\b| \b\b/ \b\b- \b\b\\ \b\b| \b\b/ \b\b- \b\b\\ \b\b| \b\b/ \b\b- \b\b\\ \b\b| \b\b/ \b\b- \b\b\\ \b\b| \b\b/ \b\b- \b\b\\ \b\b| \b\b/ \b\b- \b\b\\ \b\b| \b\b/ \b\b- \b\b\\ \b\b| \b\b/ \b\b- \b\b\\ \b\b| \b\b/ \b\b- \b\b\\ \b\b| \b\b/ \b\b- \b\b\\ \b\b| \b\b/ \b\b- \b\b\\ \b\b| \b\b/ \b\b- \b\b\\ \b\b| \b\b/ \b\b- \b\b\\ \b\b| \b\b/ \b\b- \b\b\\ \b\b| \b\b/ \b\b- \b\b\\ \b\b| \b\b/ \b\b- \b\b\\ \b\b| \b\b/ \b\b- \b\b\\ \b\b| \b\b/ \b\b- \b\b\\ \b\b| \b\b/ \b\b- \b\b\\ \b\b| \b\b/ \b\b- \b\b\\ \b\b| \b\b/ \b\b- \b\b\\ \b\b| \b\b/ \b\b- \b\b\\ \b\b| \b\b/ \b\b- \b\b\\ \b\b| \b\b/ \b\b- \b\b\\ \b\b| \b\b/ \b\b- \b\b\\ \b\b| \b\b/ \b\b- \b\b\\ \b\b| \b\b/ \b\b- \b\b\\ \b\b| \b\b/ \b\b- \b\b\\ \b\b| \b\b/ \b\b- \b\b\\ \b\b| \b\b/ \b\b- \b\b\\ \b\b| \b\b/ \b\b- \b\b\\ \b\b| \b\b/ \b\b- \b\b\\ \b\b| \b\b/ \b\b- \b\b\\ \b\b| \b\b/ \b\b- \b\b\\ \b\b| \b\b/ \b\b- \b\b\\ \b\b| \b\b/ \b\b- \b\b\\ \b\b| \b\b/ \b\b- \b\b\\ \b\b| \b\b/ \b\b- \b\b\\ \b\b| \b\b/ \b\b- \b\b\\ \b\b| \b\b/ \b\b- \b\b\\ \b\b| \b\b/ \b\b- \b\b\\ \b\b| \b\b/ \b\b- \b\b\\ \b\b| \b\b/ \b\b- \b\b\\ \b\b| \b\b/ \b\b- \b\b\\ \b\b| \b\b/ \b\b- \b\b\\ \b\b| \b\b/ \b\b- \b\b\\ \b\b| \b\b/ \b\b- \b\b\\ \b\b| \b\b/ \b\b- \b\b\\ \b\b| \b\b/ \b\b- \b\b\\ \b\b| \b\b/ \b\b- \b\b\\ \b\b| \b\b/ \b\b- \b\b\\ \b\b| \b\b/ \b\b- \b\b\\ \b\b| \b\b/ \b\b- \b\b\\ \b\b| \b\b/ \b\b- \b\b\\ \b\b| \b\b/ \b\b- \b\b\\ \b\b| \b\b/ \b\b- \b\b\\ \b\b| \b\b/ \b\b- \b\b\\ \b\b| \b\b/ \b\b- \b\b\\ \b\b| \b\b/ \b\b- \b\b\\ \b\b| \b\b/ \b\b- \b\b\\ \b\b| \b\b/ \b\b- \b\b\\ \b\b| \b\b/ \b\b- \b\b\\ \b\b| \b\b/ \b\b- \b\b\\ \b\b| \b\b/ \b\b- \b\b\\ \b\b| \b\b/ \b\b- \b\b\\ \b\b| \b\b/ \b\b- \b\b\\ \b\b| \b\b/ \b\b- \b\b\\ \b\b| \b\b/ \b\b- \b\b\\ \b\b| \b\b/ \b\b- \b\b\\ \b\b| \b\b/ \b\b- \b\b\\ \b\b| \b\b/ \b\b- \b\b\\ \b\b| \b\b/ \b\b- \b\b\\ \b\b| \b\b/ \b\b- \b\b\\ \b\b| \b\b/ \b\b- \b\b\\ \b\b| \b\b/ \b\b- \b\b\\ \b\b| \b\b/ \b\b- \b\b\\ \b\b| \b\b/ \b\b- \b\b\\ \b\b| \b\b/ \b\b- \b\b\\ \b\b| \b\b/ \b\b- \b\b\\ \b\b| \b\b/ \b\b- \b\b\\ \b\b| \b\b/ \b\b- \b\b\\ \b\b| \b\b/ \b\b- \b\b\\ \b\b| \b\b/ \b\b- \b\b\\ \b\b| \b\b/ \b\b- \b\b\\ \b\b| \b\b/ \b\b- \b\b\\ \b\b| \b\b/ \b\b- \b\b\\ \b\b| \b\b/ \b\b- \b\b\\ \b\b| \b\b/ \b\b- \b\b\\ \b\b| \b\b/ \b\b- \b\b\\ \b\b| \b\b/ \b\b- \b\b\\ \b\b| \b\b/ \b\b- \b\b\\ \b\b| \b\b/ \b\b- \b\b\\ \b\b| \b\b/ \b\b- \b\b\\ \b\b| \b\b/ \b\b- \b\b\\ \b\b| \b\b/ \b\b- \b\b\\ \b\b| \b\b/ \b\b- \b\b\\ \b\b| \b\b/ \b\b- \b\b\\ \b\b| \b\b/ \b\b- \b\b\\ \b\b| \b\b/ \b\b- \b\b\\ \b\b| \b\b/ \b\b- \b\b\\ \b\b| \b\b/ \b\b- \b\b\\ \b\b| \b\b/ \b\b- \b\b\\ \b\b| \b\b/ \b\b- \b\b\\ \b\b| \b\b/ \b\b- \b\b\\ \b\b| \b\b/ \b\b- \b\b\\ \b\b| \b\b/ \b\b- \b\b\\ \b\b| \b\b/ \b\b- \b\b\\ \b\b| \b\b/ \b\b- \b\b\\ \b\b| \b\b/ \b\b- \b\b\\ \b\b| \b\b/ \b\b- \b\b\\ \b\b| \b\b/ \b\b- \b\b\\ \b\b| \b\b/ \b\b- \b\b\\ \b\b| \b\b/ \b\b- \b\b\\ \b\b| \b\b/ \b\b- \b\b\\ \b\b| \b\b/ \b\b- \b\b\\ \b\b| \b\b/ \b\b- \b\b\\ \b\b| \b\b/ \b\b- \b\b\\ \b\b| \b\b/ \b\b- \b\b\\ \b\b| \b\b/ \b\b- \b\b\\ \b\b| \b\b/ \b\b- \b\b\\ \b\b| \b\b/ \b\b- \b\b\\ \b\b| \b\b/ \b\b- \b\b\\ \b\b| \b\b/ \b\b- \b\b\\ \b\b| \b\b/ \b\b- \b\b\\ \b\b| \b\b/ \b\b- \b\b\\ \b\b| \b\b/ \b\b- \b\b\\ \b\b| \b\b/ \b\b- \b\b\\ \b\b| \b\b/ \b\b- \b\b\\ \b\b| \b\b/ \b\b- \b\b\\ \b\b| \b\b/ \b\b- \b\b\\ \b\b| \b\b/ \b\b- \b\b\\ \b\b| \b\b/ \b\b- \b\b\\ \b\b| \b\b/ \b\b- \b\b\\ \b\b| \b\b/ \b\b- \b\b\\ \b\b| \b\b/ \b\b- \b\b\\ \b\b| \b\b/ Ran pip subprocess with arguments:\n",
            "['/usr/local/envs/lsync/bin/python', '-m', 'pip', 'install', '-U', '-r', '/content/lyrics-sync/condaenv.qrdfl5uy.requirements.txt', '--exists-action=b']\n",
            "Pip subprocess output:\n",
            "Requirement already satisfied: accelerate==0.19.0 in /usr/local/envs/lsync/lib/python3.7/site-packages (from -r /content/lyrics-sync/condaenv.qrdfl5uy.requirements.txt (line 1)) (0.19.0)\n",
            "Requirement already satisfied: aiohttp==3.8.4 in /usr/local/envs/lsync/lib/python3.7/site-packages (from -r /content/lyrics-sync/condaenv.qrdfl5uy.requirements.txt (line 2)) (3.8.4)\n",
            "Requirement already satisfied: aiosignal==1.3.1 in /usr/local/envs/lsync/lib/python3.7/site-packages (from -r /content/lyrics-sync/condaenv.qrdfl5uy.requirements.txt (line 3)) (1.3.1)\n",
            "Requirement already satisfied: antlr4-python3-runtime==4.9.3 in /usr/local/envs/lsync/lib/python3.7/site-packages (from -r /content/lyrics-sync/condaenv.qrdfl5uy.requirements.txt (line 4)) (4.9.3)\n",
            "Requirement already satisfied: anyio==3.6.2 in /usr/local/envs/lsync/lib/python3.7/site-packages (from -r /content/lyrics-sync/condaenv.qrdfl5uy.requirements.txt (line 5)) (3.6.2)\n",
            "Requirement already satisfied: appdirs==1.4.4 in /usr/local/envs/lsync/lib/python3.7/site-packages (from -r /content/lyrics-sync/condaenv.qrdfl5uy.requirements.txt (line 6)) (1.4.4)\n",
            "Requirement already satisfied: argon2-cffi==21.3.0 in /usr/local/envs/lsync/lib/python3.7/site-packages (from -r /content/lyrics-sync/condaenv.qrdfl5uy.requirements.txt (line 7)) (21.3.0)\n",
            "Requirement already satisfied: argon2-cffi-bindings==21.2.0 in /usr/local/envs/lsync/lib/python3.7/site-packages (from -r /content/lyrics-sync/condaenv.qrdfl5uy.requirements.txt (line 8)) (21.2.0)\n",
            "Requirement already satisfied: async-timeout==4.0.2 in /usr/local/envs/lsync/lib/python3.7/site-packages (from -r /content/lyrics-sync/condaenv.qrdfl5uy.requirements.txt (line 9)) (4.0.2)\n",
            "Requirement already satisfied: asynctest==0.13.0 in /usr/local/envs/lsync/lib/python3.7/site-packages (from -r /content/lyrics-sync/condaenv.qrdfl5uy.requirements.txt (line 10)) (0.13.0)\n",
            "Requirement already satisfied: attrs==22.2.0 in /usr/local/envs/lsync/lib/python3.7/site-packages (from -r /content/lyrics-sync/condaenv.qrdfl5uy.requirements.txt (line 11)) (22.2.0)\n",
            "Requirement already satisfied: audioread==3.0.0 in /usr/local/envs/lsync/lib/python3.7/site-packages (from -r /content/lyrics-sync/condaenv.qrdfl5uy.requirements.txt (line 12)) (3.0.0)\n",
            "Requirement already satisfied: beautifulsoup4==4.12.2 in /usr/local/envs/lsync/lib/python3.7/site-packages (from -r /content/lyrics-sync/condaenv.qrdfl5uy.requirements.txt (line 13)) (4.12.2)\n",
            "Requirement already satisfied: bleach==6.0.0 in /usr/local/envs/lsync/lib/python3.7/site-packages (from -r /content/lyrics-sync/condaenv.qrdfl5uy.requirements.txt (line 14)) (6.0.0)\n",
            "Requirement already satisfied: certifi==2022.12.7 in /usr/local/envs/lsync/lib/python3.7/site-packages (from -r /content/lyrics-sync/condaenv.qrdfl5uy.requirements.txt (line 15)) (2022.12.7)\n",
            "Requirement already satisfied: cffi==1.15.1 in /usr/local/envs/lsync/lib/python3.7/site-packages (from -r /content/lyrics-sync/condaenv.qrdfl5uy.requirements.txt (line 16)) (1.15.1)\n",
            "Requirement already satisfied: charset-normalizer==3.1.0 in /usr/local/envs/lsync/lib/python3.7/site-packages (from -r /content/lyrics-sync/condaenv.qrdfl5uy.requirements.txt (line 17)) (3.1.0)\n",
            "Requirement already satisfied: click==8.1.3 in /usr/local/envs/lsync/lib/python3.7/site-packages (from -r /content/lyrics-sync/condaenv.qrdfl5uy.requirements.txt (line 18)) (8.1.3)\n",
            "Requirement already satisfied: cloudpickle==2.2.1 in /usr/local/envs/lsync/lib/python3.7/site-packages (from -r /content/lyrics-sync/condaenv.qrdfl5uy.requirements.txt (line 19)) (2.2.1)\n",
            "Requirement already satisfied: colorlog==6.7.0 in /usr/local/envs/lsync/lib/python3.7/site-packages (from -r /content/lyrics-sync/condaenv.qrdfl5uy.requirements.txt (line 20)) (6.7.0)\n",
            "Requirement already satisfied: cycler==0.11.0 in /usr/local/envs/lsync/lib/python3.7/site-packages (from -r /content/lyrics-sync/condaenv.qrdfl5uy.requirements.txt (line 21)) (0.11.0)\n",
            "Requirement already satisfied: cython==0.29.34 in /usr/local/envs/lsync/lib/python3.7/site-packages (from -r /content/lyrics-sync/condaenv.qrdfl5uy.requirements.txt (line 22)) (0.29.34)\n",
            "Requirement already satisfied: dali-dataset==1.1 in /usr/local/envs/lsync/lib/python3.7/site-packages (from -r /content/lyrics-sync/condaenv.qrdfl5uy.requirements.txt (line 23)) (1.1)\n",
            "Requirement already satisfied: datasets==2.12.0 in /usr/local/envs/lsync/lib/python3.7/site-packages (from -r /content/lyrics-sync/condaenv.qrdfl5uy.requirements.txt (line 24)) (2.12.0)\n",
            "Requirement already satisfied: debugpy==1.6.7 in /usr/local/envs/lsync/lib/python3.7/site-packages (from -r /content/lyrics-sync/condaenv.qrdfl5uy.requirements.txt (line 25)) (1.6.7)\n",
            "Requirement already satisfied: defusedxml==0.7.1 in /usr/local/envs/lsync/lib/python3.7/site-packages (from -r /content/lyrics-sync/condaenv.qrdfl5uy.requirements.txt (line 26)) (0.7.1)\n",
            "Requirement already satisfied: demucs==4.0.0 in /usr/local/envs/lsync/lib/python3.7/site-packages (from -r /content/lyrics-sync/condaenv.qrdfl5uy.requirements.txt (line 27)) (4.0.0)\n",
            "Requirement already satisfied: diffq==0.2.3 in /usr/local/envs/lsync/lib/python3.7/site-packages (from -r /content/lyrics-sync/condaenv.qrdfl5uy.requirements.txt (line 28)) (0.2.3)\n",
            "Requirement already satisfied: dill==0.3.6 in /usr/local/envs/lsync/lib/python3.7/site-packages (from -r /content/lyrics-sync/condaenv.qrdfl5uy.requirements.txt (line 29)) (0.3.6)\n",
            "Requirement already satisfied: docker-pycreds==0.4.0 in /usr/local/envs/lsync/lib/python3.7/site-packages (from -r /content/lyrics-sync/condaenv.qrdfl5uy.requirements.txt (line 30)) (0.4.0)\n",
            "Requirement already satisfied: docopt==0.6.2 in /usr/local/envs/lsync/lib/python3.7/site-packages (from -r /content/lyrics-sync/condaenv.qrdfl5uy.requirements.txt (line 31)) (0.6.2)\n",
            "Requirement already satisfied: dora-search==0.1.11 in /usr/local/envs/lsync/lib/python3.7/site-packages (from -r /content/lyrics-sync/condaenv.qrdfl5uy.requirements.txt (line 32)) (0.1.11)\n",
            "Requirement already satisfied: einops==0.6.0 in /usr/local/envs/lsync/lib/python3.7/site-packages (from -r /content/lyrics-sync/condaenv.qrdfl5uy.requirements.txt (line 33)) (0.6.0)\n",
            "Requirement already satisfied: evaluate==0.4.0 in /usr/local/envs/lsync/lib/python3.7/site-packages (from -r /content/lyrics-sync/condaenv.qrdfl5uy.requirements.txt (line 34)) (0.4.0)\n",
            "Requirement already satisfied: exceptiongroup==1.1.1 in /usr/local/envs/lsync/lib/python3.7/site-packages (from -r /content/lyrics-sync/condaenv.qrdfl5uy.requirements.txt (line 35)) (1.1.1)\n",
            "Requirement already satisfied: fastjsonschema==2.16.3 in /usr/local/envs/lsync/lib/python3.7/site-packages (from -r /content/lyrics-sync/condaenv.qrdfl5uy.requirements.txt (line 36)) (2.16.3)\n",
            "Requirement already satisfied: ffmpeg-python==0.2.0 in /usr/local/envs/lsync/lib/python3.7/site-packages (from -r /content/lyrics-sync/condaenv.qrdfl5uy.requirements.txt (line 37)) (0.2.0)\n",
            "Requirement already satisfied: filelock==3.11.0 in /usr/local/envs/lsync/lib/python3.7/site-packages (from -r /content/lyrics-sync/condaenv.qrdfl5uy.requirements.txt (line 38)) (3.11.0)\n",
            "Requirement already satisfied: fonttools==4.38.0 in /usr/local/envs/lsync/lib/python3.7/site-packages (from -r /content/lyrics-sync/condaenv.qrdfl5uy.requirements.txt (line 39)) (4.38.0)\n",
            "Requirement already satisfied: frozenlist==1.3.3 in /usr/local/envs/lsync/lib/python3.7/site-packages (from -r /content/lyrics-sync/condaenv.qrdfl5uy.requirements.txt (line 40)) (1.3.3)\n",
            "Requirement already satisfied: fsspec==2023.1.0 in /usr/local/envs/lsync/lib/python3.7/site-packages (from -r /content/lyrics-sync/condaenv.qrdfl5uy.requirements.txt (line 41)) (2023.1.0)\n",
            "Requirement already satisfied: future==0.18.3 in /usr/local/envs/lsync/lib/python3.7/site-packages (from -r /content/lyrics-sync/condaenv.qrdfl5uy.requirements.txt (line 42)) (0.18.3)\n",
            "Requirement already satisfied: gitdb==4.0.10 in /usr/local/envs/lsync/lib/python3.7/site-packages (from -r /content/lyrics-sync/condaenv.qrdfl5uy.requirements.txt (line 43)) (4.0.10)\n",
            "Requirement already satisfied: gitpython==3.1.31 in /usr/local/envs/lsync/lib/python3.7/site-packages (from -r /content/lyrics-sync/condaenv.qrdfl5uy.requirements.txt (line 44)) (3.1.31)\n",
            "Requirement already satisfied: huggingface-hub==0.14.1 in /usr/local/envs/lsync/lib/python3.7/site-packages (from -r /content/lyrics-sync/condaenv.qrdfl5uy.requirements.txt (line 45)) (0.14.1)\n",
            "Requirement already satisfied: hydra-colorlog==1.2.0 in /usr/local/envs/lsync/lib/python3.7/site-packages (from -r /content/lyrics-sync/condaenv.qrdfl5uy.requirements.txt (line 46)) (1.2.0)\n",
            "Requirement already satisfied: hydra-core==1.3.2 in /usr/local/envs/lsync/lib/python3.7/site-packages (from -r /content/lyrics-sync/condaenv.qrdfl5uy.requirements.txt (line 47)) (1.3.2)\n",
            "Requirement already satisfied: hyperpyyaml==1.2.0 in /usr/local/envs/lsync/lib/python3.7/site-packages (from -r /content/lyrics-sync/condaenv.qrdfl5uy.requirements.txt (line 48)) (1.2.0)\n",
            "Requirement already satisfied: hypothesis==6.71.0 in /usr/local/envs/lsync/lib/python3.7/site-packages (from -r /content/lyrics-sync/condaenv.qrdfl5uy.requirements.txt (line 49)) (6.71.0)\n",
            "Requirement already satisfied: idna==3.4 in /usr/local/envs/lsync/lib/python3.7/site-packages (from -r /content/lyrics-sync/condaenv.qrdfl5uy.requirements.txt (line 50)) (3.4)\n",
            "Requirement already satisfied: importlib-metadata==4.13.0 in /usr/local/envs/lsync/lib/python3.7/site-packages (from -r /content/lyrics-sync/condaenv.qrdfl5uy.requirements.txt (line 51)) (4.13.0)\n",
            "Requirement already satisfied: importlib-resources==5.12.0 in /usr/local/envs/lsync/lib/python3.7/site-packages (from -r /content/lyrics-sync/condaenv.qrdfl5uy.requirements.txt (line 52)) (5.12.0)\n",
            "Requirement already satisfied: inquirerpy==0.3.4 in /usr/local/envs/lsync/lib/python3.7/site-packages (from -r /content/lyrics-sync/condaenv.qrdfl5uy.requirements.txt (line 53)) (0.3.4)\n",
            "Requirement already satisfied: ipykernel==6.16.2 in /usr/local/envs/lsync/lib/python3.7/site-packages (from -r /content/lyrics-sync/condaenv.qrdfl5uy.requirements.txt (line 54)) (6.16.2)\n",
            "Requirement already satisfied: ipython==7.34.0 in /usr/local/envs/lsync/lib/python3.7/site-packages (from -r /content/lyrics-sync/condaenv.qrdfl5uy.requirements.txt (line 55)) (7.34.0)\n",
            "Requirement already satisfied: jedi==0.18.2 in /usr/local/envs/lsync/lib/python3.7/site-packages (from -r /content/lyrics-sync/condaenv.qrdfl5uy.requirements.txt (line 56)) (0.18.2)\n",
            "Requirement already satisfied: jieba==0.42.1 in /usr/local/envs/lsync/lib/python3.7/site-packages (from -r /content/lyrics-sync/condaenv.qrdfl5uy.requirements.txt (line 57)) (0.42.1)\n",
            "Requirement already satisfied: jinja2==3.1.2 in /usr/local/envs/lsync/lib/python3.7/site-packages (from -r /content/lyrics-sync/condaenv.qrdfl5uy.requirements.txt (line 58)) (3.1.2)\n",
            "Requirement already satisfied: jiwer==3.0.1 in /usr/local/envs/lsync/lib/python3.7/site-packages (from -r /content/lyrics-sync/condaenv.qrdfl5uy.requirements.txt (line 59)) (3.0.1)\n",
            "Requirement already satisfied: joblib==1.2.0 in /usr/local/envs/lsync/lib/python3.7/site-packages (from -r /content/lyrics-sync/condaenv.qrdfl5uy.requirements.txt (line 60)) (1.2.0)\n",
            "Requirement already satisfied: jsonschema==4.17.3 in /usr/local/envs/lsync/lib/python3.7/site-packages (from -r /content/lyrics-sync/condaenv.qrdfl5uy.requirements.txt (line 61)) (4.17.3)\n",
            "Requirement already satisfied: julius==0.2.7 in /usr/local/envs/lsync/lib/python3.7/site-packages (from -r /content/lyrics-sync/condaenv.qrdfl5uy.requirements.txt (line 62)) (0.2.7)\n",
            "Requirement already satisfied: jupyter==1.0.0 in /usr/local/envs/lsync/lib/python3.7/site-packages (from -r /content/lyrics-sync/condaenv.qrdfl5uy.requirements.txt (line 63)) (1.0.0)\n",
            "Requirement already satisfied: jupyter-client==7.4.9 in /usr/local/envs/lsync/lib/python3.7/site-packages (from -r /content/lyrics-sync/condaenv.qrdfl5uy.requirements.txt (line 64)) (7.4.9)\n",
            "Requirement already satisfied: jupyter-console==6.6.3 in /usr/local/envs/lsync/lib/python3.7/site-packages (from -r /content/lyrics-sync/condaenv.qrdfl5uy.requirements.txt (line 65)) (6.6.3)\n",
            "Requirement already satisfied: jupyter-core==4.12.0 in /usr/local/envs/lsync/lib/python3.7/site-packages (from -r /content/lyrics-sync/condaenv.qrdfl5uy.requirements.txt (line 66)) (4.12.0)\n",
            "Requirement already satisfied: jupyter-server==1.24.0 in /usr/local/envs/lsync/lib/python3.7/site-packages (from -r /content/lyrics-sync/condaenv.qrdfl5uy.requirements.txt (line 67)) (1.24.0)\n",
            "Requirement already satisfied: jupyterlab-pygments==0.2.2 in /usr/local/envs/lsync/lib/python3.7/site-packages (from -r /content/lyrics-sync/condaenv.qrdfl5uy.requirements.txt (line 68)) (0.2.2)\n",
            "Requirement already satisfied: kiwisolver==1.4.4 in /usr/local/envs/lsync/lib/python3.7/site-packages (from -r /content/lyrics-sync/condaenv.qrdfl5uy.requirements.txt (line 69)) (1.4.4)\n",
            "Requirement already satisfied: lameenc==1.4.2 in /usr/local/envs/lsync/lib/python3.7/site-packages (from -r /content/lyrics-sync/condaenv.qrdfl5uy.requirements.txt (line 70)) (1.4.2)\n",
            "Requirement already satisfied: lazy-loader==0.2 in /usr/local/envs/lsync/lib/python3.7/site-packages (from -r /content/lyrics-sync/condaenv.qrdfl5uy.requirements.txt (line 71)) (0.2)\n",
            "Requirement already satisfied: librosa==0.10.0.post2 in /usr/local/envs/lsync/lib/python3.7/site-packages (from -r /content/lyrics-sync/condaenv.qrdfl5uy.requirements.txt (line 72)) (0.10.0.post2)\n",
            "Requirement already satisfied: llvmlite==0.39.1 in /usr/local/envs/lsync/lib/python3.7/site-packages (from -r /content/lyrics-sync/condaenv.qrdfl5uy.requirements.txt (line 73)) (0.39.1)\n",
            "Requirement already satisfied: markupsafe==2.1.2 in /usr/local/envs/lsync/lib/python3.7/site-packages (from -r /content/lyrics-sync/condaenv.qrdfl5uy.requirements.txt (line 74)) (2.1.2)\n",
            "Requirement already satisfied: matplotlib==3.5.3 in /usr/local/envs/lsync/lib/python3.7/site-packages (from -r /content/lyrics-sync/condaenv.qrdfl5uy.requirements.txt (line 75)) (3.5.3)\n",
            "Requirement already satisfied: mistune==2.0.5 in /usr/local/envs/lsync/lib/python3.7/site-packages (from -r /content/lyrics-sync/condaenv.qrdfl5uy.requirements.txt (line 76)) (2.0.5)\n",
            "Requirement already satisfied: msgpack==1.0.5 in /usr/local/envs/lsync/lib/python3.7/site-packages (from -r /content/lyrics-sync/condaenv.qrdfl5uy.requirements.txt (line 77)) (1.0.5)\n",
            "Requirement already satisfied: multidict==6.0.4 in /usr/local/envs/lsync/lib/python3.7/site-packages (from -r /content/lyrics-sync/condaenv.qrdfl5uy.requirements.txt (line 78)) (6.0.4)\n",
            "Requirement already satisfied: multiprocess==0.70.14 in /usr/local/envs/lsync/lib/python3.7/site-packages (from -r /content/lyrics-sync/condaenv.qrdfl5uy.requirements.txt (line 79)) (0.70.14)\n",
            "Requirement already satisfied: musdb==0.4.0 in /usr/local/envs/lsync/lib/python3.7/site-packages (from -r /content/lyrics-sync/condaenv.qrdfl5uy.requirements.txt (line 80)) (0.4.0)\n",
            "Requirement already satisfied: museval==0.4.0 in /usr/local/envs/lsync/lib/python3.7/site-packages (from -r /content/lyrics-sync/condaenv.qrdfl5uy.requirements.txt (line 81)) (0.4.0)\n",
            "Requirement already satisfied: nbclassic==0.5.5 in /usr/local/envs/lsync/lib/python3.7/site-packages (from -r /content/lyrics-sync/condaenv.qrdfl5uy.requirements.txt (line 82)) (0.5.5)\n",
            "Requirement already satisfied: nbclient==0.7.3 in /usr/local/envs/lsync/lib/python3.7/site-packages (from -r /content/lyrics-sync/condaenv.qrdfl5uy.requirements.txt (line 83)) (0.7.3)\n",
            "Requirement already satisfied: nbconvert==7.3.1 in /usr/local/envs/lsync/lib/python3.7/site-packages (from -r /content/lyrics-sync/condaenv.qrdfl5uy.requirements.txt (line 84)) (7.3.1)\n",
            "Requirement already satisfied: nbformat==5.8.0 in /usr/local/envs/lsync/lib/python3.7/site-packages (from -r /content/lyrics-sync/condaenv.qrdfl5uy.requirements.txt (line 85)) (5.8.0)\n",
            "Requirement already satisfied: nest-asyncio==1.5.6 in /usr/local/envs/lsync/lib/python3.7/site-packages (from -r /content/lyrics-sync/condaenv.qrdfl5uy.requirements.txt (line 86)) (1.5.6)\n",
            "Requirement already satisfied: notebook==6.5.4 in /usr/local/envs/lsync/lib/python3.7/site-packages (from -r /content/lyrics-sync/condaenv.qrdfl5uy.requirements.txt (line 87)) (6.5.4)\n",
            "Requirement already satisfied: notebook-shim==0.2.2 in /usr/local/envs/lsync/lib/python3.7/site-packages (from -r /content/lyrics-sync/condaenv.qrdfl5uy.requirements.txt (line 88)) (0.2.2)\n",
            "Requirement already satisfied: num2words==0.5.12 in /usr/local/envs/lsync/lib/python3.7/site-packages (from -r /content/lyrics-sync/condaenv.qrdfl5uy.requirements.txt (line 89)) (0.5.12)\n",
            "Requirement already satisfied: numba==0.56.4 in /usr/local/envs/lsync/lib/python3.7/site-packages (from -r /content/lyrics-sync/condaenv.qrdfl5uy.requirements.txt (line 90)) (0.56.4)\n",
            "Requirement already satisfied: omegaconf==2.3.0 in /usr/local/envs/lsync/lib/python3.7/site-packages (from -r /content/lyrics-sync/condaenv.qrdfl5uy.requirements.txt (line 91)) (2.3.0)\n",
            "Requirement already satisfied: openunmix==1.2.1 in /usr/local/envs/lsync/lib/python3.7/site-packages (from -r /content/lyrics-sync/condaenv.qrdfl5uy.requirements.txt (line 92)) (1.2.1)\n",
            "Requirement already satisfied: packaging==23.1 in /usr/local/envs/lsync/lib/python3.7/site-packages (from -r /content/lyrics-sync/condaenv.qrdfl5uy.requirements.txt (line 93)) (23.1)\n",
            "Requirement already satisfied: pandas==1.3.5 in /usr/local/envs/lsync/lib/python3.7/site-packages (from -r /content/lyrics-sync/condaenv.qrdfl5uy.requirements.txt (line 94)) (1.3.5)\n",
            "Requirement already satisfied: pandocfilters==1.5.0 in /usr/local/envs/lsync/lib/python3.7/site-packages (from -r /content/lyrics-sync/condaenv.qrdfl5uy.requirements.txt (line 95)) (1.5.0)\n",
            "Requirement already satisfied: pathtools==0.1.2 in /usr/local/envs/lsync/lib/python3.7/site-packages (from -r /content/lyrics-sync/condaenv.qrdfl5uy.requirements.txt (line 96)) (0.1.2)\n",
            "Requirement already satisfied: pfzy==0.3.4 in /usr/local/envs/lsync/lib/python3.7/site-packages (from -r /content/lyrics-sync/condaenv.qrdfl5uy.requirements.txt (line 97)) (0.3.4)\n",
            "Requirement already satisfied: pillow==9.5.0 in /usr/local/envs/lsync/lib/python3.7/site-packages (from -r /content/lyrics-sync/condaenv.qrdfl5uy.requirements.txt (line 98)) (9.5.0)\n",
            "Requirement already satisfied: pipreqs==0.4.13 in /usr/local/envs/lsync/lib/python3.7/site-packages (from -r /content/lyrics-sync/condaenv.qrdfl5uy.requirements.txt (line 99)) (0.4.13)\n",
            "Requirement already satisfied: pkgutil-resolve-name==1.3.10 in /usr/local/envs/lsync/lib/python3.7/site-packages (from -r /content/lyrics-sync/condaenv.qrdfl5uy.requirements.txt (line 100)) (1.3.10)\n",
            "Requirement already satisfied: pooch==1.6.0 in /usr/local/envs/lsync/lib/python3.7/site-packages (from -r /content/lyrics-sync/condaenv.qrdfl5uy.requirements.txt (line 101)) (1.6.0)\n",
            "Requirement already satisfied: prometheus-client==0.16.0 in /usr/local/envs/lsync/lib/python3.7/site-packages (from -r /content/lyrics-sync/condaenv.qrdfl5uy.requirements.txt (line 102)) (0.16.0)\n",
            "Requirement already satisfied: prompt-toolkit==3.0.38 in /usr/local/envs/lsync/lib/python3.7/site-packages (from -r /content/lyrics-sync/condaenv.qrdfl5uy.requirements.txt (line 103)) (3.0.38)\n",
            "Requirement already satisfied: protobuf==4.22.3 in /usr/local/envs/lsync/lib/python3.7/site-packages (from -r /content/lyrics-sync/condaenv.qrdfl5uy.requirements.txt (line 104)) (4.22.3)\n",
            "Requirement already satisfied: psutil==5.9.4 in /usr/local/envs/lsync/lib/python3.7/site-packages (from -r /content/lyrics-sync/condaenv.qrdfl5uy.requirements.txt (line 105)) (5.9.4)\n",
            "Requirement already satisfied: pyaml==21.10.1 in /usr/local/envs/lsync/lib/python3.7/site-packages (from -r /content/lyrics-sync/condaenv.qrdfl5uy.requirements.txt (line 106)) (21.10.1)\n",
            "Requirement already satisfied: pyarrow==11.0.0 in /usr/local/envs/lsync/lib/python3.7/site-packages (from -r /content/lyrics-sync/condaenv.qrdfl5uy.requirements.txt (line 107)) (11.0.0)\n",
            "Requirement already satisfied: pycparser==2.21 in /usr/local/envs/lsync/lib/python3.7/site-packages (from -r /content/lyrics-sync/condaenv.qrdfl5uy.requirements.txt (line 108)) (2.21)\n",
            "Requirement already satisfied: pyctcdecode==0.5.0 in /usr/local/envs/lsync/lib/python3.7/site-packages (from -r /content/lyrics-sync/condaenv.qrdfl5uy.requirements.txt (line 109)) (0.5.0)\n",
            "Requirement already satisfied: pydub==0.25.1 in /usr/local/envs/lsync/lib/python3.7/site-packages (from -r /content/lyrics-sync/condaenv.qrdfl5uy.requirements.txt (line 110)) (0.25.1)\n",
            "Requirement already satisfied: pygments==2.15.0 in /usr/local/envs/lsync/lib/python3.7/site-packages (from -r /content/lyrics-sync/condaenv.qrdfl5uy.requirements.txt (line 111)) (2.15.0)\n",
            "Requirement already satisfied: pygtrie==2.5.0 in /usr/local/envs/lsync/lib/python3.7/site-packages (from -r /content/lyrics-sync/condaenv.qrdfl5uy.requirements.txt (line 112)) (2.5.0)\n",
            "Requirement already satisfied: pyparsing==3.0.9 in /usr/local/envs/lsync/lib/python3.7/site-packages (from -r /content/lyrics-sync/condaenv.qrdfl5uy.requirements.txt (line 113)) (3.0.9)\n",
            "Requirement already satisfied: pyrsistent==0.19.3 in /usr/local/envs/lsync/lib/python3.7/site-packages (from -r /content/lyrics-sync/condaenv.qrdfl5uy.requirements.txt (line 114)) (0.19.3)\n",
            "Requirement already satisfied: pytz==2023.3 in /usr/local/envs/lsync/lib/python3.7/site-packages (from -r /content/lyrics-sync/condaenv.qrdfl5uy.requirements.txt (line 115)) (2023.3)\n",
            "Requirement already satisfied: pyyaml==6.0 in /usr/local/envs/lsync/lib/python3.7/site-packages (from -r /content/lyrics-sync/condaenv.qrdfl5uy.requirements.txt (line 116)) (6.0)\n",
            "Requirement already satisfied: pyzmq==25.0.2 in /usr/local/envs/lsync/lib/python3.7/site-packages (from -r /content/lyrics-sync/condaenv.qrdfl5uy.requirements.txt (line 117)) (25.0.2)\n",
            "Requirement already satisfied: qtconsole==5.4.2 in /usr/local/envs/lsync/lib/python3.7/site-packages (from -r /content/lyrics-sync/condaenv.qrdfl5uy.requirements.txt (line 118)) (5.4.2)\n",
            "Requirement already satisfied: qtpy==2.3.1 in /usr/local/envs/lsync/lib/python3.7/site-packages (from -r /content/lyrics-sync/condaenv.qrdfl5uy.requirements.txt (line 119)) (2.3.1)\n",
            "Requirement already satisfied: rapidfuzz==2.13.7 in /usr/local/envs/lsync/lib/python3.7/site-packages (from -r /content/lyrics-sync/condaenv.qrdfl5uy.requirements.txt (line 120)) (2.13.7)\n",
            "Requirement already satisfied: regex==2022.10.31 in /usr/local/envs/lsync/lib/python3.7/site-packages (from -r /content/lyrics-sync/condaenv.qrdfl5uy.requirements.txt (line 121)) (2022.10.31)\n",
            "Requirement already satisfied: requests==2.28.2 in /usr/local/envs/lsync/lib/python3.7/site-packages (from -r /content/lyrics-sync/condaenv.qrdfl5uy.requirements.txt (line 122)) (2.28.2)\n",
            "Requirement already satisfied: responses==0.18.0 in /usr/local/envs/lsync/lib/python3.7/site-packages (from -r /content/lyrics-sync/condaenv.qrdfl5uy.requirements.txt (line 123)) (0.18.0)\n",
            "Requirement already satisfied: retrying==1.3.4 in /usr/local/envs/lsync/lib/python3.7/site-packages (from -r /content/lyrics-sync/condaenv.qrdfl5uy.requirements.txt (line 124)) (1.3.4)\n",
            "Requirement already satisfied: ruamel-yaml==0.17.24 in /usr/local/envs/lsync/lib/python3.7/site-packages (from -r /content/lyrics-sync/condaenv.qrdfl5uy.requirements.txt (line 125)) (0.17.24)\n",
            "Requirement already satisfied: ruamel-yaml-clib==0.2.7 in /usr/local/envs/lsync/lib/python3.7/site-packages (from -r /content/lyrics-sync/condaenv.qrdfl5uy.requirements.txt (line 126)) (0.2.7)\n",
            "Requirement already satisfied: scikit-learn==1.0.2 in /usr/local/envs/lsync/lib/python3.7/site-packages (from -r /content/lyrics-sync/condaenv.qrdfl5uy.requirements.txt (line 127)) (1.0.2)\n",
            "Requirement already satisfied: scipy==1.7.3 in /usr/local/envs/lsync/lib/python3.7/site-packages (from -r /content/lyrics-sync/condaenv.qrdfl5uy.requirements.txt (line 128)) (1.7.3)\n",
            "Requirement already satisfied: seaborn==0.12.2 in /usr/local/envs/lsync/lib/python3.7/site-packages (from -r /content/lyrics-sync/condaenv.qrdfl5uy.requirements.txt (line 129)) (0.12.2)\n",
            "Requirement already satisfied: send2trash==1.8.0 in /usr/local/envs/lsync/lib/python3.7/site-packages (from -r /content/lyrics-sync/condaenv.qrdfl5uy.requirements.txt (line 130)) (1.8.0)\n",
            "Requirement already satisfied: sentencepiece==0.1.99 in /usr/local/envs/lsync/lib/python3.7/site-packages (from -r /content/lyrics-sync/condaenv.qrdfl5uy.requirements.txt (line 131)) (0.1.99)\n",
            "Requirement already satisfied: sentry-sdk==1.19.1 in /usr/local/envs/lsync/lib/python3.7/site-packages (from -r /content/lyrics-sync/condaenv.qrdfl5uy.requirements.txt (line 132)) (1.19.1)\n",
            "Requirement already satisfied: setproctitle==1.3.2 in /usr/local/envs/lsync/lib/python3.7/site-packages (from -r /content/lyrics-sync/condaenv.qrdfl5uy.requirements.txt (line 133)) (1.3.2)\n",
            "Requirement already satisfied: setuptools==67.6.1 in /usr/local/envs/lsync/lib/python3.7/site-packages (from -r /content/lyrics-sync/condaenv.qrdfl5uy.requirements.txt (line 134)) (67.6.1)\n",
            "Requirement already satisfied: simplejson==3.19.1 in /usr/local/envs/lsync/lib/python3.7/site-packages (from -r /content/lyrics-sync/condaenv.qrdfl5uy.requirements.txt (line 135)) (3.19.1)\n",
            "Requirement already satisfied: smmap==5.0.0 in /usr/local/envs/lsync/lib/python3.7/site-packages (from -r /content/lyrics-sync/condaenv.qrdfl5uy.requirements.txt (line 136)) (5.0.0)\n",
            "Requirement already satisfied: sniffio==1.3.0 in /usr/local/envs/lsync/lib/python3.7/site-packages (from -r /content/lyrics-sync/condaenv.qrdfl5uy.requirements.txt (line 137)) (1.3.0)\n",
            "Requirement already satisfied: sortedcontainers==2.4.0 in /usr/local/envs/lsync/lib/python3.7/site-packages (from -r /content/lyrics-sync/condaenv.qrdfl5uy.requirements.txt (line 138)) (2.4.0)\n",
            "Requirement already satisfied: soundfile==0.12.1 in /usr/local/envs/lsync/lib/python3.7/site-packages (from -r /content/lyrics-sync/condaenv.qrdfl5uy.requirements.txt (line 139)) (0.12.1)\n",
            "Requirement already satisfied: soupsieve==2.4 in /usr/local/envs/lsync/lib/python3.7/site-packages (from -r /content/lyrics-sync/condaenv.qrdfl5uy.requirements.txt (line 140)) (2.4)\n",
            "Requirement already satisfied: soxr==0.3.5 in /usr/local/envs/lsync/lib/python3.7/site-packages (from -r /content/lyrics-sync/condaenv.qrdfl5uy.requirements.txt (line 141)) (0.3.5)\n",
            "Requirement already satisfied: speechbrain==0.5.14 in /usr/local/envs/lsync/lib/python3.7/site-packages (from -r /content/lyrics-sync/condaenv.qrdfl5uy.requirements.txt (line 142)) (0.5.14)\n",
            "Requirement already satisfied: stempeg==0.2.3 in /usr/local/envs/lsync/lib/python3.7/site-packages (from -r /content/lyrics-sync/condaenv.qrdfl5uy.requirements.txt (line 143)) (0.2.3)\n",
            "Requirement already satisfied: submitit==1.4.5 in /usr/local/envs/lsync/lib/python3.7/site-packages (from -r /content/lyrics-sync/condaenv.qrdfl5uy.requirements.txt (line 144)) (1.4.5)\n",
            "Requirement already satisfied: terminado==0.17.1 in /usr/local/envs/lsync/lib/python3.7/site-packages (from -r /content/lyrics-sync/condaenv.qrdfl5uy.requirements.txt (line 145)) (0.17.1)\n",
            "Requirement already satisfied: threadpoolctl==3.1.0 in /usr/local/envs/lsync/lib/python3.7/site-packages (from -r /content/lyrics-sync/condaenv.qrdfl5uy.requirements.txt (line 146)) (3.1.0)\n",
            "Requirement already satisfied: tinycss2==1.2.1 in /usr/local/envs/lsync/lib/python3.7/site-packages (from -r /content/lyrics-sync/condaenv.qrdfl5uy.requirements.txt (line 147)) (1.2.1)\n",
            "Requirement already satisfied: tokenizers==0.13.3 in /usr/local/envs/lsync/lib/python3.7/site-packages (from -r /content/lyrics-sync/condaenv.qrdfl5uy.requirements.txt (line 148)) (0.13.3)\n",
            "Requirement already satisfied: traitlets==5.9.0 in /usr/local/envs/lsync/lib/python3.7/site-packages (from -r /content/lyrics-sync/condaenv.qrdfl5uy.requirements.txt (line 149)) (5.9.0)\n",
            "Requirement already satisfied: transformers==4.29.1 in /usr/local/envs/lsync/lib/python3.7/site-packages (from -r /content/lyrics-sync/condaenv.qrdfl5uy.requirements.txt (line 150)) (4.29.1)\n",
            "Requirement already satisfied: treetable==0.2.5 in /usr/local/envs/lsync/lib/python3.7/site-packages (from -r /content/lyrics-sync/condaenv.qrdfl5uy.requirements.txt (line 151)) (0.2.5)\n",
            "Requirement already satisfied: urllib3==1.26.15 in /usr/local/envs/lsync/lib/python3.7/site-packages (from -r /content/lyrics-sync/condaenv.qrdfl5uy.requirements.txt (line 152)) (1.26.15)\n",
            "Requirement already satisfied: wandb==0.14.2 in /usr/local/envs/lsync/lib/python3.7/site-packages (from -r /content/lyrics-sync/condaenv.qrdfl5uy.requirements.txt (line 153)) (0.14.2)\n",
            "Requirement already satisfied: wcwidth==0.2.6 in /usr/local/envs/lsync/lib/python3.7/site-packages (from -r /content/lyrics-sync/condaenv.qrdfl5uy.requirements.txt (line 154)) (0.2.6)\n",
            "Requirement already satisfied: webencodings==0.5.1 in /usr/local/envs/lsync/lib/python3.7/site-packages (from -r /content/lyrics-sync/condaenv.qrdfl5uy.requirements.txt (line 155)) (0.5.1)\n",
            "Requirement already satisfied: websocket-client==1.5.1 in /usr/local/envs/lsync/lib/python3.7/site-packages (from -r /content/lyrics-sync/condaenv.qrdfl5uy.requirements.txt (line 156)) (1.5.1)\n",
            "Requirement already satisfied: xxhash==3.2.0 in /usr/local/envs/lsync/lib/python3.7/site-packages (from -r /content/lyrics-sync/condaenv.qrdfl5uy.requirements.txt (line 157)) (3.2.0)\n",
            "Requirement already satisfied: yarg==0.1.9 in /usr/local/envs/lsync/lib/python3.7/site-packages (from -r /content/lyrics-sync/condaenv.qrdfl5uy.requirements.txt (line 158)) (0.1.9)\n",
            "Requirement already satisfied: yarl==1.8.2 in /usr/local/envs/lsync/lib/python3.7/site-packages (from -r /content/lyrics-sync/condaenv.qrdfl5uy.requirements.txt (line 159)) (1.8.2)\n",
            "Requirement already satisfied: youtube-dl==2021.12.17 in /usr/local/envs/lsync/lib/python3.7/site-packages (from -r /content/lyrics-sync/condaenv.qrdfl5uy.requirements.txt (line 160)) (2021.12.17)\n",
            "Requirement already satisfied: zipp==3.15.0 in /usr/local/envs/lsync/lib/python3.7/site-packages (from -r /content/lyrics-sync/condaenv.qrdfl5uy.requirements.txt (line 161)) (3.15.0)\n",
            "Requirement already satisfied: numpy>=1.17 in /usr/local/envs/lsync/lib/python3.7/site-packages (from accelerate==0.19.0->-r /content/lyrics-sync/condaenv.qrdfl5uy.requirements.txt (line 1)) (1.21.5)\n",
            "Requirement already satisfied: torch>=1.6.0 in /usr/local/envs/lsync/lib/python3.7/site-packages (from accelerate==0.19.0->-r /content/lyrics-sync/condaenv.qrdfl5uy.requirements.txt (line 1)) (1.13.1)\n",
            "Requirement already satisfied: typing-extensions>=3.7.4 in /usr/local/envs/lsync/lib/python3.7/site-packages (from aiohttp==3.8.4->-r /content/lyrics-sync/condaenv.qrdfl5uy.requirements.txt (line 2)) (4.5.0)\n",
            "Requirement already satisfied: six>=1.9.0 in /usr/local/envs/lsync/lib/python3.7/site-packages (from bleach==6.0.0->-r /content/lyrics-sync/condaenv.qrdfl5uy.requirements.txt (line 14)) (1.16.0)\n",
            "Requirement already satisfied: tqdm>=4.62.1 in /usr/local/envs/lsync/lib/python3.7/site-packages (from datasets==2.12.0->-r /content/lyrics-sync/condaenv.qrdfl5uy.requirements.txt (line 24)) (4.65.0)\n",
            "Requirement already satisfied: torchaudio>=0.8 in /usr/local/envs/lsync/lib/python3.7/site-packages (from demucs==4.0.0->-r /content/lyrics-sync/condaenv.qrdfl5uy.requirements.txt (line 27)) (0.13.1)\n",
            "Requirement already satisfied: matplotlib-inline>=0.1 in /usr/local/envs/lsync/lib/python3.7/site-packages (from ipykernel==6.16.2->-r /content/lyrics-sync/condaenv.qrdfl5uy.requirements.txt (line 54)) (0.1.6)\n",
            "Requirement already satisfied: tornado>=6.1 in /usr/local/envs/lsync/lib/python3.7/site-packages (from ipykernel==6.16.2->-r /content/lyrics-sync/condaenv.qrdfl5uy.requirements.txt (line 54)) (6.2)\n",
            "Requirement already satisfied: pexpect>4.3 in /usr/local/envs/lsync/lib/python3.7/site-packages (from ipython==7.34.0->-r /content/lyrics-sync/condaenv.qrdfl5uy.requirements.txt (line 55)) (4.8.0)\n",
            "Requirement already satisfied: backcall in /usr/local/envs/lsync/lib/python3.7/site-packages (from ipython==7.34.0->-r /content/lyrics-sync/condaenv.qrdfl5uy.requirements.txt (line 55)) (0.2.0)\n",
            "Requirement already satisfied: pickleshare in /usr/local/envs/lsync/lib/python3.7/site-packages (from ipython==7.34.0->-r /content/lyrics-sync/condaenv.qrdfl5uy.requirements.txt (line 55)) (0.7.5)\n",
            "Requirement already satisfied: decorator in /usr/local/envs/lsync/lib/python3.7/site-packages (from ipython==7.34.0->-r /content/lyrics-sync/condaenv.qrdfl5uy.requirements.txt (line 55)) (5.1.1)\n",
            "Requirement already satisfied: parso<0.9.0,>=0.8.0 in /usr/local/envs/lsync/lib/python3.7/site-packages (from jedi==0.18.2->-r /content/lyrics-sync/condaenv.qrdfl5uy.requirements.txt (line 56)) (0.8.3)\n",
            "Requirement already satisfied: ipywidgets in /usr/local/envs/lsync/lib/python3.7/site-packages (from jupyter==1.0.0->-r /content/lyrics-sync/condaenv.qrdfl5uy.requirements.txt (line 63)) (8.0.6)\n",
            "Requirement already satisfied: entrypoints in /usr/local/envs/lsync/lib/python3.7/site-packages (from jupyter-client==7.4.9->-r /content/lyrics-sync/condaenv.qrdfl5uy.requirements.txt (line 64)) (0.4)\n",
            "Requirement already satisfied: python-dateutil>=2.8.2 in /usr/local/envs/lsync/lib/python3.7/site-packages (from jupyter-client==7.4.9->-r /content/lyrics-sync/condaenv.qrdfl5uy.requirements.txt (line 64)) (2.8.2)\n",
            "Requirement already satisfied: ipython-genutils in /usr/local/envs/lsync/lib/python3.7/site-packages (from nbclassic==0.5.5->-r /content/lyrics-sync/condaenv.qrdfl5uy.requirements.txt (line 82)) (0.2.0)\n",
            "Requirement already satisfied: ptyprocess in /usr/local/envs/lsync/lib/python3.7/site-packages (from terminado==0.17.1->-r /content/lyrics-sync/condaenv.qrdfl5uy.requirements.txt (line 145)) (0.7.0)\n",
            "Requirement already satisfied: widgetsnbextension~=4.0.7 in /usr/local/envs/lsync/lib/python3.7/site-packages (from ipywidgets->jupyter==1.0.0->-r /content/lyrics-sync/condaenv.qrdfl5uy.requirements.txt (line 63)) (4.0.7)\n",
            "Requirement already satisfied: jupyterlab-widgets~=3.0.7 in /usr/local/envs/lsync/lib/python3.7/site-packages (from ipywidgets->jupyter==1.0.0->-r /content/lyrics-sync/condaenv.qrdfl5uy.requirements.txt (line 63)) (3.0.7)\n",
            "\n",
            "\b\b- \b\bdone\n",
            "#\n",
            "# To activate this environment, use\n",
            "#\n",
            "#     $ conda activate lsync\n",
            "#\n",
            "# To deactivate an active environment, use\n",
            "#\n",
            "#     $ conda deactivate\n",
            "\n"
          ]
        },
        {
          "output_type": "stream",
          "name": "stderr",
          "text": [
            "Some weights of Wav2Vec2ForCTC were not initialized from the model checkpoint at facebook/wav2vec2-large-960h-lv60-self and are newly initialized: ['wav2vec2.masked_spec_embed']\n",
            "You should probably TRAIN this model on a down-stream task to be able to use it for predictions and inference.\n"
          ]
        },
        {
          "output_type": "stream",
          "name": "stdout",
          "text": [
            "[<00:40.75> Nas, <00:40.93> favelas,, <00:42.43> no, <00:42.61> Senado, <00:44.93> Sujeira, <00:45.28> pra, <00:45.50> todo, <00:45.93> lado, <00:47.16> Ninguém, <00:47.64> respeita, <00:48.06> a, <00:48.17> Constituição, <00:50.89> Mas, <00:51.10> todos, <00:51.57> acreditam, <00:52.38> no, <00:52.50> futuro, <00:53.16> da, <00:53.39> nação, <00:57.24> Que, <00:57.43> país, <00:58.06> é, <00:58.17> esse?, <01:00.52> Que, <01:00.70> país, <01:01.32> é, <01:01.48> esse?, <01:03.82> Que, <01:04.01> país, <01:04.68> é, <01:04.82> esse?, <01:20.32> No, <01:20.50> Amazonas,, <01:21.96> no, <01:22.06> Araguaia-ia-ia, <01:23.65> Na, <01:23.82> Baixada, <01:24.42> Fluminense, <01:26.87> Mato, <01:27.28> Grosso,, <01:28.40> Minas, <01:28.78> Gerais, <01:29.98> E, <01:30.14> no, <01:30.34> Nordeste, <01:31.20> tudo, <01:31.48> em, <01:31.68> paz, <01:33.29> Na, <01:33.50> morte,, <01:34.01> eu, <01:34.32> descanso, <01:36.78> Mas, <01:36.98> o, <01:37.14> sangue, <01:37.46> anda, <01:37.82> solto, <01:39.84> Manchando, <01:40.56> os, <01:40.79> papéis, <01:43.46> Documentos, <01:44.85> fiéis, <01:46.65> Ao, <01:46.93> descanso, <01:47.56> do, <01:47.79> patrão, <01:50.26> Que, <01:50.92> país, <01:53.68> é, <01:54.01> esse?, <01:56.64> Que, <01:56.87> país, <01:57.46> é, <01:57.68> esse?, <01:59.90> Que, <02:00.10> país, <02:00.74> é, <02:00.87> esse?, <02:02.00> Que, <02:02.50> país, <02:15.15> é, <02:16.06> esse?, <02:16.21> Terceiro, <02:16.64> mundo, <02:17.06> se, <02:17.24> for, <02:19.31> Piada, <02:19.75> no, <02:19.97> exterior, <02:22.52> Mas, <02:22.81> o, <02:22.92> Brasil, <02:23.34> vai, <02:23.53> ficar, <02:23.97> rico, <02:25.56> Vamos, <02:26.00> faturar, <02:26.70> um, <02:26.81> milhão, <02:28.96> Quando, <02:29.37> vendermos, <02:30.53> todas, <02:31.02> as, <02:31.28> almas, <02:32.20> Dos, <02:32.37> nossos, <02:32.59> índios, <02:32.93> num, <02:33.08> leilão, <02:33.31> Que, <02:33.56> país, <02:33.78> é, <02:33.92> esse?, <02:35.52> Que, <02:35.71> país, <02:36.37> é, <02:36.52> esse?, <02:38.80> Que, <02:39.00> país, <02:39.59> é, <02:39.74> esse?, <02:42.06> Que, <02:42.25> país, <02:42.87> é, <02:43.02> esse?]\n",
            "[00:00.00] <00:40.75> Nas <00:40.93> favelas, <00:42.43> no <00:42.61> Senado\n",
            "[00:44.92] <00:44.93> Sujeira <00:45.28> pra <00:45.50> todo <00:45.93> lado\n",
            "[00:47.00] <00:47.16> Ninguém <00:47.64> respeita <00:48.06> a <00:48.17> Constituição\n",
            "[00:50.88] <00:50.89> Mas <00:51.10> todos <00:51.57> acreditam <00:52.38> no <00:52.50> futuro <00:53.16> da <00:53.39> nação\n",
            "[00:57.20] <00:57.24> Que <00:57.43> país <00:58.06> é <00:58.17> esse?\n",
            "[00:59.89] <01:00.52> Que <01:00.70> país <01:01.32> é <01:01.48> esse?\n",
            "[01:03.80] <01:03.82> Que <01:04.01> país <01:04.68> é <01:04.82> esse?\n",
            "[01:14.87] <01:20.32> No <01:20.50> Amazonas, <01:21.96> no <01:22.06> Araguaia-ia-ia\n",
            "[01:23.64] <01:23.65> Na <01:23.82> Baixada <01:24.42> Fluminense\n",
            "[01:26.84] <01:26.87> Mato <01:27.28> Grosso, <01:28.40> Minas <01:28.78> Gerais\n",
            "[01:29.85] <01:29.98> E <01:30.14> no <01:30.34> Nordeste <01:31.20> tudo <01:31.48> em <01:31.68> paz\n",
            "[01:33.26] <01:33.29> Na <01:33.50> morte, <01:34.01> eu <01:34.32> descanso\n",
            "[01:36.74] <01:36.78> Mas <01:36.98> o <01:37.14> sangue <01:37.46> anda <01:37.82> solto\n",
            "[01:39.79] <01:39.84> Manchando <01:40.56> os <01:40.79> papéis\n",
            "[01:43.42] <01:43.46> Documentos <01:44.85> fiéis\n",
            "[01:46.51] <01:46.65> Ao <01:46.93> descanso <01:47.56> do <01:47.79> patrão\n",
            "[01:50.21] <01:50.26> Que <01:50.92> país <01:53.68> é <01:54.01> esse?\n",
            "[01:56.60] <01:56.64> Que <01:56.87> país <01:57.46> é <01:57.68> esse?\n",
            "[01:59.82] <01:59.90> Que <02:00.10> país <02:00.74> é <02:00.87> esse?\n",
            "[02:01.98] <02:02.00> Que <02:02.50> país <02:15.15> é <02:16.06> esse?\n",
            "[02:16.19] <02:16.21> Terceiro <02:16.64> mundo <02:17.06> se <02:17.24> for\n",
            "[02:19.30] <02:19.31> Piada <02:19.75> no <02:19.97> exterior\n",
            "[02:22.50] <02:22.52> Mas <02:22.81> o <02:22.92> Brasil <02:23.34> vai <02:23.53> ficar <02:23.97> rico\n",
            "[02:25.52] <02:25.56> Vamos <02:26.00> faturar <02:26.70> um <02:26.81> milhão\n",
            "[02:28.92] <02:28.96> Quando <02:29.37> vendermos <02:30.53> todas <02:31.02> as <02:31.28> almas\n",
            "[02:32.15] <02:32.20> Dos <02:32.37> nossos <02:32.59> índios <02:32.93> num <02:33.08> leilão\n",
            "[02:33.30] <02:33.31> Que <02:33.56> país <02:33.78> é <02:33.92> esse?\n",
            "[02:35.47] <02:35.52> Que <02:35.71> país <02:36.37> é <02:36.52> esse?\n",
            "[02:38.75] <02:38.80> Que <02:39.00> país <02:39.59> é <02:39.74> esse?\n",
            "[02:42.03] <02:42.06> Que <02:42.25> país <02:42.87> é <02:43.02> esse?\n",
            "Synced lyrics ready!\n",
            "\n",
            "\n"
          ]
        }
      ]
    }
  ],
  "metadata": {
    "colab": {
      "provenance": [],
      "collapsed_sections": [
        "ZF78qPq1jThN",
        "VN-s5WeOZy3I",
        "5Cdywwcfo27T",
        "aY9dNpCci2K6"
      ],
      "mount_file_id": "1msdkJM5knwy1ej2JoyDhaSCQse9yRLwk",
      "authorship_tag": "ABX9TyPJHES319ENDLDPllN0SLkB",
      "include_colab_link": true
    },
    "kernelspec": {
      "display_name": "Python 3",
      "name": "python3"
    },
    "language_info": {
      "name": "python"
    }
  },
  "nbformat": 4,
  "nbformat_minor": 0
}