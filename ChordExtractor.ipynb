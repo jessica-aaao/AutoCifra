{
  "cells": [
    {
      "cell_type": "markdown",
      "metadata": {
        "id": "view-in-github",
        "colab_type": "text"
      },
      "source": [
        "<a href=\"https://colab.research.google.com/github/jessica-aaao/ChordsExtractor/blob/main/ChordExtractor.ipynb\" target=\"_parent\"><img src=\"https://colab.research.google.com/assets/colab-badge.svg\" alt=\"Open In Colab\"/></a>"
      ]
    },
    {
      "cell_type": "markdown",
      "metadata": {
        "id": "qbGwo2vNqudH"
      },
      "source": [
        "# Imports"
      ]
    },
    {
      "cell_type": "code",
      "execution_count": 30,
      "metadata": {
        "collapsed": true,
        "id": "QpxATemCRUhB"
      },
      "outputs": [],
      "source": [
        "!python3 -m pip install -q -U \"yt-dlp[default]\"\n",
        "!pip install -q -U openai-whisper\n",
        "!pip install -q -U demucs"
      ]
    },
    {
      "cell_type": "code",
      "execution_count": 31,
      "metadata": {
        "id": "iQ6U79pbRWYS"
      },
      "outputs": [],
      "source": [
        "import requests\n",
        "import json\n",
        "import pandas as pd\n",
        "import os\n",
        "import re\n",
        "import unicodedata"
      ]
    },
    {
      "cell_type": "code",
      "execution_count": 32,
      "metadata": {
        "id": "rgEgMc74qzX3"
      },
      "outputs": [],
      "source": [
        "from google.colab import drive\n",
        "from IPython.display import display\n",
        "from bs4 import BeautifulSoup"
      ]
    },
    {
      "cell_type": "code",
      "execution_count": 33,
      "metadata": {
        "colab": {
          "base_uri": "https://localhost:8080/"
        },
        "id": "mx_jyzDgdJKZ",
        "outputId": "40b0954f-da4c-4b30-ec4a-05dbcb65a843"
      },
      "outputs": [
        {
          "output_type": "stream",
          "name": "stdout",
          "text": [
            "fatal: destination path 'lyrics-sync' already exists and is not an empty directory.\n",
            "fatal: destination path 'ISMIR2019-Large-Vocabulary-Chord-Recognition' already exists and is not an empty directory.\n"
          ]
        }
      ],
      "source": [
        "!git clone  https://github.com/mikezzb/lyrics-sync.git\n",
        "!git clone https://github.com/filipecalegario/ISMIR2019-Large-Vocabulary-Chord-Recognition.git"
      ]
    },
    {
      "cell_type": "code",
      "execution_count": 34,
      "metadata": {
        "id": "IvbC8R-yVINn",
        "colab": {
          "base_uri": "https://localhost:8080/"
        },
        "outputId": "d8a6740c-a57c-438e-e54b-da2fcb73a424"
      },
      "outputs": [
        {
          "output_type": "stream",
          "name": "stdout",
          "text": [
            "Drive already mounted at /content/drive; to attempt to forcibly remount, call drive.mount(\"/content/drive\", force_remount=True).\n"
          ]
        }
      ],
      "source": [
        "drive.mount('/content/drive')"
      ]
    },
    {
      "cell_type": "markdown",
      "metadata": {
        "id": "FYsWox4DJ_Mj"
      },
      "source": [
        "# Common"
      ]
    },
    {
      "cell_type": "code",
      "execution_count": 35,
      "metadata": {
        "id": "CWfAcixMKyIY"
      },
      "outputs": [],
      "source": [
        "class SongUrls:\n",
        "    def __init__(self, name, audio, lyrics, chords):\n",
        "        self.name = name\n",
        "        self.audio = audio\n",
        "        self.lyrics = lyrics\n",
        "        self.chords = chords\n",
        "\n",
        "    def get_name(self):\n",
        "        return self.name\n",
        "\n",
        "    def get_audio_url(self):\n",
        "        return self.audio\n",
        "\n",
        "    def get_lyrics_url(self):\n",
        "        return self.lyrics\n",
        "\n",
        "    def get_chords_url(self):\n",
        "        return self.chords"
      ]
    },
    {
      "cell_type": "code",
      "execution_count": 36,
      "metadata": {
        "id": "sFeFJWwCME2b"
      },
      "outputs": [],
      "source": [
        "def get_urls():\n",
        "    print(f'Fetching urls...\\n\\n')\n",
        "\n",
        "    file_path = '/content/drive/My Drive/TCC/CodeData/songs.csv'\n",
        "    songs = pd.read_csv(file_path)\n",
        "\n",
        "    print(f'Urls fetched!\\n\\n')\n",
        "\n",
        "    return songs"
      ]
    },
    {
      "cell_type": "code",
      "execution_count": 37,
      "metadata": {
        "id": "FT_VGQunKY8t"
      },
      "outputs": [],
      "source": [
        "def get_songs_from_csv():\n",
        "    songs = get_urls()\n",
        "\n",
        "    song_urls = []\n",
        "\n",
        "    print(f'Creating SongUrls...\\n\\n')\n",
        "\n",
        "    for index, row in songs.iterrows():\n",
        "        song_name = slugify(row['Song Name'])\n",
        "        audio_url = row['Audio URL']\n",
        "        lyrics_url = row['Lyrics URL']\n",
        "        chords_url = row['Chords URL']\n",
        "\n",
        "        song_urls.append(SongUrls(song_name, audio_url, lyrics_url, chords_url))\n",
        "\n",
        "    print(f'SongUrls created!\\n\\n')\n",
        "\n",
        "    return song_urls\n"
      ]
    },
    {
      "cell_type": "code",
      "execution_count": 38,
      "metadata": {
        "id": "ZXR8z3Hhd0ss"
      },
      "outputs": [],
      "source": [
        "def slugify(raw_song_name):\n",
        "    song_name = raw_song_name.lower()\n",
        "\n",
        "    song_name = unicodedata.normalize('NFKD', song_name)\n",
        "    song_name = song_name.encode('ascii', 'ignore').decode('ascii')\n",
        "\n",
        "    song_name = re.sub(r'[^a-z0-9]+', '_', song_name)\n",
        "\n",
        "    song_name = song_name.strip('_')\n",
        "\n",
        "    return song_name"
      ]
    },
    {
      "cell_type": "markdown",
      "metadata": {
        "id": "kJQrqqnqj4wS"
      },
      "source": [
        "# Sound"
      ]
    },
    {
      "cell_type": "code",
      "execution_count": 39,
      "metadata": {
        "id": "hUIrxJbQdr9J"
      },
      "outputs": [],
      "source": [
        "def extract_voice_from_audio(audio_path, song_name):\n",
        "    print(f'Extracting vocals from {audio_path}...\\n\\n')\n",
        "\n",
        "    !demucs --two-stems=vocals {audio_path} -o vocals/\n",
        "\n",
        "    return f\"/content/vocals/htdemucs/{song_name}/vocals.wav\"\n"
      ]
    },
    {
      "cell_type": "code",
      "execution_count": 40,
      "metadata": {
        "id": "fdQXA8VHAgy2"
      },
      "outputs": [],
      "source": [
        "def extract_audio_from_video(youtube_url, song_name):\n",
        "    cookies_path = '/content/cookies.txt'\n",
        "    output_path = f\"/content/audios/{song_name}.wav\"\n",
        "\n",
        "    !yt-dlp {youtube_url} --audio-format \"wav\" --cookies {cookies_path} -x -o {output_path}  -q\n",
        "\n",
        "    return f\"{output_path}\""
      ]
    },
    {
      "cell_type": "code",
      "execution_count": 41,
      "metadata": {
        "id": "aeKpjb6Ei6ie"
      },
      "outputs": [],
      "source": [
        "def extract_sound_recording(youtube_url, song_name):\n",
        "    output_path = extract_audio_from_video(youtube_url, song_name)\n",
        "\n",
        "    print(f'Audio saved as {output_path}!\\n\\n')\n",
        "\n",
        "    return output_path"
      ]
    },
    {
      "cell_type": "markdown",
      "metadata": {
        "id": "5Cdywwcfo27T"
      },
      "source": [
        "# Chords"
      ]
    },
    {
      "cell_type": "markdown",
      "metadata": {
        "id": "TmRxoN7QjjZ0"
      },
      "source": [
        "## Chords Extraction from Audio"
      ]
    },
    {
      "cell_type": "code",
      "execution_count": 42,
      "metadata": {
        "id": "B8iKgZsddGEF"
      },
      "outputs": [],
      "source": [
        "def extract_chords_from(song_path, song_name):\n",
        "    \"\"\"Extrai a cifra, com o timestamp, a partir da música\"\"\"\n",
        "    print(f\"Extracting chords from {song_path}...\\n\\n\")\n",
        "\n",
        "    output_folder = \"/content/chords\"\n",
        "    if not os.path.exists(output_folder):\n",
        "        os.makedirs(output_folder)\n",
        "\n",
        "    output_path = f\"{output_folder}/{song_name}.lab\"\n",
        "\n",
        "    %cd ISMIR2019-Large-Vocabulary-Chord-Recognition\n",
        "    !pip install -q -r requirements.txt\n",
        "    !python chord_recognition.py {song_path} {output_path}\n",
        "    %cd ..\n",
        "    return output_path"
      ]
    },
    {
      "cell_type": "markdown",
      "metadata": {
        "id": "ZDq-tvxzo_Oj"
      },
      "source": [
        "## Chords Sync to Lyrics"
      ]
    },
    {
      "cell_type": "markdown",
      "source": [
        "### Chords Parsing"
      ],
      "metadata": {
        "id": "LkqakhseSzPQ"
      }
    },
    {
      "cell_type": "code",
      "source": [
        "def simplify_chord(chord):\n",
        "    chord = chord.replace(\":\", \"\")\n",
        "    chord = chord.replace(\"min\", \"m\")\n",
        "    chord = chord.replace(\"maj\", \"\")\n",
        "    chord = chord.replace(\"hdim7\", \"m7(b5)\")\n",
        "    chord = chord.replace(\"hdim\", \"m7(b5)\")\n",
        "    chord = chord.replace(\"sus4(b7)\", \"7sus4\")\n",
        "\n",
        "    return chord"
      ],
      "metadata": {
        "id": "HpNAI9zNrLWc"
      },
      "execution_count": 43,
      "outputs": []
    },
    {
      "cell_type": "code",
      "source": [
        "def clean_chords(chords):\n",
        "    \"\"\"\n",
        "    Dada uma lista de acordes (ordenados por tempo),\n",
        "    remove repetições imediatas do mesmo acorde.\n",
        "    \"\"\"\n",
        "    if not chords:\n",
        "        return []\n",
        "    result = [chords[0]]\n",
        "\n",
        "    for i in range(1, len(chords)):\n",
        "        current = chords[i]\n",
        "        previous = result[-1]\n",
        "        if current[\"chord\"] != previous[\"chord\"]:\n",
        "            result.append(current)\n",
        "        else:\n",
        "            previous[\"end\"] = current[\"end\"]\n",
        "\n",
        "    return result"
      ],
      "metadata": {
        "id": "4Nioeg8sTF9W"
      },
      "execution_count": 44,
      "outputs": []
    },
    {
      "cell_type": "code",
      "source": [
        "def parse_chords(chords_path):\n",
        "    # Ler ACORDES do arquivo LAB\n",
        "    print(f\"Parsing chords from {chords_path}...\")\n",
        "\n",
        "    chords = []\n",
        "    with open(chords_path, 'r', encoding='utf-8') as file:\n",
        "        for line in file:\n",
        "            start, end, chord = line.strip().split('\\t')\n",
        "            if chord == 'N':\n",
        "                continue\n",
        "            chord = simplify_chord(chord)\n",
        "            chords.append({\n",
        "                \"start\": float(start),\n",
        "                \"end\": float(end),\n",
        "                \"chord\": chord\n",
        "            })\n",
        "\n",
        "        print(f\"Chords parsed!\\n\\n\")\n",
        "        print(chords)\n",
        "        return clean_chords(chords)"
      ],
      "metadata": {
        "id": "G3kOVI1iSAax"
      },
      "execution_count": 45,
      "outputs": []
    },
    {
      "cell_type": "markdown",
      "source": [
        "### Lyrics Parsing"
      ],
      "metadata": {
        "id": "b3l19J0kS3al"
      }
    },
    {
      "cell_type": "code",
      "source": [
        "def parse_lyrics(timestamped_lyrics_path, lyrics_path):\n",
        "    # Ler LETRA_TRANSCRITA do arquivo CSV\n",
        "    print(f\"Parsing lyrics from {lyrics_path}...\")\n",
        "\n",
        "    timestamped_lyrics = pd.read_csv(timestamped_lyrics_path)\n",
        "    timestamped_per_line = []\n",
        "\n",
        "    with open(lyrics_path, 'r', encoding='utf-8') as file:\n",
        "        for index, line in enumerate(file):\n",
        "            line = line.strip().split()\n",
        "            words_in_line = len(line)\n",
        "\n",
        "            timestamped_words = timestamped_lyrics.iloc[:words_in_line]\n",
        "            timestamped_lyrics = timestamped_lyrics.iloc[words_in_line:]\n",
        "            timestamped_per_line.append([timestamped_words])\n",
        "\n",
        "    print(f'Lyrics Parsed!\\n\\n')\n",
        "\n",
        "    return timestamped_per_line"
      ],
      "metadata": {
        "id": "dIHoieK4S80Z"
      },
      "execution_count": 46,
      "outputs": []
    },
    {
      "cell_type": "markdown",
      "source": [
        "### General"
      ],
      "metadata": {
        "id": "l3BDvl6qSwZV"
      }
    },
    {
      "cell_type": "code",
      "execution_count": 47,
      "metadata": {
        "id": "H6Zb0-udZt-t"
      },
      "outputs": [],
      "source": [
        "def overlay_chords_on_transcribed(lyrics_per_line, chords):\n",
        "    \"\"\"\n",
        "    Associa acordes às palavras da leytra com base nos tempos de ACORDES.\n",
        "    \"\"\"\n",
        "    print(f\"Overlaying chords on lyrics...\")\n",
        "\n",
        "    result = []\n",
        "    previous_end = 0\n",
        "    for line_number, line in enumerate(lyrics_per_line):\n",
        "        for df in line:\n",
        "            for index, row in df.iterrows():\n",
        "                start = row[\"start\"]\n",
        "                end = row[\"end\"]\n",
        "                word = row[\"label\"]\n",
        "                chord_start = None\n",
        "                chord_name = None\n",
        "                chord_end = None\n",
        "\n",
        "                if previous_end is not None and start is not None and end is not None:\n",
        "                    for chord_infos in chords:\n",
        "                        chord_info_start = chord_infos[\"start\"]\n",
        "                        chord_info_end = chord_infos[\"end\"]\n",
        "                        chord_info_name = chord_infos[\"chord\"]\n",
        "\n",
        "                        if  start <= chord_info_start <= end:\n",
        "                            chord_name = chord_info_name\n",
        "                            chord_start = chord_info_start\n",
        "                            chord_end = chord_info_end\n",
        "                        elif previous_end <= chord_info_start < start:\n",
        "                            word = f' {word}'\n",
        "                            chord_name = chord_info_name\n",
        "                            chord_start = chord_info_start\n",
        "                            chord_end = chord_info_end\n",
        "\n",
        "                result.append({\n",
        "                    \"word\": word,\n",
        "                    \"start\": start,\n",
        "                    \"end\": end,\n",
        "                    \"chord\": chord_name,\n",
        "                    \"chord_start\": chord_start,\n",
        "                    \"chord_end\": chord_end,\n",
        "                    \"line\": line_number\n",
        "                })\n",
        "                previous_end = end\n",
        "\n",
        "    print(f\"Chords overlayed!\\n\\n\")\n",
        "\n",
        "    return result"
      ]
    },
    {
      "cell_type": "code",
      "source": [
        "def align_chord_over_word(word_info):\n",
        "    word = word_info[\"word\"]\n",
        "    word_start = word_info[\"start\"]\n",
        "    word_end = word_info[\"end\"]\n",
        "    chord = word_info[\"chord\"]\n",
        "    chord_start = word_info[\"chord_start\"]\n",
        "    chord_end = word_info[\"chord_end\"]\n",
        "\n",
        "    word_duration = word_end - word_start\n",
        "    ratio = (chord_start - word_start) / word_duration\n",
        "\n",
        "    word_len = len(word)\n",
        "    word_index = int(round(ratio * (word_len - 1)))\n",
        "    word_index = max(0, min(word_index, word_len - 1))\n",
        "\n",
        "    left_padding = \" \" * word_index\n",
        "    chord_with_padding = left_padding + chord\n",
        "\n",
        "    if len(chord_with_padding) < word_len:\n",
        "        chord_with_padding += \" \" * (word_len - len(chord_with_padding))\n",
        "\n",
        "    return chord_with_padding"
      ],
      "metadata": {
        "id": "gCfNfF_RZkkz"
      },
      "execution_count": 62,
      "outputs": []
    },
    {
      "cell_type": "code",
      "execution_count": 49,
      "metadata": {
        "id": "buIiLBaNZxMo"
      },
      "outputs": [],
      "source": [
        "def format_transcribed_with_chords(lyrics_with_chords):\n",
        "    \"\"\"\n",
        "    Gera o formato de saída com acordes acima das palavras.\n",
        "    \"\"\"\n",
        "    formatted_output = []\n",
        "    chord_line = []\n",
        "    lyrics_line = []\n",
        "\n",
        "    current_line = lyrics_with_chords[0][\"line\"]\n",
        "    for word_info in lyrics_with_chords:\n",
        "        if word_info[\"line\"] != current_line:\n",
        "            current_line = word_info[\"line\"]\n",
        "            formatted_output.append(\" \".join(chord_line))\n",
        "            formatted_output.append(\" \".join(lyrics_line))\n",
        "            formatted_output.append(\"\")\n",
        "            chord_line = []\n",
        "            lyrics_line = []\n",
        "\n",
        "        word = word_info[\"word\"]\n",
        "        chord = word_info[\"chord\"]\n",
        "\n",
        "        if chord:\n",
        "            if word == \" \":\n",
        "                chord_line.append(chord)\n",
        "            else:\n",
        "                chord_line.append(align_chord_over_word(word_info))\n",
        "        else:\n",
        "            chord_line.append(\" \" * len(word))\n",
        "\n",
        "        lyrics_line.append(word)\n",
        "\n",
        "    # Adiciona o restante, se existir\n",
        "    if chord_line or lyrics_line:\n",
        "        formatted_output.append(\" \".join(chord_line))\n",
        "        formatted_output.append(\" \".join(lyrics_line))\n",
        "\n",
        "    return \"\\n\".join(formatted_output)"
      ]
    },
    {
      "cell_type": "code",
      "execution_count": 50,
      "metadata": {
        "id": "wLnhceUSZpJk"
      },
      "outputs": [],
      "source": [
        "def format_song_with_chords(timestamped_lyrics_path, lyrics_path, chords_path):\n",
        "    \"\"\"\n",
        "    Formata a LETRA_TRANSCRITA com acordes no formato tradicional de cifras.\n",
        "    \"\"\"\n",
        "    lyrics = parse_lyrics(timestamped_lyrics_path, lyrics_path)\n",
        "    chords = parse_chords(chords_path)\n",
        "\n",
        "    lyrics_with_chords = overlay_chords_on_transcribed(lyrics, chords)\n",
        "\n",
        "    # Formatar saída com acordes e palavras\n",
        "    formatted_output = format_transcribed_with_chords(lyrics_with_chords)\n",
        "    print(formatted_output)\n",
        "    return formatted_output"
      ]
    },
    {
      "cell_type": "markdown",
      "metadata": {
        "id": "V7o6TxxbfP14"
      },
      "source": [
        "\n",
        "\n",
        "---\n",
        "\n"
      ]
    },
    {
      "cell_type": "markdown",
      "metadata": {
        "id": "W0z5vOJAozFP"
      },
      "source": [
        "# Lyrics"
      ]
    },
    {
      "cell_type": "markdown",
      "metadata": {
        "id": "ZF78qPq1jThN"
      },
      "source": [
        "## Lyrics Extraction from Webpage"
      ]
    },
    {
      "cell_type": "code",
      "execution_count": 51,
      "metadata": {
        "id": "wL0E4LfVKC2q"
      },
      "outputs": [],
      "source": [
        "def save_to_file(data, song_name):\n",
        "    folder_path = \"/content/lyrics\"\n",
        "    path = f\"{folder_path}/{song_name}.txt\"\n",
        "\n",
        "    if not os.path.exists(folder_path):\n",
        "        os.makedirs(folder_path)\n",
        "\n",
        "    with open(path, 'w') as file:\n",
        "        file.write(data)\n",
        "\n",
        "    print(f'Saved as {path}')\n",
        "\n",
        "    return path"
      ]
    },
    {
      "cell_type": "code",
      "execution_count": 52,
      "metadata": {
        "id": "_YWO1RLT1tLW"
      },
      "outputs": [],
      "source": [
        "def extract_lyrics_from_html(html):\n",
        "    \"\"\"Extrai a letra da página HTML fornecida\"\"\"\n",
        "\n",
        "    print(f'Fetching lyrics...!\\n\\n')\n",
        "\n",
        "    lyricsTag = html.find('div', class_='lyric-original')\n",
        "    lyrics = \"\"\n",
        "\n",
        "    for p in lyricsTag.find_all('p'):\n",
        "        for br in p.find_all('br'):\n",
        "            br.replace_with('\\n')\n",
        "        lyrics += p.get_text() + \"\\n\"\n",
        "\n",
        "    print(f'Lyrics fetched!\\n\\n')\n",
        "\n",
        "    return lyrics\n"
      ]
    },
    {
      "cell_type": "code",
      "execution_count": 53,
      "metadata": {
        "id": "YVcvT6xqo-Mq"
      },
      "outputs": [],
      "source": [
        "def get_lyrics_from_webpage(lyric_url, song_name):\n",
        "    \"\"\"Obtém a página web e extrai a letra\"\"\"\n",
        "\n",
        "    print(f'Fetching webpage {lyric_url}...\\n\\n')\n",
        "    response = requests.get(lyric_url)\n",
        "\n",
        "    if response.status_code == 200:\n",
        "        print(f'Webpage fetched!\\n\\n')\n",
        "        htmlContent = BeautifulSoup(response.content, 'html.parser')\n",
        "\n",
        "        lyrics = extract_lyrics_from_html(htmlContent)\n",
        "        lyrics_path = save_to_file(lyrics, song_name)\n",
        "\n",
        "        return lyrics_path\n",
        "    else:\n",
        "        print(f\"Failed to fetch the webpage. Status code: {response.status_code}\\n\\n\")"
      ]
    },
    {
      "cell_type": "markdown",
      "metadata": {
        "id": "CIx3RQ3XjS2s"
      },
      "source": [
        "## Lyrics Sync to Audio"
      ]
    },
    {
      "cell_type": "markdown",
      "metadata": {
        "id": "VN-s5WeOZy3I"
      },
      "source": [
        "### Transcription + Manual Adjustment Attempt"
      ]
    },
    {
      "cell_type": "code",
      "execution_count": 54,
      "metadata": {
        "id": "YgTvbwrLEfG5"
      },
      "outputs": [],
      "source": [
        "def adjust_lyrics(transcribed_segments, comparison_lyrics):\n",
        "    \"\"\"Compara a letra transcrita e a letra extraída da Web, corrigindo a letra transcrita\"\"\"\n",
        "\n",
        "    print(f\"Adjusting lyrics...\\n\\n\")\n",
        "\n",
        "    for index, segment in enumerate(transcribed_segments):\n",
        "        try:\n",
        "            line = comparison_lyrics[index]\n",
        "\n",
        "            if segment['text'].lower() != line.lower():\n",
        "                segment['text'] = line\n",
        "\n",
        "            words = line.split()\n",
        "            # Testar com músicas não \"especiais\", mais enxutas\n",
        "            if len(words) != len(segment['words']):\n",
        "                print(f\"Word count mismatch: {len(words)} != {len(segment['words'])}\")\n",
        "                continue\n",
        "\n",
        "            for i, word in enumerate(words):\n",
        "                try:\n",
        "                    transcribed_word = segment['words'][i]['word']\n",
        "\n",
        "                    if transcribed_word.lower().strip() != word.lower():\n",
        "                        print(f\"Word mismatch: {transcribed_word} != {word}\")\n",
        "\n",
        "                        segment['words'][i]['word'] = word\n",
        "                except:\n",
        "                    print(f\"Word not found: {word}\")\n",
        "                    continue\n",
        "        except:\n",
        "            print(f\"Line not found: {segment['text']}\")\n",
        "            continue\n",
        "\n",
        "    print(f\"Lyrics adjusted:\\n{json.dumps(transcribed_lyrics, indent=2)}\\n\\n\")\n",
        "\n",
        "    return transcribed_lyrics"
      ]
    },
    {
      "cell_type": "code",
      "execution_count": 55,
      "metadata": {
        "id": "oOTa6o8oIikX"
      },
      "outputs": [],
      "source": [
        "def transcribe_audio(audio_path):\n",
        "    \"\"\"Transcreve o áudio usando o modelo Whisper\"\"\"\n",
        "\n",
        "    print(f\"Transcribing audio...\\n\\n\")\n",
        "\n",
        "    model = whisper.load_model(\"turbo\", device='cuda')\n",
        "    result = model.transcribe(audio_path, word_timestamps=True)\n",
        "\n",
        "    print(f\"Audio Transcribed!\\n\\n\")\n",
        "\n",
        "    return result['segments']\n"
      ]
    },
    {
      "cell_type": "markdown",
      "metadata": {
        "id": "OfIu0c3tZ62D"
      },
      "source": [
        "### Using Lyrics-Sync"
      ]
    },
    {
      "cell_type": "code",
      "execution_count": 56,
      "metadata": {
        "id": "i3KScyP6anew"
      },
      "outputs": [],
      "source": [
        "def create_output_folder():\n",
        "    output_folder = \"/content/lyrics-sync/output\"\n",
        "    vocals_folder = output_folder + \"/vocals\"\n",
        "    words_folder = output_folder + \"/words\"\n",
        "    lrc_folder = output_folder + \"/lrc\"\n",
        "\n",
        "    if not os.path.exists(output_folder):\n",
        "        os.makedirs(output_folder)\n",
        "\n",
        "    if not os.path.exists(vocals_folder):\n",
        "        os.makedirs(vocals_folder)\n",
        "\n",
        "    if not os.path.exists(words_folder):\n",
        "        os.makedirs(words_folder)\n",
        "\n",
        "    if not os.path.exists(lrc_folder):\n",
        "        os.makedirs(lrc_folder)"
      ]
    },
    {
      "cell_type": "code",
      "execution_count": 57,
      "metadata": {
        "id": "US1WTYy9Z6PE"
      },
      "outputs": [],
      "source": [
        "def get_timestamps(audio_path, lyrics_path, song_name):\n",
        "    print(\"Installing conda...\")\n",
        "    !wget -c https://repo.continuum.io/archive/Anaconda3-2024.10-1-Linux-x86_64.sh\n",
        "    !chmod +x Anaconda3-2024.10-1-Linux-x86_64.sh\n",
        "    !bash ./Anaconda3-2024.10-1-Linux-x86_64.sh -b -f -p /usr/local\n",
        "    print(\"Conda installed!\")\n",
        "\n",
        "    print(\"Installing lsync...\")\n",
        "    %cd /content/lyrics-sync/\n",
        "    !conda env update -f environment.yml\n",
        "    !source activate lsync\n",
        "\n",
        "    print(\"Lsync installed!\")\n",
        "    from lsync import LyricsSync\n",
        "\n",
        "    print(\"Extracting timestamps...\")\n",
        "    lsync = LyricsSync()\n",
        "    words, lrc = lsync.sync(audio_path, lyrics_path)\n",
        "    print(\"Timestamps extracted!\")\n",
        "\n",
        "    return f\"/content/lyrics-sync/output/words/{song_name}.csv\"\n",
        "    %cd .."
      ]
    },
    {
      "cell_type": "code",
      "execution_count": 58,
      "metadata": {
        "id": "8cH5X4rija73"
      },
      "outputs": [],
      "source": [
        "def get_synced_lyrics(lyric_url, audio_path, song_name):\n",
        "    \"\"\"Obtém a letra sincronizada com o áudio e corrigida\"\"\"\n",
        "\n",
        "    print(f\"Getting synced lyrics...\\n\\n\")\n",
        "\n",
        "    lyrics_path = get_lyrics_from_webpage(lyric_url, song_name)\n",
        "    timestamps_path = get_timestamps(audio_path, lyrics_path, song_name)\n",
        "\n",
        "    print(f\"Synced lyrics ready!\\n\\n\")\n",
        "\n",
        "    return timestamps_path"
      ]
    },
    {
      "cell_type": "markdown",
      "metadata": {
        "id": "biZpsy9MfSIw"
      },
      "source": [
        "# MAIN"
      ]
    },
    {
      "cell_type": "code",
      "execution_count": null,
      "metadata": {
        "colab": {
          "base_uri": "https://localhost:8080/"
        },
        "id": "x7p10hwlSAlw",
        "outputId": "e4891243-2f0a-439c-f163-177c0e488704"
      },
      "outputs": [
        {
          "output_type": "stream",
          "name": "stdout",
          "text": [
            "Fetching urls...\n",
            "\n",
            "\n",
            "Urls fetched!\n",
            "\n",
            "\n",
            "Creating SongUrls...\n",
            "\n",
            "\n",
            "SongUrls created!\n",
            "\n",
            "\n",
            "Generating 'petrolina_juazeiro' chord sheet...\n"
          ]
        }
      ],
      "source": [
        "# Extrai dados do csv e converte pra [SongUrls]\n",
        "songs = get_songs_from_csv()\n",
        "\n",
        "song = songs[2]\n",
        "song_name = song.get_name().replace(\" \", \"_\")\n",
        "print(f\"Generating \\'{song_name}\\' chord sheet...\")"
      ]
    },
    {
      "cell_type": "code",
      "execution_count": null,
      "metadata": {
        "id": "RmGDBhEG_Nss"
      },
      "outputs": [],
      "source": [
        "# Baixa músicas do youtube\n",
        "song_path = extract_sound_recording(song.get_audio_url(), song_name)"
      ]
    },
    {
      "cell_type": "code",
      "source": [
        "chords_path = extract_chords_from(song_path, song_name)"
      ],
      "metadata": {
        "id": "P-JJ-IBYiQ07",
        "collapsed": true
      },
      "execution_count": null,
      "outputs": []
    },
    {
      "cell_type": "code",
      "execution_count": null,
      "metadata": {
        "id": "mbyK718z_PL9",
        "collapsed": true
      },
      "outputs": [],
      "source": [
        "# Extrai letras com timestamp\n",
        "create_output_folder()\n",
        "lyrics_timestamped_path = get_synced_lyrics(song.get_lyrics_url(), song_path, song_name)"
      ]
    },
    {
      "cell_type": "code",
      "source": [
        "raw_chords = format_song_with_chords(\"/content/petrolina_juazeiro.csv\", \"/content/Petrolina_Juazeiro.txt\", \"/content/petrolina_juazeiro.lab\")"
      ],
      "metadata": {
        "colab": {
          "base_uri": "https://localhost:8080/"
        },
        "id": "uFeIrVnsnxmY",
        "outputId": "cbb65558-08eb-451e-c9c9-b38a2d5d3316"
      },
      "execution_count": 61,
      "outputs": [
        {
          "output_type": "stream",
          "name": "stdout",
          "text": [
            "Parsing lyrics from /content/Petrolina_Juazeiro.txt...\n",
            "Lyrics Parsed!\n",
            "\n",
            "\n",
            "Parsing chords from /content/petrolina_juazeiro.lab...\n",
            "Chords parsed!\n",
            "\n",
            "\n",
            "[{'start': 0.023219954648526078, 'end': 2.2291156462585033, 'chord': 'Dm'}, {'start': 2.2291156462585033, 'end': 3.9938321995464854, 'chord': 'Am'}, {'start': 3.9938321995464854, 'end': 5.6656689342403626, 'chord': 'E7'}, {'start': 5.6656689342403626, 'end': 7.4071655328798185, 'chord': 'Am'}, {'start': 7.4071655328798185, 'end': 9.148662131519275, 'chord': 'Dm'}, {'start': 9.148662131519275, 'end': 10.936598639455783, 'chord': 'Am'}, {'start': 10.936598639455783, 'end': 12.60843537414966, 'chord': 'E7'}, {'start': 12.60843537414966, 'end': 14.396371882086168, 'chord': 'Am'}, {'start': 14.396371882086168, 'end': 15.27873015873016, 'chord': 'D/3'}, {'start': 15.27873015873016, 'end': 16.137868480725626, 'chord': 'E/3'}, {'start': 16.137868480725626, 'end': 17.740045351473924, 'chord': 'Am'}, {'start': 17.740045351473924, 'end': 19.574421768707484, 'chord': 'E'}, {'start': 19.574421768707484, 'end': 20.96761904761905, 'chord': 'Am'}, {'start': 20.96761904761905, 'end': 23.08063492063492, 'chord': 'E'}, {'start': 23.08063492063492, 'end': 24.752471655328797, 'chord': 'Am'}, {'start': 24.752471655328797, 'end': 26.51718820861678, 'chord': 'Dm'}, {'start': 26.51718820861678, 'end': 27.86394557823129, 'chord': 'Am'}, {'start': 27.86394557823129, 'end': 30.046621315192745, 'chord': 'E'}, {'start': 30.046621315192745, 'end': 31.74167800453515, 'chord': 'Am'}, {'start': 31.74167800453515, 'end': 33.3902947845805, 'chord': 'Dm'}, {'start': 33.3902947845805, 'end': 35.015691609977324, 'chord': 'Am'}, {'start': 35.015691609977324, 'end': 36.989387755102044, 'chord': 'E'}, {'start': 36.989387755102044, 'end': 38.33614512471655, 'chord': 'Am'}, {'start': 38.33614512471655, 'end': 40.44916099773243, 'chord': 'E'}, {'start': 40.44916099773243, 'end': 41.81913832199547, 'chord': 'Am'}, {'start': 41.81913832199547, 'end': 43.932154195011336, 'chord': 'E'}, {'start': 43.932154195011336, 'end': 45.627210884353744, 'chord': 'Am'}, {'start': 45.627210884353744, 'end': 47.41514739229025, 'chord': 'Dm'}, {'start': 47.41514739229025, 'end': 49.15664399092971, 'chord': 'Am'}, {'start': 49.15664399092971, 'end': 50.01578231292517, 'chord': 'Dm'}, {'start': 50.01578231292517, 'end': 50.89814058956916, 'chord': 'E'}, {'start': 50.89814058956916, 'end': 52.63963718820862, 'chord': 'Am'}, {'start': 52.63963718820862, 'end': 53.98639455782313, 'chord': 'Dm'}, {'start': 53.98639455782313, 'end': 56.076190476190476, 'chord': 'Am'}, {'start': 56.076190476190476, 'end': 57.02820861678005, 'chord': 'Dm'}, {'start': 57.02820861678005, 'end': 57.86412698412698, 'chord': 'E'}, {'start': 57.86412698412698, 'end': 59.55918367346939, 'chord': 'Am'}, {'start': 59.55918367346939, 'end': 60.929160997732424, 'chord': 'Dm'}, {'start': 60.929160997732424, 'end': 63.018956916099775, 'chord': 'Am'}, {'start': 63.018956916099775, 'end': 64.78367346938775, 'chord': 'E7'}, {'start': 64.78367346938775, 'end': 66.52517006802721, 'chord': 'Am'}, {'start': 66.52517006802721, 'end': 67.96480725623583, 'chord': 'Dm'}, {'start': 67.96480725623583, 'end': 69.9849433106576, 'chord': 'Am'}, {'start': 69.9849433106576, 'end': 71.74965986394558, 'chord': 'E7'}, {'start': 71.74965986394558, 'end': 73.51437641723356, 'chord': 'Am'}, {'start': 73.51437641723356, 'end': 74.81469387755102, 'chord': 'Dm'}, {'start': 74.81469387755102, 'end': 76.92770975056689, 'chord': 'Am'}, {'start': 76.92770975056689, 'end': 78.76208616780046, 'chord': 'E7'}, {'start': 78.76208616780046, 'end': 80.43392290249433, 'chord': 'Am'}, {'start': 80.43392290249433, 'end': 81.36272108843538, 'chord': 'Dm'}, {'start': 81.36272108843538, 'end': 82.19863945578231, 'chord': 'G7'}, {'start': 82.19863945578231, 'end': 83.08099773242631, 'chord': 'C'}, {'start': 83.08099773242631, 'end': 84.03301587301587, 'chord': 'F'}, {'start': 84.03301587301587, 'end': 84.82249433106576, 'chord': 'Bm7(b5)'}, {'start': 84.82249433106576, 'end': 85.70485260770975, 'chord': 'E7'}, {'start': 85.70485260770975, 'end': 87.42312925170069, 'chord': 'Am'}, {'start': 87.42312925170069, 'end': 89.11818594104308, 'chord': 'E'}, {'start': 89.11818594104308, 'end': 90.4649433106576, 'chord': 'Am'}, {'start': 90.4649433106576, 'end': 92.64761904761905, 'chord': 'E'}, {'start': 92.64761904761905, 'end': 93.99437641723357, 'chord': 'Am'}, {'start': 93.99437641723357, 'end': 96.10739229024944, 'chord': 'E'}, {'start': 96.10739229024944, 'end': 97.43092970521542, 'chord': 'Am'}, {'start': 97.43092970521542, 'end': 99.59038548752835, 'chord': 'E'}, {'start': 99.59038548752835, 'end': 101.33188208616781, 'chord': 'Am'}, {'start': 101.33188208616781, 'end': 103.11981859410432, 'chord': 'Dm'}, {'start': 103.11981859410432, 'end': 104.86131519274376, 'chord': 'Am'}, {'start': 104.86131519274376, 'end': 106.55637188208617, 'chord': 'E7'}, {'start': 106.55637188208617, 'end': 108.2746485260771, 'chord': 'Am'}, {'start': 108.2746485260771, 'end': 110.01614512471656, 'chord': 'Dm'}, {'start': 110.01614512471656, 'end': 111.80408163265307, 'chord': 'Am'}, {'start': 111.80408163265307, 'end': 113.47591836734694, 'chord': 'E7'}, {'start': 113.47591836734694, 'end': 115.26385487528344, 'chord': 'Am'}, {'start': 115.26385487528344, 'end': 116.12299319727892, 'chord': 'D/3'}, {'start': 116.12299319727892, 'end': 116.95891156462585, 'chord': 'E/3'}, {'start': 116.95891156462585, 'end': 118.67718820861678, 'chord': 'Am'}, {'start': 118.67718820861678, 'end': 120.44190476190477, 'chord': 'E'}, {'start': 120.44190476190477, 'end': 122.13696145124717, 'chord': 'Am'}, {'start': 122.13696145124717, 'end': 123.92489795918368, 'chord': 'E'}, {'start': 123.92489795918368, 'end': 125.6431746031746, 'chord': 'Am'}, {'start': 125.6431746031746, 'end': 127.26857142857143, 'chord': 'Dm'}, {'start': 127.26857142857143, 'end': 128.7546485260771, 'chord': 'Am'}, {'start': 128.7546485260771, 'end': 130.91410430839002, 'chord': 'E'}, {'start': 130.91410430839002, 'end': 132.5859410430839, 'chord': 'Am'}, {'start': 132.5859410430839, 'end': 134.002358276644, 'chord': 'Dm'}, {'start': 134.002358276644, 'end': 135.6974149659864, 'chord': 'Am'}, {'start': 135.6974149659864, 'end': 137.8336507936508, 'chord': 'E'}, {'start': 137.8336507936508, 'end': 139.22684807256235, 'chord': 'Am'}, {'start': 139.22684807256235, 'end': 141.33986394557823, 'chord': 'E'}, {'start': 141.33986394557823, 'end': 142.8259410430839, 'chord': 'Am'}, {'start': 142.8259410430839, 'end': 144.82285714285715, 'chord': 'E'}, {'start': 144.82285714285715, 'end': 146.4714739229025, 'chord': 'Am'}, {'start': 146.4714739229025, 'end': 148.23619047619047, 'chord': 'Dm'}, {'start': 148.23619047619047, 'end': 149.95446712018142, 'chord': 'Am'}, {'start': 149.95446712018142, 'end': 150.92970521541952, 'chord': 'Dm'}, {'start': 150.92970521541952, 'end': 151.74240362811793, 'chord': 'E'}, {'start': 151.74240362811793, 'end': 153.48390022675738, 'chord': 'Am'}, {'start': 153.48390022675738, 'end': 155.17895691609976, 'chord': 'Dm'}, {'start': 155.17895691609976, 'end': 156.92045351473922, 'chord': 'Am'}, {'start': 156.92045351473922, 'end': 157.84925170068027, 'chord': 'Dm'}, {'start': 157.84925170068027, 'end': 158.68517006802722, 'chord': 'E'}, {'start': 158.68517006802722, 'end': 160.4498866213152, 'chord': 'Am'}, {'start': 160.4498866213152, 'end': 162.12172335600908, 'chord': 'Dm'}, {'start': 162.12172335600908, 'end': 163.9328798185941, 'chord': 'Am'}, {'start': 163.9328798185941, 'end': 165.65115646258505, 'chord': 'E7'}, {'start': 165.65115646258505, 'end': 167.3926530612245, 'chord': 'Am'}, {'start': 167.3926530612245, 'end': 169.13414965986394, 'chord': 'Dm'}, {'start': 169.13414965986394, 'end': 170.6202267573696, 'chord': 'Am'}, {'start': 170.6202267573696, 'end': 172.59392290249434, 'chord': 'E7'}, {'start': 172.59392290249434, 'end': 174.3586394557823, 'chord': 'Am'}, {'start': 174.3586394557823, 'end': 175.63573696145124, 'chord': 'Dm'}, {'start': 175.63573696145124, 'end': 177.86485260770976, 'chord': 'Am'}, {'start': 177.86485260770976, 'end': 179.60634920634922, 'chord': 'E7'}, {'start': 179.60634920634922, 'end': 181.32462585034014, 'chord': 'Am'}, {'start': 181.32462585034014, 'end': 182.1837641723356, 'chord': 'Dm'}, {'start': 182.1837641723356, 'end': 183.0661224489796, 'chord': 'G'}, {'start': 183.0661224489796, 'end': 183.9484807256236, 'chord': 'C'}, {'start': 183.9484807256236, 'end': 184.90049886621316, 'chord': 'F'}, {'start': 184.90049886621316, 'end': 185.64353741496598, 'chord': 'Bm7(b5)'}, {'start': 185.64353741496598, 'end': 186.57233560090702, 'chord': 'E'}, {'start': 186.57233560090702, 'end': 188.24417233560092, 'chord': 'Am'}, {'start': 188.24417233560092, 'end': 190.07854875283448, 'chord': 'E7'}, {'start': 190.07854875283448, 'end': 191.37886621315192, 'chord': 'Am'}, {'start': 191.37886621315192, 'end': 193.4918820861678, 'chord': 'E'}, {'start': 193.4918820861678, 'end': 194.9082993197279, 'chord': 'Am'}, {'start': 194.9082993197279, 'end': 196.95165532879818, 'chord': 'E'}, {'start': 196.95165532879818, 'end': 198.43773242630385, 'chord': 'Am'}, {'start': 198.43773242630385, 'end': 200.48108843537415, 'chord': 'E'}, {'start': 200.48108843537415, 'end': 202.08326530612246, 'chord': 'Am'}, {'start': 202.08326530612246, 'end': 203.94086167800455, 'chord': 'E'}, {'start': 203.94086167800455, 'end': 205.63591836734693, 'chord': 'Am'}, {'start': 205.63591836734693, 'end': 207.44707482993198, 'chord': 'E'}, {'start': 207.44707482993198, 'end': 208.86349206349206, 'chord': 'Am'}, {'start': 208.86349206349206, 'end': 211.022947845805, 'chord': 'E'}, {'start': 211.022947845805, 'end': 211.905306122449, 'chord': 'Am'}]\n",
            "Overlaying chords on lyrics...\n",
            "Chords overlayed!\n",
            "\n",
            "\n",
            "Am                E            Am\n",
            "           Na margem do São Francisco, nasceu a beleza\n",
            "\n",
            "    E          Am\n",
            "E a natureza ela conservou\n",
            "\n",
            "          Dm                Am\n",
            "Jesus abençoou com sua mão divina\n",
            "\n",
            "               E                             Am\n",
            "Pra não morrer de saudade, vou voltar pra Petrolina\n",
            "\n",
            "            Dm                Am\n",
            "(Jesus abençoou com sua mão divina)\n",
            "\n",
            "                   E                     Am\n",
            "(Pra não morrer de saudade, vou voltar pra Petrolina)\n",
            "\n",
            "           E                    Am\n",
            "Do outro lado do rio, tem uma cidade\n",
            "\n",
            "              E                  Am\n",
            "Que na minha mocidade eu visitava todo dia\n",
            "\n",
            "              Dm             Am\n",
            "Atravessava a  ponte, ai, que alegria!\n",
            "\n",
            "                Dm     E     Am\n",
            "Chegava em Juazeiro, Juazeiro da Bahia\n",
            "\n",
            "                Dm            Am\n",
            "(Atravessava a ponte, ai, que alegria!)\n",
            "\n",
            "               Dm      E     Am\n",
            "(Chegava em Juazeiro, Juazeiro da Bahia)\n",
            "\n",
            "         Dm               Am        \n",
            "Hoje me lembro que no tempo de criança\n",
            "\n",
            "                  E7               Am\n",
            "Esquisito era a carranca e o apito do trem\n",
            "\n",
            "           Dm                 Am\n",
            "Mas achava lindo quando a ponte levantava\n",
            "\n",
            "            E7                   Am\n",
            "E o vapor passava num gostoso vai e vem\n",
            "\n",
            "   Dm Am   E7    Am\n",
            "Petrolina, Juazeiro, Juazeiro, Petrolina\n",
            "\n",
            "      Dm      G7            C\n",
            "Todas duas eu acho uma coisa linda\n",
            "\n",
            "      F         Bm7(b5)     E7      Am\n",
            "Eu gosto de Juazeiro e adoro Petrolina\n",
            "\n",
            "               E     Am   E\n",
            "Eu gosto de Juazeiro (e adoro Petrolina)\n",
            "\n",
            " Am            E               Am\n",
            "Eu gosto de Juazeiro (e adoro Petrolina)\n",
            "\n",
            "          E                Am\n",
            "Gosto de Juazeiro (e adoro Petrolina)\n",
            "\n",
            "Am                   E            Am\n",
            "         Na margem do São Francisco, nasceu a beleza\n",
            "\n",
            "        E          Am\n",
            "E a natureza ela conservou\n",
            "\n",
            "            Dm                Am\n",
            "Jesus abençoou com sua mão divina\n",
            "\n",
            "                E                              Am\n",
            "Pra não morrer de saudade, vou voltar pra Petrolina\n",
            "\n",
            "             Dm                 Am\n",
            "(Jesus abençoou com sua mão divina)\n",
            "\n",
            "                   E                       Am\n",
            "(Pra não morrer de  saudade, vou voltar pra Petrolina)\n",
            "\n",
            "              E                  Am\n",
            "Do outro lado do rio, tem uma cidade\n",
            "\n",
            "                E                   Am\n",
            "Que na minha mocidade eu visitava todo dia\n",
            "\n",
            "               Dm              Am\n",
            "Atravessava a ponte, ai, que alegria!\n",
            "\n",
            "                Dm       E     Am\n",
            "Chegava em Juazeiro, Juazeiro da Bahia\n",
            "\n",
            "                 Dm              Am\n",
            "(Atravessava a ponte, ai, que alegria!)\n",
            "\n",
            "                 Dm       E      Am\n",
            "(Chegava em Juazeiro, Juazeiro da Bahia)\n",
            "\n",
            "           Dm                     Am\n",
            "Hoje me lembro que no tempo de criança\n",
            "\n",
            "                   E7               Am\n",
            "Esquisito era a carranca e o apito do trem\n",
            "\n",
            "             Dm                    Am\n",
            "Mas achava lindo quando a ponte levantava\n",
            "\n",
            "            E7                   Am\n",
            "E o vapor passava num gostoso vai e vem\n",
            "\n",
            "    Dm  Am    E7        Am\n",
            "Petrolina, Juazeiro, Juazeiro, Petrolina\n",
            "\n",
            "        Dm         G         C\n",
            "Todas duas eu acho uma coisa linda\n",
            "\n",
            "         F        Bm7(b5)      E        Am\n",
            "Eu gosto de Juazeiro e adoro Petrolina\n",
            "\n",
            "                 E7                    \n",
            "Eu gosto de Juazeiro (e adoro Petrolina)\n",
            "\n",
            "Am            E                Am\n",
            "Eu gosto de Juazeiro (e adoro Petrolina)\n",
            "\n",
            "            E               Am\n",
            "Gosto de Juazeiro (e adoro Petrolina)\n",
            "\n",
            "                 E                    \n",
            "É, eu gosto de Juazeiro (e adoro Petrolina)\n",
            "\n",
            "Am                       E           \n",
            "Eu gosto de Juazeiro (e adoro Petrolina)\n",
            "\n",
            "       Am                          E\n",
            "Gosto de Juazeiro (e adoro Petrolina)\n",
            "\n",
            "                  E\n",
            "Oh (e adoro Petrolina)\n"
          ]
        }
      ]
    }
  ],
  "metadata": {
    "colab": {
      "collapsed_sections": [
        "qbGwo2vNqudH",
        "FYsWox4DJ_Mj",
        "kJQrqqnqj4wS",
        "TmRxoN7QjjZ0",
        "b3l19J0kS3al",
        "W0z5vOJAozFP",
        "ZF78qPq1jThN",
        "VN-s5WeOZy3I",
        "OfIu0c3tZ62D"
      ],
      "provenance": [],
      "mount_file_id": "1msdkJM5knwy1ej2JoyDhaSCQse9yRLwk",
      "authorship_tag": "ABX9TyMIguWjJGiy0hYFcihXx9b5",
      "include_colab_link": true
    },
    "kernelspec": {
      "display_name": "Python 3",
      "name": "python3"
    },
    "language_info": {
      "name": "python"
    }
  },
  "nbformat": 4,
  "nbformat_minor": 0
}